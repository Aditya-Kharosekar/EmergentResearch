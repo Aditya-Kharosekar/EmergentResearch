{
 "cells": [
  {
   "cell_type": "code",
   "execution_count": 1,
   "metadata": {
    "collapsed": false
   },
   "outputs": [
    {
     "name": "stdout",
     "output_type": "stream",
     "text": [
      "/Users/williamferreira/Dropbox/mscproject/src\n"
     ]
    }
   ],
   "source": [
    "cd ../src"
   ]
  },
  {
   "cell_type": "code",
   "execution_count": 2,
   "metadata": {
    "collapsed": true
   },
   "outputs": [],
   "source": [
    "from model.utils import get_ppdb_data"
   ]
  },
  {
   "cell_type": "code",
   "execution_count": 3,
   "metadata": {
    "collapsed": true
   },
   "outputs": [],
   "source": [
    "ppdb_data = get_ppdb_data()"
   ]
  },
  {
   "cell_type": "code",
   "execution_count": 8,
   "metadata": {
    "collapsed": true
   },
   "outputs": [],
   "source": [
    "from model.utils import get_stanparse_data"
   ]
  },
  {
   "cell_type": "code",
   "execution_count": 9,
   "metadata": {
    "collapsed": true
   },
   "outputs": [],
   "source": [
    "stanparse_data = get_stanparse_data()"
   ]
  },
  {
   "cell_type": "code",
   "execution_count": 17,
   "metadata": {
    "collapsed": false
   },
   "outputs": [],
   "source": [
    "id = stanparse_data.keys()[3]"
   ]
  },
  {
   "cell_type": "code",
   "execution_count": 19,
   "metadata": {
    "collapsed": false
   },
   "outputs": [],
   "source": [
    "from model.utils import get_stanparse_depths"
   ]
  },
  {
   "cell_type": "code",
   "execution_count": 20,
   "metadata": {
    "collapsed": true
   },
   "outputs": [],
   "source": [
    "stanparse_depths = get_stanparse_depths()"
   ]
  },
  {
   "cell_type": "code",
   "execution_count": 22,
   "metadata": {
    "collapsed": false
   },
   "outputs": [
    {
     "data": {
      "text/plain": [
       "{0: ({0: {3}, 3: {1, 2, 5}, 5: {7}, 7: {6, 9}, 9: {8, 10}, 10: {12}},\n",
       "  {(0, 3): u'root',\n",
       "   (3, 1): u'nn',\n",
       "   (3, 2): u'nn',\n",
       "   (3, 5): u'dep',\n",
       "   (5, 7): u'rcmod',\n",
       "   (7, 6): u'nsubj',\n",
       "   (7, 9): u'dobj',\n",
       "   (9, 8): u'nn',\n",
       "   (9, 10): u'vmod',\n",
       "   (10, 12): u'prep_in'},\n",
       "  {0: 0, 1: 2, 2: 2, 3: 1, 5: 2, 6: 4, 7: 3, 8: 5, 9: 4, 10: 5, 12: 6})}"
      ]
     },
     "execution_count": 22,
     "metadata": {},
     "output_type": "execute_result"
    }
   ],
   "source": [
    "dep = stanparse_depths[id]\n",
    "dep"
   ]
  },
  {
   "cell_type": "code",
   "execution_count": 36,
   "metadata": {
    "collapsed": true
   },
   "outputs": [],
   "source": [
    "def get_word_in_sentence_at_pos(id, s_num, pos):\n",
    "    stanparse_data = get_stanparse_data()\n",
    "    sentence = stanparse_data[id]['sentences'][s_num]\n",
    "    return sentence['words'][pos-1][1]['Lemma'].lower()"
   ]
  },
  {
   "cell_type": "code",
   "execution_count": 38,
   "metadata": {
    "collapsed": false
   },
   "outputs": [
    {
     "data": {
      "text/plain": [
       "u'claim'"
      ]
     },
     "execution_count": 38,
     "metadata": {},
     "output_type": "execute_result"
    }
   ],
   "source": [
    "get_word_in_sentence_at_pos(id, 0, 7)"
   ]
  },
  {
   "cell_type": "code",
   "execution_count": 23,
   "metadata": {
    "collapsed": false
   },
   "outputs": [
    {
     "data": {
      "text/plain": [
       "{u'sentences': [{u'dependencies': [[u'root', u'ROOT-0', u'hoax-3'],\n",
       "    [u'nn', u'hoax-3', u'Banksy-1'],\n",
       "    [u'nn', u'hoax-3', u'arrest-2'],\n",
       "    [u'dep', u'hoax-3', u'US-5'],\n",
       "    [u'nsubj', u'claims-7', u'website-6'],\n",
       "    [u'rcmod', u'US-5', u'claims-7'],\n",
       "    [u'nn', u'artist-9', u'street-8'],\n",
       "    [u'dobj', u'claims-7', u'artist-9'],\n",
       "    [u'vmod', u'artist-9', u'caught-10'],\n",
       "    [u'prep_in', u'caught-10', u'Watford-12']],\n",
       "   u'parsetree': u'(ROOT (NP (NP (NNP Banksy) (NN arrest) (NN hoax)) (: :) (NP (NP (NNP US)) (SBAR (S (NP (NN website)) (VP (VBZ claims) (NP (NP (NN street) (NN artist)) (VP (VBN caught) (PP (IN in) (NP (NNP Watford)))))))))))',\n",
       "   u'text': u'Banksy arrest hoax: US website claims street artist caught in Watford',\n",
       "   u'words': [[u'Banksy',\n",
       "     {u'CharacterOffsetBegin': u'0',\n",
       "      u'CharacterOffsetEnd': u'6',\n",
       "      u'Lemma': u'Banksy',\n",
       "      u'NamedEntityTag': u'PERSON',\n",
       "      u'PartOfSpeech': u'NNP'}],\n",
       "    [u'arrest',\n",
       "     {u'CharacterOffsetBegin': u'7',\n",
       "      u'CharacterOffsetEnd': u'13',\n",
       "      u'Lemma': u'arrest',\n",
       "      u'NamedEntityTag': u'O',\n",
       "      u'PartOfSpeech': u'NN'}],\n",
       "    [u'hoax',\n",
       "     {u'CharacterOffsetBegin': u'14',\n",
       "      u'CharacterOffsetEnd': u'18',\n",
       "      u'Lemma': u'hoax',\n",
       "      u'NamedEntityTag': u'O',\n",
       "      u'PartOfSpeech': u'NN'}],\n",
       "    [u':',\n",
       "     {u'CharacterOffsetBegin': u'18',\n",
       "      u'CharacterOffsetEnd': u'19',\n",
       "      u'Lemma': u':',\n",
       "      u'NamedEntityTag': u'O',\n",
       "      u'PartOfSpeech': u':'}],\n",
       "    [u'US',\n",
       "     {u'CharacterOffsetBegin': u'20',\n",
       "      u'CharacterOffsetEnd': u'22',\n",
       "      u'Lemma': u'US',\n",
       "      u'NamedEntityTag': u'LOCATION',\n",
       "      u'PartOfSpeech': u'NNP'}],\n",
       "    [u'website',\n",
       "     {u'CharacterOffsetBegin': u'23',\n",
       "      u'CharacterOffsetEnd': u'30',\n",
       "      u'Lemma': u'website',\n",
       "      u'NamedEntityTag': u'O',\n",
       "      u'PartOfSpeech': u'NN'}],\n",
       "    [u'claims',\n",
       "     {u'CharacterOffsetBegin': u'31',\n",
       "      u'CharacterOffsetEnd': u'37',\n",
       "      u'Lemma': u'claim',\n",
       "      u'NamedEntityTag': u'O',\n",
       "      u'PartOfSpeech': u'VBZ'}],\n",
       "    [u'street',\n",
       "     {u'CharacterOffsetBegin': u'38',\n",
       "      u'CharacterOffsetEnd': u'44',\n",
       "      u'Lemma': u'street',\n",
       "      u'NamedEntityTag': u'O',\n",
       "      u'PartOfSpeech': u'NN'}],\n",
       "    [u'artist',\n",
       "     {u'CharacterOffsetBegin': u'45',\n",
       "      u'CharacterOffsetEnd': u'51',\n",
       "      u'Lemma': u'artist',\n",
       "      u'NamedEntityTag': u'O',\n",
       "      u'PartOfSpeech': u'NN'}],\n",
       "    [u'caught',\n",
       "     {u'CharacterOffsetBegin': u'52',\n",
       "      u'CharacterOffsetEnd': u'58',\n",
       "      u'Lemma': u'catch',\n",
       "      u'NamedEntityTag': u'O',\n",
       "      u'PartOfSpeech': u'VBN'}],\n",
       "    [u'in',\n",
       "     {u'CharacterOffsetBegin': u'59',\n",
       "      u'CharacterOffsetEnd': u'61',\n",
       "      u'Lemma': u'in',\n",
       "      u'NamedEntityTag': u'O',\n",
       "      u'PartOfSpeech': u'IN'}],\n",
       "    [u'Watford',\n",
       "     {u'CharacterOffsetBegin': u'62',\n",
       "      u'CharacterOffsetEnd': u'69',\n",
       "      u'Lemma': u'Watford',\n",
       "      u'NamedEntityTag': u'LOCATION',\n",
       "      u'PartOfSpeech': u'NNP'}]]}]}"
      ]
     },
     "execution_count": 23,
     "metadata": {},
     "output_type": "execute_result"
    }
   ],
   "source": [
    "stanparse_data[id]"
   ]
  },
  {
   "cell_type": "code",
   "execution_count": 39,
   "metadata": {
    "collapsed": false
   },
   "outputs": [
    {
     "data": {
      "text/plain": [
       "[('loving', 3.44406, 'OtherRelated'),\n",
       " ('like', 3.22034, 'Independent'),\n",
       " ('loves', 2.97054, 'Equivalence'),\n",
       " ('beloved', 2.75429, 'ReverseEntailment'),\n",
       " ('sweet', 2.20022, 'OtherRelated'),\n",
       " ('favorite', 2.10909, 'Independent'),\n",
       " ('iove', 2.00716, 'Independent'),\n",
       " ('fond', 1.84802, 'OtherRelated'),\n",
       " ('romantic', 1.65626, 'OtherRelated'),\n",
       " ('loves', 6.26484, 'ForwardEntailment'),\n",
       " ('-love', 3.13419, 'OtherRelated'),\n",
       " ('chuckles', 2.55762, 'Independent'),\n",
       " ('romance', 2.52716, 'OtherRelated'),\n",
       " ('likes', 2.49761, 'Independent'),\n",
       " ('like', 2.49761, 'Independent'),\n",
       " ('beloved', 2.3886, 'ReverseEntailment'),\n",
       " ('loving', 2.35619, 'OtherRelated'),\n",
       " ('iove', 2.12259, 'Independent'),\n",
       " ('honey', 2.09327, 'Independent'),\n",
       " ('amour', 2.08761, 'Independent'),\n",
       " ('dear', 2.07402, 'OtherRelated'),\n",
       " ('amor', 1.97347, 'Independent'),\n",
       " ('caring', 1.91237, 'OtherRelated'),\n",
       " (\"'amour\", 1.79659, 'Independent'),\n",
       " ('darling', 1.7833, 'OtherRelated'),\n",
       " ('sweetheart', 1.77217, 'OtherRelated'),\n",
       " ('oi', 1.7222, 'Independent'),\n",
       " ('amore', 1.70562, 'OtherRelated'),\n",
       " ('christ', 1.60725, 'OtherRelated'),\n",
       " ('affection', 1.48288, 'OtherRelated'),\n",
       " ('sweetie', 1.47707, 'Independent'),\n",
       " ('valentine', 1.46076, 'Independent'),\n",
       " ('baby', 1.42899, 'Independent'),\n",
       " ('sake', 1.42155, 'OtherRelated'),\n",
       " ('aime', 1.40778, 'OtherRelated'),\n",
       " ('pleasure', 1.38211, 'Independent'),\n",
       " ('caritas', 1.3006, 'Independent'),\n",
       " ('iike', 1.29255, 'Independent'),\n",
       " ('aim\\xc3\\xa9', 1.27456, 'Independent'),\n",
       " ('god', 1.24924, 'Independent'),\n",
       " ('ch\\xc3\\xa9ri', 1.24755, 'Independent'),\n",
       " ('loved', 1.22288, 'Equivalence'),\n",
       " ('condition', 1.13345, 'Independent'),\n",
       " ('ae', 1.10773, 'Independent'),\n",
       " ('noah', 1.10714, 'Independent'),\n",
       " ('estonia', 1.08981, 'Independent'),\n",
       " ('ireland', 1.08547, 'Independent'),\n",
       " ('pete', 1.06211, 'Independent'),\n",
       " ('babe', 1.05839, 'Independent'),\n",
       " ('eduard', 1.03463, 'Independent'),\n",
       " ('amar', 1.03443, 'Independent'),\n",
       " ('me', 1.0005, 'Independent'),\n",
       " ('edvard', 0.96677, 'Independent'),\n",
       " ('emotional', 0.91426, 'Independent'),\n",
       " ('kisses', 0.89139, 'Independent'),\n",
       " ('kiss', 0.89139, 'Independent'),\n",
       " ('margie', 0.8541, 'OtherRelated'),\n",
       " ('eros', 0.84743, 'OtherRelated'),\n",
       " ('philharmonic', 0.7979, 'Independent'),\n",
       " ('hon', 0.66155, 'Independent'),\n",
       " ('rak', 0.54501, 'Independent'),\n",
       " ('chattering', 0.18802, 'Independent'),\n",
       " ('enjoys', 0.10424, 'Independent'),\n",
       " ('lovers', 4.73296, 'ReverseEntailment'),\n",
       " ('desires', 3.79379, 'ForwardEntailment'),\n",
       " ('sakes', 3.10132, 'OtherRelated'),\n",
       " ('eros', 2.80957, 'OtherRelated'),\n",
       " ('feelings', 1.84309, 'Independent'),\n",
       " ('loves', 6.94159, 'ForwardEntailment'),\n",
       " ('lover', 3.95575, 'ReverseEntailment'),\n",
       " ('likes', 3.87937, 'Independent'),\n",
       " ('loving', 3.41122, 'OtherRelated'),\n",
       " ('passion', 3.28633, 'OtherRelated'),\n",
       " ('beloved', 3.20892, 'ReverseEntailment'),\n",
       " ('romance', 3.18114, 'OtherRelated'),\n",
       " ('affection', 3.05269, 'OtherRelated'),\n",
       " ('crying', 3.01758, 'OtherRelated'),\n",
       " ('sex', 2.91283, 'OtherRelated'),\n",
       " ('dearest', 2.78691, 'Independent'),\n",
       " ('dear', 2.76454, 'OtherRelated'),\n",
       " ('sweetheart', 2.70338, 'OtherRelated'),\n",
       " ('honey', 2.6994, 'Independent'),\n",
       " ('darling', 2.61823, 'OtherRelated'),\n",
       " ('devotion', 2.61142, 'OtherRelated'),\n",
       " ('feeling', 2.56569, 'Independent'),\n",
       " ('amor', 2.52598, 'Independent'),\n",
       " ('iove', 2.51979, 'Independent'),\n",
       " ('amour', 2.42312, 'Independent'),\n",
       " ('treasure', 2.38186, 'Independent'),\n",
       " ('caring', 2.3774, 'OtherRelated'),\n",
       " ('crush', 2.30883, 'Independent'),\n",
       " ('favorite', 2.25177, 'Independent'),\n",
       " ('fondness', 2.22929, 'OtherRelated'),\n",
       " ('heaven', 2.21861, 'OtherRelated'),\n",
       " (\"'amour\", 2.21701, 'Independent'),\n",
       " ('friendship', 2.19434, 'Independent'),\n",
       " ('heart', 2.13832, 'OtherRelated'),\n",
       " ('pleasure', 2.13067, 'Independent'),\n",
       " ('sake', 2.13047, 'OtherRelated'),\n",
       " ('worship', 2.08431, 'OtherRelated'),\n",
       " ('baby', 2.05385, 'Independent'),\n",
       " ('liking', 2.04758, 'OtherRelated'),\n",
       " ('sweetie', 2.04209, 'Independent'),\n",
       " ('fond', 2.03921, 'OtherRelated'),\n",
       " ('taste', 2.00975, 'Independent'),\n",
       " ('oi', 2.00262, 'Independent'),\n",
       " ('doll', 2.00246, 'OtherRelated'),\n",
       " ('angel', 1.99858, 'Independent'),\n",
       " ('favourite', 1.99765, 'Independent'),\n",
       " ('goodness', 1.96767, 'Independent'),\n",
       " ('sentiment', 1.96109, 'Independent'),\n",
       " ('admiration', 1.94715, 'OtherRelated'),\n",
       " ('kindness', 1.93354, 'OtherRelated'),\n",
       " ('girl', 1.91192, 'OtherRelated'),\n",
       " ('compassion', 1.89056, 'Independent'),\n",
       " ('sympathy', 1.88056, 'Independent'),\n",
       " ('charity', 1.85062, 'OtherRelated'),\n",
       " ('beautiful', 1.82909, 'Independent'),\n",
       " ('lightning', 1.8174, 'Independent'),\n",
       " ('fraternity', 1.80626, 'OtherRelated'),\n",
       " ('hobby', 1.76126, 'OtherRelated'),\n",
       " ('care', 1.74358, 'Independent'),\n",
       " ('condition', 1.73366, 'Independent'),\n",
       " ('pussycat', 1.73021, 'Independent'),\n",
       " ('amity', 1.7022, 'Independent'),\n",
       " ('babe', 1.70208, 'Independent'),\n",
       " ('cabbage', 1.67474, 'Independent'),\n",
       " ('ailment', 1.67425, 'Independent'),\n",
       " ('treasury', 1.65383, 'Independent'),\n",
       " ('kiss', 1.65352, 'Independent'),\n",
       " ('affinity', 1.64994, 'Independent'),\n",
       " ('iover', 1.63893, 'Independent'),\n",
       " ('god', 1.62591, 'Independent'),\n",
       " ('flame', 1.58821, 'Independent'),\n",
       " ('hon', 1.56119, 'Independent'),\n",
       " ('expensive', 1.51987, 'Independent'),\n",
       " ('me', 1.47609, 'Independent'),\n",
       " ('man', 1.45354, 'Independent'),\n",
       " ('chip', 1.40444, 'Independent'),\n",
       " ('hug', 1.3932, 'Independent'),\n",
       " ('magnet', 1.23165, 'Independent'),\n",
       " ('tenderness', 0.9665, 'OtherRelated'),\n",
       " ('adorable', 0.5546, 'Independent'),\n",
       " ('iike', 0.54609, 'Independent'),\n",
       " ('peach', 0.48356, 'Independent'),\n",
       " ('patriotic', 0.36859, 'Independent'),\n",
       " ('honey', 2.54173, 'Independent'),\n",
       " ('dear', 2.33057, 'Independent'),\n",
       " ('honey', 2.48728, 'Independent'),\n",
       " ('honey', 2.68471, 'ForwardEntailment'),\n",
       " ('dear', 2.31754, 'OtherRelated'),\n",
       " ('likes', 1.90685, 'OtherRelated'),\n",
       " ('wanna', 1.41686, 'Independent'),\n",
       " ('lovers', 5.10225, 'OtherRelated'),\n",
       " ('romance', 3.28126, 'OtherRelated'),\n",
       " ('iove', 2.7196, 'OtherRelated'),\n",
       " ('honey', 2.60441, 'Independent'),\n",
       " ('sweetheart', 2.49566, 'OtherRelated'),\n",
       " ('amor', 2.01878, 'OtherRelated'),\n",
       " ('darling', 1.80559, 'OtherRelated'),\n",
       " ('hon', 1.71059, 'Independent'),\n",
       " ('lovey', 1.551, 'OtherRelated'),\n",
       " ('amour', 1.44637, 'OtherRelated'),\n",
       " ('loved', 6.74529, 'ForwardEntailment'),\n",
       " ('enjoyed', 4.09878, 'Independent'),\n",
       " ('like', 3.34899, 'Independent'),\n",
       " ('liked', 3.34899, 'Independent'),\n",
       " ('adore', 2.84898, 'Equivalence'),\n",
       " ('sweetheart', 2.06351, 'Independent'),\n",
       " ('iike', 2.03526, 'Independent'),\n",
       " ('me', 2.02483, 'Independent'),\n",
       " ('worship', 1.88691, 'Independent'),\n",
       " ('dig', 1.76734, 'OtherRelated'),\n",
       " (\"'d\", 1.32171, 'Independent'),\n",
       " ('loves', 6.72203, 'ForwardEntailment'),\n",
       " ('loving', 6.72203, 'ForwardEntailment'),\n",
       " ('enjoying', 4.04804, 'Independent'),\n",
       " ('liking', 4.04155, 'Independent'),\n",
       " ('loved', 6.34585, 'ForwardEntailment'),\n",
       " ('like', 3.82828, 'Independent'),\n",
       " ('enjoy', 3.40918, 'Independent'),\n",
       " ('adore', 3.35016, 'Equivalence'),\n",
       " ('honey', 2.73025, 'Independent'),\n",
       " ('cherish', 2.67526, 'Independent'),\n",
       " ('dear', 2.6035, 'OtherRelated'),\n",
       " ('amor', 2.57316, 'Independent'),\n",
       " ('loveth', 2.55972, 'Independent'),\n",
       " ('know', 2.47375, 'Independent'),\n",
       " ('darling', 2.46118, 'OtherRelated'),\n",
       " ('doeslove', 2.39999, 'Independent'),\n",
       " ('prefer', 2.3668, 'Independent'),\n",
       " ('loveyou', 2.34575, 'Independent'),\n",
       " ('appreciate', 2.32183, 'Independent'),\n",
       " ('worship', 2.29282, 'OtherRelated'),\n",
       " ('sweetheart', 2.28552, 'OtherRelated'),\n",
       " ('sweetie', 2.26266, 'Independent'),\n",
       " (\"'amour\", 2.22113, 'Independent'),\n",
       " ('iove', 2.1697, 'Independent'),\n",
       " ('iike', 2.15088, 'Independent'),\n",
       " ('admire', 2.12437, 'Independent'),\n",
       " ('want', 2.05963, 'Independent'),\n",
       " ('amour', 1.96535, 'OtherRelated'),\n",
       " ('kiss', 1.94561, 'Independent'),\n",
       " ('care', 1.94516, 'Independent'),\n",
       " (\"'m\", 1.92574, 'Independent'),\n",
       " ('babe', 1.90289, 'Independent'),\n",
       " ('hon', 1.80906, 'Independent'),\n",
       " (\"'re\", 1.80446, 'Independent'),\n",
       " ('wanna', 1.74436, 'OtherRelated'),\n",
       " ('likey', 1.72684, 'Independent'),\n",
       " ('llke', 1.7157, 'Independent'),\n",
       " ('do', 1.71023, 'Independent'),\n",
       " ('hate', 1.70853, 'Independent'),\n",
       " ('me', 1.62533, 'OtherRelated'),\n",
       " ('prefera', 1.61338, 'Independent'),\n",
       " ('bless', 1.56051, 'Independent'),\n",
       " ('loveit', 1.3443, 'Independent'),\n",
       " ('oi', 1.09796, 'OtherRelated'),\n",
       " ('#', 1.03415, 'Independent'),\n",
       " ('giselle', 0.83483, 'Independent'),\n",
       " ('angel', 0.83415, 'Independent'),\n",
       " ('amo', 0.76581, 'Independent'),\n",
       " ('likethat', 0.75964, 'Independent'),\n",
       " ('adorable', 0.69265, 'Independent'),\n",
       " ('gusta', 0.34206, 'Independent'),\n",
       " ('loves', 6.69583, 'ForwardEntailment'),\n",
       " ('enjoys', 4.14924, 'Independent'),\n",
       " ('adores', 3.70604, 'Equivalence'),\n",
       " ('wants', 3.3328, 'Independent'),\n",
       " ('cares', 3.27899, 'Independent'),\n",
       " ('likes', 2.9407, 'Independent'),\n",
       " ('like', 2.9407, 'Independent'),\n",
       " ('worships', 2.39917, 'OtherRelated'),\n",
       " ('worship', 2.39917, 'OtherRelated'),\n",
       " ('ioves', 2.18519, 'Independent'),\n",
       " ('iikes', 1.90376, 'Independent'),\n",
       " ('dig', 1.85792, 'OtherRelated'),\n",
       " ('digs', 1.85792, 'OtherRelated'),\n",
       " ('iike', 1.84227, 'Independent'),\n",
       " ('\\xc3\\xa9oves', 0.96548, 'Independent'),\n",
       " ('fancies', 0.56826, 'Independent'),\n",
       " ('loves', 7.13537, 'OtherRelated'),\n",
       " ('loved', 7.13537, 'OtherRelated'),\n",
       " ('like', 3.71163, 'Independent'),\n",
       " ('enjoy', 3.25548, 'Independent'),\n",
       " ('adore', 3.05684, 'Equivalence'),\n",
       " ('dear', 2.89256, 'OtherRelated'),\n",
       " ('honey', 2.81185, 'Independent'),\n",
       " ('cherish', 2.78805, 'Independent'),\n",
       " ('worship', 2.46934, 'OtherRelated'),\n",
       " ('sweetheart', 2.42188, 'OtherRelated'),\n",
       " ('sweetie', 2.37918, 'Independent'),\n",
       " ('appreciate', 2.33737, 'Independent'),\n",
       " ('amour', 2.31394, 'OtherRelated'),\n",
       " ('beautiful', 2.20894, 'Independent'),\n",
       " ('iike', 2.12172, 'Independent'),\n",
       " ('babe', 2.06029, 'Independent'),\n",
       " ('dig', 2.05471, 'OtherRelated'),\n",
       " ('doll', 2.04918, 'OtherRelated'),\n",
       " ('want', 1.99631, 'Independent'),\n",
       " ('nice', 1.94889, 'Independent'),\n",
       " ('hon', 1.93043, 'Independent'),\n",
       " ('care', 1.91367, 'Independent'),\n",
       " ('liketo', 1.90196, 'Independent'),\n",
       " ('ch\\xc3\\xa9rie', 1.89636, 'Independent'),\n",
       " ('breed', 1.80101, 'OtherRelated'),\n",
       " ('me', 1.80049, 'OtherRelated'),\n",
       " ('knowabout', 1.66207, 'Independent'),\n",
       " ('baby', 1.60935, 'Independent'),\n",
       " ('do', 1.5488, 'Independent'),\n",
       " ('iove', 1.22362, 'Independent'),\n",
       " ('#', 1.09496, 'Independent'),\n",
       " ('hate', 0.95221, 'Independent'),\n",
       " ('adorable', 0.77951, 'Independent'),\n",
       " ('angel', 0.70177, 'Independent'),\n",
       " ('likethe', 0.62049, 'Independent'),\n",
       " ('honey', 2.8002, 'Independent'),\n",
       " ('sweetheart', 2.7855, 'Independent'),\n",
       " ('darling', 2.74157, 'Independent'),\n",
       " ('dear', 2.57178, 'Independent'),\n",
       " ('baby', 2.50832, 'Independent'),\n",
       " ('sweetie', 2.42122, 'Independent'),\n",
       " ('hon', 2.32456, 'Independent'),\n",
       " ('babe', 2.3058, 'Independent'),\n",
       " ('lover', 3.76191, 'ReverseEntailment'),\n",
       " ('lovely', 2.92522, 'ReverseEntailment'),\n",
       " ('sweetheart', 2.88412, 'Independent'),\n",
       " ('honey', 2.77198, 'Independent'),\n",
       " ('darling', 2.73496, 'Independent'),\n",
       " ('dear', 2.63169, 'Independent'),\n",
       " ('beautiful', 2.58697, 'OtherRelated'),\n",
       " ('baby', 2.48988, 'Independent'),\n",
       " ('sweetie', 2.47687, 'Independent'),\n",
       " ('girlfriend', 2.3838, 'ReverseEntailment'),\n",
       " ('gorgeous', 2.37035, 'OtherRelated'),\n",
       " ('girl', 2.3476, 'Independent'),\n",
       " ('honey', 2.33869, 'Independent'),\n",
       " ('doll', 2.33743, 'Independent'),\n",
       " ('beauty', 2.25728, 'Independent'),\n",
       " ('babe', 2.24081, 'Independent'),\n",
       " ('hon', 2.23685, 'Independent'),\n",
       " ('sweetheart', 2.22956, 'Independent'),\n",
       " ('precious', 2.20179, 'Independent'),\n",
       " ('sunshine', 2.1921, 'Independent'),\n",
       " ('darling', 2.15383, 'Independent'),\n",
       " ('sugar', 2.13383, 'Independent'),\n",
       " ('sweet', 2.12836, 'Independent'),\n",
       " ('pumpkin', 2.12016, 'Independent'),\n",
       " ('honey', 2.10582, 'Independent'),\n",
       " ('sweetheart', 2.01553, 'Independent'),\n",
       " ('darling', 2.01548, 'Independent'),\n",
       " ('baby', 1.90805, 'Independent'),\n",
       " ('baby', 1.89042, 'Independent'),\n",
       " ('sister', 1.88215, 'Independent'),\n",
       " ('peanut', 1.85399, 'Independent'),\n",
       " ('lady', 1.83043, 'Independent'),\n",
       " ('treasury', 1.81632, 'Independent'),\n",
       " ('sexy', 1.79835, 'Independent'),\n",
       " ('mama', 1.75816, 'Independent'),\n",
       " ('cherie', 1.74973, 'Independent'),\n",
       " ('handsome', 1.71901, 'Independent'),\n",
       " ('kiddo', 1.63626, 'Independent'),\n",
       " ('good-looking', 1.62776, 'Independent'),\n",
       " ('blondie', 1.43853, 'Independent'),\n",
       " ('shorty', 1.357, 'Independent'),\n",
       " ('sweetheart', 2.5877, 'Independent'),\n",
       " ('darling', 2.53325, 'Independent'),\n",
       " ('honey', 2.51861, 'ForwardEntailment'),\n",
       " ('dear', 2.47563, 'Independent'),\n",
       " ('sweetie', 2.22719, 'Independent'),\n",
       " ('darling', 2.09197, 'Independent'),\n",
       " ('sweetheart', 2.06517, 'Independent'),\n",
       " ('dear', 1.97942, 'Independent'),\n",
       " ('honey', 1.97449, 'Independent'),\n",
       " ('baby', 1.82197, 'Independent'),\n",
       " ('baby', 1.731, 'Independent'),\n",
       " ('sweetie', 1.67861, 'Independent'),\n",
       " ('hon', 1.63636, 'Independent'),\n",
       " ('loved', 6.17862, 'Equivalence'),\n",
       " ('loves', 6.17862, 'Equivalence'),\n",
       " ('lover', 3.69168, 'ReverseEntailment'),\n",
       " ('regards', 3.06773, 'Independent'),\n",
       " ('amor', 2.9161, 'ReverseEntailment'),\n",
       " ('affection', 2.8666, 'ReverseEntailment'),\n",
       " ('likes', 2.71267, 'Independent'),\n",
       " ('like', 2.71267, 'Independent'),\n",
       " ('sex', 2.68801, 'ReverseEntailment'),\n",
       " (\"'amour\", 2.65298, 'Equivalence'),\n",
       " ('sweetheart', 2.60942, 'Independent'),\n",
       " ('darling', 2.53894, 'Independent'),\n",
       " ('kiss', 2.53105, 'Independent'),\n",
       " ('honey', 2.47667, 'Independent'),\n",
       " ('dear', 2.47514, 'Independent'),\n",
       " ('heart', 2.27616, 'Independent'),\n",
       " ('sweetie', 2.16122, 'ReverseEntailment'),\n",
       " ('baby', 2.09172, 'Independent'),\n",
       " ('honey', 2.06723, 'Independent'),\n",
       " ('condition', 2.05061, 'Independent'),\n",
       " ('darling', 1.94655, 'Independent'),\n",
       " ('hon', 1.84249, 'ReverseEntailment'),\n",
       " ('babe', 1.82923, 'Independent'),\n",
       " ('baby', 1.75824, 'Independent'),\n",
       " ('sweetie', 1.7453, 'Independent'),\n",
       " ('do', 1.52547, 'Independent')]"
      ]
     },
     "execution_count": 39,
     "metadata": {},
     "output_type": "execute_result"
    }
   ],
   "source": [
    "ppdb_data.get('love', [])"
   ]
  },
  {
   "cell_type": "code",
   "execution_count": 73,
   "metadata": {
    "collapsed": false
   },
   "outputs": [
    {
     "data": {
      "text/plain": [
       "[('loving', 3.44406, 'OtherRelated'),\n",
       " ('like', 3.22034, 'Independent'),\n",
       " ('loves', 2.97054, 'Equivalence'),\n",
       " ('beloved', 2.75429, 'ReverseEntailment'),\n",
       " ('sweet', 2.20022, 'OtherRelated'),\n",
       " ('favorite', 2.10909, 'Independent'),\n",
       " ('iove', 2.00716, 'Independent'),\n",
       " ('fond', 1.84802, 'OtherRelated'),\n",
       " ('romantic', 1.65626, 'OtherRelated'),\n",
       " ('loves', 6.26484, 'ForwardEntailment'),\n",
       " ('-love', 3.13419, 'OtherRelated'),\n",
       " ('chuckles', 2.55762, 'Independent'),\n",
       " ('romance', 2.52716, 'OtherRelated'),\n",
       " ('likes', 2.49761, 'Independent'),\n",
       " ('like', 2.49761, 'Independent'),\n",
       " ('beloved', 2.3886, 'ReverseEntailment'),\n",
       " ('loving', 2.35619, 'OtherRelated'),\n",
       " ('iove', 2.12259, 'Independent'),\n",
       " ('honey', 2.09327, 'Independent'),\n",
       " ('amour', 2.08761, 'Independent'),\n",
       " ('dear', 2.07402, 'OtherRelated'),\n",
       " ('amor', 1.97347, 'Independent'),\n",
       " ('caring', 1.91237, 'OtherRelated'),\n",
       " (\"'amour\", 1.79659, 'Independent'),\n",
       " ('darling', 1.7833, 'OtherRelated'),\n",
       " ('sweetheart', 1.77217, 'OtherRelated'),\n",
       " ('oi', 1.7222, 'Independent'),\n",
       " ('amore', 1.70562, 'OtherRelated'),\n",
       " ('christ', 1.60725, 'OtherRelated'),\n",
       " ('affection', 1.48288, 'OtherRelated'),\n",
       " ('sweetie', 1.47707, 'Independent'),\n",
       " ('valentine', 1.46076, 'Independent'),\n",
       " ('baby', 1.42899, 'Independent'),\n",
       " ('sake', 1.42155, 'OtherRelated'),\n",
       " ('aime', 1.40778, 'OtherRelated'),\n",
       " ('pleasure', 1.38211, 'Independent'),\n",
       " ('caritas', 1.3006, 'Independent'),\n",
       " ('iike', 1.29255, 'Independent'),\n",
       " ('aim\\xc3\\xa9', 1.27456, 'Independent'),\n",
       " ('god', 1.24924, 'Independent'),\n",
       " ('ch\\xc3\\xa9ri', 1.24755, 'Independent'),\n",
       " ('loved', 1.22288, 'Equivalence'),\n",
       " ('condition', 1.13345, 'Independent'),\n",
       " ('ae', 1.10773, 'Independent'),\n",
       " ('noah', 1.10714, 'Independent'),\n",
       " ('estonia', 1.08981, 'Independent'),\n",
       " ('ireland', 1.08547, 'Independent'),\n",
       " ('pete', 1.06211, 'Independent'),\n",
       " ('babe', 1.05839, 'Independent'),\n",
       " ('eduard', 1.03463, 'Independent'),\n",
       " ('amar', 1.03443, 'Independent'),\n",
       " ('me', 1.0005, 'Independent'),\n",
       " ('edvard', 0.96677, 'Independent'),\n",
       " ('emotional', 0.91426, 'Independent'),\n",
       " ('kisses', 0.89139, 'Independent'),\n",
       " ('kiss', 0.89139, 'Independent'),\n",
       " ('margie', 0.8541, 'OtherRelated'),\n",
       " ('eros', 0.84743, 'OtherRelated'),\n",
       " ('philharmonic', 0.7979, 'Independent'),\n",
       " ('hon', 0.66155, 'Independent'),\n",
       " ('rak', 0.54501, 'Independent'),\n",
       " ('chattering', 0.18802, 'Independent'),\n",
       " ('enjoys', 0.10424, 'Independent'),\n",
       " ('lovers', 4.73296, 'ReverseEntailment'),\n",
       " ('desires', 3.79379, 'ForwardEntailment'),\n",
       " ('sakes', 3.10132, 'OtherRelated'),\n",
       " ('eros', 2.80957, 'OtherRelated'),\n",
       " ('feelings', 1.84309, 'Independent'),\n",
       " ('loves', 6.94159, 'ForwardEntailment'),\n",
       " ('lover', 3.95575, 'ReverseEntailment'),\n",
       " ('likes', 3.87937, 'Independent'),\n",
       " ('loving', 3.41122, 'OtherRelated'),\n",
       " ('passion', 3.28633, 'OtherRelated'),\n",
       " ('beloved', 3.20892, 'ReverseEntailment'),\n",
       " ('romance', 3.18114, 'OtherRelated'),\n",
       " ('affection', 3.05269, 'OtherRelated'),\n",
       " ('crying', 3.01758, 'OtherRelated'),\n",
       " ('sex', 2.91283, 'OtherRelated'),\n",
       " ('dearest', 2.78691, 'Independent'),\n",
       " ('dear', 2.76454, 'OtherRelated'),\n",
       " ('sweetheart', 2.70338, 'OtherRelated'),\n",
       " ('honey', 2.6994, 'Independent'),\n",
       " ('darling', 2.61823, 'OtherRelated'),\n",
       " ('devotion', 2.61142, 'OtherRelated'),\n",
       " ('feeling', 2.56569, 'Independent'),\n",
       " ('amor', 2.52598, 'Independent'),\n",
       " ('iove', 2.51979, 'Independent'),\n",
       " ('amour', 2.42312, 'Independent'),\n",
       " ('treasure', 2.38186, 'Independent'),\n",
       " ('caring', 2.3774, 'OtherRelated'),\n",
       " ('crush', 2.30883, 'Independent'),\n",
       " ('favorite', 2.25177, 'Independent'),\n",
       " ('fondness', 2.22929, 'OtherRelated'),\n",
       " ('heaven', 2.21861, 'OtherRelated'),\n",
       " (\"'amour\", 2.21701, 'Independent'),\n",
       " ('friendship', 2.19434, 'Independent'),\n",
       " ('heart', 2.13832, 'OtherRelated'),\n",
       " ('pleasure', 2.13067, 'Independent'),\n",
       " ('sake', 2.13047, 'OtherRelated'),\n",
       " ('worship', 2.08431, 'OtherRelated'),\n",
       " ('baby', 2.05385, 'Independent'),\n",
       " ('liking', 2.04758, 'OtherRelated'),\n",
       " ('sweetie', 2.04209, 'Independent'),\n",
       " ('fond', 2.03921, 'OtherRelated'),\n",
       " ('taste', 2.00975, 'Independent'),\n",
       " ('oi', 2.00262, 'Independent'),\n",
       " ('doll', 2.00246, 'OtherRelated'),\n",
       " ('angel', 1.99858, 'Independent'),\n",
       " ('favourite', 1.99765, 'Independent'),\n",
       " ('goodness', 1.96767, 'Independent'),\n",
       " ('sentiment', 1.96109, 'Independent'),\n",
       " ('admiration', 1.94715, 'OtherRelated'),\n",
       " ('kindness', 1.93354, 'OtherRelated'),\n",
       " ('girl', 1.91192, 'OtherRelated'),\n",
       " ('compassion', 1.89056, 'Independent'),\n",
       " ('sympathy', 1.88056, 'Independent'),\n",
       " ('charity', 1.85062, 'OtherRelated'),\n",
       " ('beautiful', 1.82909, 'Independent'),\n",
       " ('lightning', 1.8174, 'Independent'),\n",
       " ('fraternity', 1.80626, 'OtherRelated'),\n",
       " ('hobby', 1.76126, 'OtherRelated'),\n",
       " ('care', 1.74358, 'Independent'),\n",
       " ('condition', 1.73366, 'Independent'),\n",
       " ('pussycat', 1.73021, 'Independent'),\n",
       " ('amity', 1.7022, 'Independent'),\n",
       " ('babe', 1.70208, 'Independent'),\n",
       " ('cabbage', 1.67474, 'Independent'),\n",
       " ('ailment', 1.67425, 'Independent'),\n",
       " ('treasury', 1.65383, 'Independent'),\n",
       " ('kiss', 1.65352, 'Independent'),\n",
       " ('affinity', 1.64994, 'Independent'),\n",
       " ('iover', 1.63893, 'Independent'),\n",
       " ('god', 1.62591, 'Independent'),\n",
       " ('flame', 1.58821, 'Independent'),\n",
       " ('hon', 1.56119, 'Independent'),\n",
       " ('expensive', 1.51987, 'Independent'),\n",
       " ('me', 1.47609, 'Independent'),\n",
       " ('man', 1.45354, 'Independent'),\n",
       " ('chip', 1.40444, 'Independent'),\n",
       " ('hug', 1.3932, 'Independent'),\n",
       " ('magnet', 1.23165, 'Independent'),\n",
       " ('tenderness', 0.9665, 'OtherRelated'),\n",
       " ('adorable', 0.5546, 'Independent'),\n",
       " ('iike', 0.54609, 'Independent'),\n",
       " ('peach', 0.48356, 'Independent'),\n",
       " ('patriotic', 0.36859, 'Independent'),\n",
       " ('honey', 2.54173, 'Independent'),\n",
       " ('dear', 2.33057, 'Independent'),\n",
       " ('honey', 2.48728, 'Independent'),\n",
       " ('honey', 2.68471, 'ForwardEntailment'),\n",
       " ('dear', 2.31754, 'OtherRelated'),\n",
       " ('likes', 1.90685, 'OtherRelated'),\n",
       " ('wanna', 1.41686, 'Independent'),\n",
       " ('lovers', 5.10225, 'OtherRelated'),\n",
       " ('romance', 3.28126, 'OtherRelated'),\n",
       " ('iove', 2.7196, 'OtherRelated'),\n",
       " ('honey', 2.60441, 'Independent'),\n",
       " ('sweetheart', 2.49566, 'OtherRelated'),\n",
       " ('amor', 2.01878, 'OtherRelated'),\n",
       " ('darling', 1.80559, 'OtherRelated'),\n",
       " ('hon', 1.71059, 'Independent'),\n",
       " ('lovey', 1.551, 'OtherRelated'),\n",
       " ('amour', 1.44637, 'OtherRelated'),\n",
       " ('loved', 6.74529, 'ForwardEntailment'),\n",
       " ('enjoyed', 4.09878, 'Independent'),\n",
       " ('like', 3.34899, 'Independent'),\n",
       " ('liked', 3.34899, 'Independent'),\n",
       " ('adore', 2.84898, 'Equivalence'),\n",
       " ('sweetheart', 2.06351, 'Independent'),\n",
       " ('iike', 2.03526, 'Independent'),\n",
       " ('me', 2.02483, 'Independent'),\n",
       " ('worship', 1.88691, 'Independent'),\n",
       " ('dig', 1.76734, 'OtherRelated'),\n",
       " (\"'d\", 1.32171, 'Independent'),\n",
       " ('loves', 6.72203, 'ForwardEntailment'),\n",
       " ('loving', 6.72203, 'ForwardEntailment'),\n",
       " ('enjoying', 4.04804, 'Independent'),\n",
       " ('liking', 4.04155, 'Independent'),\n",
       " ('loved', 6.34585, 'ForwardEntailment'),\n",
       " ('like', 3.82828, 'Independent'),\n",
       " ('enjoy', 3.40918, 'Independent'),\n",
       " ('adore', 3.35016, 'Equivalence'),\n",
       " ('honey', 2.73025, 'Independent'),\n",
       " ('cherish', 2.67526, 'Independent'),\n",
       " ('dear', 2.6035, 'OtherRelated'),\n",
       " ('amor', 2.57316, 'Independent'),\n",
       " ('loveth', 2.55972, 'Independent'),\n",
       " ('know', 2.47375, 'Independent'),\n",
       " ('darling', 2.46118, 'OtherRelated'),\n",
       " ('doeslove', 2.39999, 'Independent'),\n",
       " ('prefer', 2.3668, 'Independent'),\n",
       " ('loveyou', 2.34575, 'Independent'),\n",
       " ('appreciate', 2.32183, 'Independent'),\n",
       " ('worship', 2.29282, 'OtherRelated'),\n",
       " ('sweetheart', 2.28552, 'OtherRelated'),\n",
       " ('sweetie', 2.26266, 'Independent'),\n",
       " (\"'amour\", 2.22113, 'Independent'),\n",
       " ('iove', 2.1697, 'Independent'),\n",
       " ('iike', 2.15088, 'Independent'),\n",
       " ('admire', 2.12437, 'Independent'),\n",
       " ('want', 2.05963, 'Independent'),\n",
       " ('amour', 1.96535, 'OtherRelated'),\n",
       " ('kiss', 1.94561, 'Independent'),\n",
       " ('care', 1.94516, 'Independent'),\n",
       " (\"'m\", 1.92574, 'Independent'),\n",
       " ('babe', 1.90289, 'Independent'),\n",
       " ('hon', 1.80906, 'Independent'),\n",
       " (\"'re\", 1.80446, 'Independent'),\n",
       " ('wanna', 1.74436, 'OtherRelated'),\n",
       " ('likey', 1.72684, 'Independent'),\n",
       " ('llke', 1.7157, 'Independent'),\n",
       " ('do', 1.71023, 'Independent'),\n",
       " ('hate', 1.70853, 'Independent'),\n",
       " ('me', 1.62533, 'OtherRelated'),\n",
       " ('prefera', 1.61338, 'Independent'),\n",
       " ('bless', 1.56051, 'Independent'),\n",
       " ('loveit', 1.3443, 'Independent'),\n",
       " ('oi', 1.09796, 'OtherRelated'),\n",
       " ('#', 1.03415, 'Independent'),\n",
       " ('giselle', 0.83483, 'Independent'),\n",
       " ('angel', 0.83415, 'Independent'),\n",
       " ('amo', 0.76581, 'Independent'),\n",
       " ('likethat', 0.75964, 'Independent'),\n",
       " ('adorable', 0.69265, 'Independent'),\n",
       " ('gusta', 0.34206, 'Independent'),\n",
       " ('loves', 6.69583, 'ForwardEntailment'),\n",
       " ('enjoys', 4.14924, 'Independent'),\n",
       " ('adores', 3.70604, 'Equivalence'),\n",
       " ('wants', 3.3328, 'Independent'),\n",
       " ('cares', 3.27899, 'Independent'),\n",
       " ('likes', 2.9407, 'Independent'),\n",
       " ('like', 2.9407, 'Independent'),\n",
       " ('worships', 2.39917, 'OtherRelated'),\n",
       " ('worship', 2.39917, 'OtherRelated'),\n",
       " ('ioves', 2.18519, 'Independent'),\n",
       " ('iikes', 1.90376, 'Independent'),\n",
       " ('dig', 1.85792, 'OtherRelated'),\n",
       " ('digs', 1.85792, 'OtherRelated'),\n",
       " ('iike', 1.84227, 'Independent'),\n",
       " ('\\xc3\\xa9oves', 0.96548, 'Independent'),\n",
       " ('fancies', 0.56826, 'Independent'),\n",
       " ('loves', 7.13537, 'OtherRelated'),\n",
       " ('loved', 7.13537, 'OtherRelated'),\n",
       " ('like', 3.71163, 'Independent'),\n",
       " ('enjoy', 3.25548, 'Independent'),\n",
       " ('adore', 3.05684, 'Equivalence'),\n",
       " ('dear', 2.89256, 'OtherRelated'),\n",
       " ('honey', 2.81185, 'Independent'),\n",
       " ('cherish', 2.78805, 'Independent'),\n",
       " ('worship', 2.46934, 'OtherRelated'),\n",
       " ('sweetheart', 2.42188, 'OtherRelated'),\n",
       " ('sweetie', 2.37918, 'Independent'),\n",
       " ('appreciate', 2.33737, 'Independent'),\n",
       " ('amour', 2.31394, 'OtherRelated'),\n",
       " ('beautiful', 2.20894, 'Independent'),\n",
       " ('iike', 2.12172, 'Independent'),\n",
       " ('babe', 2.06029, 'Independent'),\n",
       " ('dig', 2.05471, 'OtherRelated'),\n",
       " ('doll', 2.04918, 'OtherRelated'),\n",
       " ('want', 1.99631, 'Independent'),\n",
       " ('nice', 1.94889, 'Independent'),\n",
       " ('hon', 1.93043, 'Independent'),\n",
       " ('care', 1.91367, 'Independent'),\n",
       " ('liketo', 1.90196, 'Independent'),\n",
       " ('ch\\xc3\\xa9rie', 1.89636, 'Independent'),\n",
       " ('breed', 1.80101, 'OtherRelated'),\n",
       " ('me', 1.80049, 'OtherRelated'),\n",
       " ('knowabout', 1.66207, 'Independent'),\n",
       " ('baby', 1.60935, 'Independent'),\n",
       " ('do', 1.5488, 'Independent'),\n",
       " ('iove', 1.22362, 'Independent'),\n",
       " ('#', 1.09496, 'Independent'),\n",
       " ('hate', 0.95221, 'Independent'),\n",
       " ('adorable', 0.77951, 'Independent'),\n",
       " ('angel', 0.70177, 'Independent'),\n",
       " ('likethe', 0.62049, 'Independent'),\n",
       " ('honey', 2.8002, 'Independent'),\n",
       " ('sweetheart', 2.7855, 'Independent'),\n",
       " ('darling', 2.74157, 'Independent'),\n",
       " ('dear', 2.57178, 'Independent'),\n",
       " ('baby', 2.50832, 'Independent'),\n",
       " ('sweetie', 2.42122, 'Independent'),\n",
       " ('hon', 2.32456, 'Independent'),\n",
       " ('babe', 2.3058, 'Independent'),\n",
       " ('lover', 3.76191, 'ReverseEntailment'),\n",
       " ('lovely', 2.92522, 'ReverseEntailment'),\n",
       " ('sweetheart', 2.88412, 'Independent'),\n",
       " ('honey', 2.77198, 'Independent'),\n",
       " ('darling', 2.73496, 'Independent'),\n",
       " ('dear', 2.63169, 'Independent'),\n",
       " ('beautiful', 2.58697, 'OtherRelated'),\n",
       " ('baby', 2.48988, 'Independent'),\n",
       " ('sweetie', 2.47687, 'Independent'),\n",
       " ('girlfriend', 2.3838, 'ReverseEntailment'),\n",
       " ('gorgeous', 2.37035, 'OtherRelated'),\n",
       " ('girl', 2.3476, 'Independent'),\n",
       " ('honey', 2.33869, 'Independent'),\n",
       " ('doll', 2.33743, 'Independent'),\n",
       " ('beauty', 2.25728, 'Independent'),\n",
       " ('babe', 2.24081, 'Independent'),\n",
       " ('hon', 2.23685, 'Independent'),\n",
       " ('sweetheart', 2.22956, 'Independent'),\n",
       " ('precious', 2.20179, 'Independent'),\n",
       " ('sunshine', 2.1921, 'Independent'),\n",
       " ('darling', 2.15383, 'Independent'),\n",
       " ('sugar', 2.13383, 'Independent'),\n",
       " ('sweet', 2.12836, 'Independent'),\n",
       " ('pumpkin', 2.12016, 'Independent'),\n",
       " ('honey', 2.10582, 'Independent'),\n",
       " ('sweetheart', 2.01553, 'Independent'),\n",
       " ('darling', 2.01548, 'Independent'),\n",
       " ('baby', 1.90805, 'Independent'),\n",
       " ('baby', 1.89042, 'Independent'),\n",
       " ('sister', 1.88215, 'Independent'),\n",
       " ('peanut', 1.85399, 'Independent'),\n",
       " ('lady', 1.83043, 'Independent'),\n",
       " ('treasury', 1.81632, 'Independent'),\n",
       " ('sexy', 1.79835, 'Independent'),\n",
       " ('mama', 1.75816, 'Independent'),\n",
       " ('cherie', 1.74973, 'Independent'),\n",
       " ('handsome', 1.71901, 'Independent'),\n",
       " ('kiddo', 1.63626, 'Independent'),\n",
       " ('good-looking', 1.62776, 'Independent'),\n",
       " ('blondie', 1.43853, 'Independent'),\n",
       " ('shorty', 1.357, 'Independent'),\n",
       " ('sweetheart', 2.5877, 'Independent'),\n",
       " ('darling', 2.53325, 'Independent'),\n",
       " ('honey', 2.51861, 'ForwardEntailment'),\n",
       " ('dear', 2.47563, 'Independent'),\n",
       " ('sweetie', 2.22719, 'Independent'),\n",
       " ('darling', 2.09197, 'Independent'),\n",
       " ('sweetheart', 2.06517, 'Independent'),\n",
       " ('dear', 1.97942, 'Independent'),\n",
       " ('honey', 1.97449, 'Independent'),\n",
       " ('baby', 1.82197, 'Independent'),\n",
       " ('baby', 1.731, 'Independent'),\n",
       " ('sweetie', 1.67861, 'Independent'),\n",
       " ('hon', 1.63636, 'Independent'),\n",
       " ('loved', 6.17862, 'Equivalence'),\n",
       " ('loves', 6.17862, 'Equivalence'),\n",
       " ('lover', 3.69168, 'ReverseEntailment'),\n",
       " ('regards', 3.06773, 'Independent'),\n",
       " ('amor', 2.9161, 'ReverseEntailment'),\n",
       " ('affection', 2.8666, 'ReverseEntailment'),\n",
       " ('likes', 2.71267, 'Independent'),\n",
       " ('like', 2.71267, 'Independent'),\n",
       " ('sex', 2.68801, 'ReverseEntailment'),\n",
       " (\"'amour\", 2.65298, 'Equivalence'),\n",
       " ('sweetheart', 2.60942, 'Independent'),\n",
       " ('darling', 2.53894, 'Independent'),\n",
       " ('kiss', 2.53105, 'Independent'),\n",
       " ('honey', 2.47667, 'Independent'),\n",
       " ('dear', 2.47514, 'Independent'),\n",
       " ('heart', 2.27616, 'Independent'),\n",
       " ('sweetie', 2.16122, 'ReverseEntailment'),\n",
       " ('baby', 2.09172, 'Independent'),\n",
       " ('honey', 2.06723, 'Independent'),\n",
       " ('condition', 2.05061, 'Independent'),\n",
       " ('darling', 1.94655, 'Independent'),\n",
       " ('hon', 1.84249, 'ReverseEntailment'),\n",
       " ('babe', 1.82923, 'Independent'),\n",
       " ('baby', 1.75824, 'Independent'),\n",
       " ('sweetie', 1.7453, 'Independent'),\n",
       " ('do', 1.52547, 'Independent')]"
      ]
     },
     "execution_count": 73,
     "metadata": {},
     "output_type": "execute_result"
    }
   ],
   "source": [
    "ppdb_data['love']"
   ]
  },
  {
   "cell_type": "code",
   "execution_count": 74,
   "metadata": {
    "collapsed": true
   },
   "outputs": [],
   "source": [
    "entailment_set = {'ReverseEntailment', 'ForwardEntailment', 'Equivalence', 'Independent'}"
   ]
  },
  {
   "cell_type": "code",
   "execution_count": 77,
   "metadata": {
    "collapsed": false
   },
   "outputs": [
    {
     "data": {
      "text/plain": [
       "[]"
      ]
     },
     "execution_count": 77,
     "metadata": {},
     "output_type": "execute_result"
    }
   ],
   "source": [
    "ppdb_data = get_ppdb_data()\n",
    "relationships = [(x, s, e) for (x, s, e) in ppdb_data.get('love', []) if e in entailment_set and x == 'donkey']\n",
    "relationships"
   ]
  },
  {
   "cell_type": "code",
   "execution_count": 55,
   "metadata": {
    "collapsed": false
   },
   "outputs": [
    {
     "data": {
      "text/plain": [
       "'ForwardEntailment'"
      ]
     },
     "execution_count": 55,
     "metadata": {},
     "output_type": "execute_result"
    }
   ],
   "source": [
    "max(relationships, key=lambda x: x[1])[2]"
   ]
  },
  {
   "cell_type": "code",
   "execution_count": 56,
   "metadata": {
    "collapsed": true
   },
   "outputs": [],
   "source": [
    "import numpy as np"
   ]
  },
  {
   "cell_type": "code",
   "execution_count": 57,
   "metadata": {
    "collapsed": false
   },
   "outputs": [
    {
     "data": {
      "text/plain": [
       "array([[ 0.,  0.,  0.,  0.],\n",
       "       [ 0.,  0.,  0.,  0.],\n",
       "       [ 0.,  0.,  0.,  0.]])"
      ]
     },
     "execution_count": 57,
     "metadata": {},
     "output_type": "execute_result"
    }
   ],
   "source": [
    "m = np.zeros((3, 4))\n",
    "m"
   ]
  },
  {
   "cell_type": "code",
   "execution_count": 58,
   "metadata": {
    "collapsed": true
   },
   "outputs": [],
   "source": [
    "m[0, :] = np.ones((1, 4))"
   ]
  },
  {
   "cell_type": "code",
   "execution_count": 59,
   "metadata": {
    "collapsed": false
   },
   "outputs": [
    {
     "data": {
      "text/plain": [
       "array([[ 1.,  1.,  1.,  1.],\n",
       "       [ 0.,  0.,  0.,  0.],\n",
       "       [ 0.,  0.,  0.,  0.]])"
      ]
     },
     "execution_count": 59,
     "metadata": {},
     "output_type": "execute_result"
    }
   ],
   "source": [
    "m"
   ]
  },
  {
   "cell_type": "code",
   "execution_count": 69,
   "metadata": {
    "collapsed": false
   },
   "outputs": [
    {
     "data": {
      "text/plain": [
       "array([[ 0.,  0.,  0.,  0.]])"
      ]
     },
     "execution_count": 69,
     "metadata": {},
     "output_type": "execute_result"
    }
   ],
   "source": [
    "vec = np.zeros((1, 4))\n",
    "vec"
   ]
  },
  {
   "cell_type": "code",
   "execution_count": 70,
   "metadata": {
    "collapsed": false
   },
   "outputs": [
    {
     "data": {
      "text/plain": [
       "array([[ 0.,  0.,  0.,  1.]])"
      ]
     },
     "execution_count": 70,
     "metadata": {},
     "output_type": "execute_result"
    }
   ],
   "source": [
    "vec[0, 3] = 1\n",
    "vec"
   ]
  },
  {
   "cell_type": "code",
   "execution_count": 62,
   "metadata": {
    "collapsed": false
   },
   "outputs": [
    {
     "data": {
      "text/plain": [
       "array([[ 1.,  1.,  1.,  1.]])"
      ]
     },
     "execution_count": 62,
     "metadata": {},
     "output_type": "execute_result"
    }
   ],
   "source": [
    "vec"
   ]
  },
  {
   "cell_type": "code",
   "execution_count": null,
   "metadata": {
    "collapsed": true
   },
   "outputs": [],
   "source": [
    "vec "
   ]
  }
 ],
 "metadata": {
  "kernelspec": {
   "display_name": "Python 2",
   "language": "python",
   "name": "python2"
  },
  "language_info": {
   "codemirror_mode": {
    "name": "ipython",
    "version": 2
   },
   "file_extension": ".py",
   "mimetype": "text/x-python",
   "name": "python",
   "nbconvert_exporter": "python",
   "pygments_lexer": "ipython2",
   "version": "2.7.10"
  }
 },
 "nbformat": 4,
 "nbformat_minor": 0
}
