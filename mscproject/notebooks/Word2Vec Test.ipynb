{
 "cells": [
  {
   "cell_type": "code",
   "execution_count": 1,
   "metadata": {
    "collapsed": false
   },
   "outputs": [
    {
     "name": "stdout",
     "output_type": "stream",
     "text": [
      "/Users/williamferreira/PycharmProjects/mscproject/src\n"
     ]
    }
   ],
   "source": [
    "cd ../src"
   ]
  },
  {
   "cell_type": "code",
   "execution_count": 5,
   "metadata": {
    "collapsed": false
   },
   "outputs": [],
   "source": [
    "from model.utils import get_w2v_model, convert_text_to_vec, get_dataset, get_tokenized_lemmas, get_stanparse_data, split_data"
   ]
  },
  {
   "cell_type": "code",
   "execution_count": 6,
   "metadata": {
    "collapsed": false
   },
   "outputs": [],
   "source": [
    "training_data = get_dataset('../data/url-versions-2015-06-14-clean-train.csv')\n",
    "X, y = split_data(training_data)"
   ]
  },
  {
   "cell_type": "code",
   "execution_count": 7,
   "metadata": {
    "collapsed": true
   },
   "outputs": [],
   "source": [
    "stanparse_data = get_stanparse_data()"
   ]
  },
  {
   "cell_type": "code",
   "execution_count": 11,
   "metadata": {
    "collapsed": false
   },
   "outputs": [
    {
     "data": {
      "text/plain": [
       "'BMO forecasts 19M Apple Watch sales in 2015, with more than half selling in holiday season'"
      ]
     },
     "execution_count": 11,
     "metadata": {},
     "output_type": "execute_result"
    }
   ],
   "source": [
    "X.iloc[0].articleHeadline"
   ]
  },
  {
   "cell_type": "code",
   "execution_count": 9,
   "metadata": {
    "collapsed": false
   },
   "outputs": [
    {
     "data": {
      "text/plain": [
       "{u'sentences': [{u'dependencies': [[u'root', u'ROOT-0', u'forecasts-2'],\n",
       "    [u'nn', u'forecasts-2', u'BMO-1'],\n",
       "    [u'nn', u'sales-6', u'19M-3'],\n",
       "    [u'nn', u'sales-6', u'Apple-4'],\n",
       "    [u'nn', u'sales-6', u'Watch-5'],\n",
       "    [u'dep', u'forecasts-2', u'sales-6'],\n",
       "    [u'prep_in', u'sales-6', u'2015-8'],\n",
       "    [u'mwe', u'than-12', u'more-11'],\n",
       "    [u'quantmod', u'half-13', u'than-12'],\n",
       "    [u'num', u'selling-14', u'half-13'],\n",
       "    [u'prep_with', u'sales-6', u'selling-14'],\n",
       "    [u'nn', u'season-17', u'holiday-16'],\n",
       "    [u'prep_in', u'selling-14', u'season-17']],\n",
       "   u'parsetree': u'(ROOT (NP (NP (NNP BMO) (NNS forecasts)) (NP (NP (NNP 19M) (NNP Apple) (NNP Watch) (NNS sales)) (PP (IN in) (NP (CD 2015))) (, ,) (PP (IN with) (NP (NP (QP (JJR more) (IN than) (DT half)) (NN selling)) (PP (IN in) (NP (NN holiday) (NN season))))))))',\n",
       "   u'text': u'BMO forecasts 19M Apple Watch sales in 2015, with more than half selling in holiday season',\n",
       "   u'words': [[u'BMO',\n",
       "     {u'CharacterOffsetBegin': u'0',\n",
       "      u'CharacterOffsetEnd': u'3',\n",
       "      u'Lemma': u'BMO',\n",
       "      u'NamedEntityTag': u'O',\n",
       "      u'PartOfSpeech': u'NNP'}],\n",
       "    [u'forecasts',\n",
       "     {u'CharacterOffsetBegin': u'4',\n",
       "      u'CharacterOffsetEnd': u'13',\n",
       "      u'Lemma': u'forecast',\n",
       "      u'NamedEntityTag': u'O',\n",
       "      u'PartOfSpeech': u'NNS'}],\n",
       "    [u'19M',\n",
       "     {u'CharacterOffsetBegin': u'14',\n",
       "      u'CharacterOffsetEnd': u'17',\n",
       "      u'Lemma': u'19M',\n",
       "      u'NamedEntityTag': u'O',\n",
       "      u'PartOfSpeech': u'NNP'}],\n",
       "    [u'Apple',\n",
       "     {u'CharacterOffsetBegin': u'18',\n",
       "      u'CharacterOffsetEnd': u'23',\n",
       "      u'Lemma': u'Apple',\n",
       "      u'NamedEntityTag': u'O',\n",
       "      u'PartOfSpeech': u'NNP'}],\n",
       "    [u'Watch',\n",
       "     {u'CharacterOffsetBegin': u'24',\n",
       "      u'CharacterOffsetEnd': u'29',\n",
       "      u'Lemma': u'Watch',\n",
       "      u'NamedEntityTag': u'O',\n",
       "      u'PartOfSpeech': u'NNP'}],\n",
       "    [u'sales',\n",
       "     {u'CharacterOffsetBegin': u'30',\n",
       "      u'CharacterOffsetEnd': u'35',\n",
       "      u'Lemma': u'sale',\n",
       "      u'NamedEntityTag': u'O',\n",
       "      u'PartOfSpeech': u'NNS'}],\n",
       "    [u'in',\n",
       "     {u'CharacterOffsetBegin': u'36',\n",
       "      u'CharacterOffsetEnd': u'38',\n",
       "      u'Lemma': u'in',\n",
       "      u'NamedEntityTag': u'O',\n",
       "      u'PartOfSpeech': u'IN'}],\n",
       "    [u'2015',\n",
       "     {u'CharacterOffsetBegin': u'39',\n",
       "      u'CharacterOffsetEnd': u'43',\n",
       "      u'Lemma': u'2015',\n",
       "      u'NamedEntityTag': u'DATE',\n",
       "      u'NormalizedNamedEntityTag': u'2015',\n",
       "      u'PartOfSpeech': u'CD',\n",
       "      u'Timex': u'<TIMEX3 tid=\"t1\" type=\"DATE\" value=\"2015\">2015</TIMEX3>'}],\n",
       "    [u',',\n",
       "     {u'CharacterOffsetBegin': u'43',\n",
       "      u'CharacterOffsetEnd': u'44',\n",
       "      u'Lemma': u',',\n",
       "      u'NamedEntityTag': u'O',\n",
       "      u'PartOfSpeech': u','}],\n",
       "    [u'with',\n",
       "     {u'CharacterOffsetBegin': u'45',\n",
       "      u'CharacterOffsetEnd': u'49',\n",
       "      u'Lemma': u'with',\n",
       "      u'NamedEntityTag': u'O',\n",
       "      u'PartOfSpeech': u'IN'}],\n",
       "    [u'more',\n",
       "     {u'CharacterOffsetBegin': u'50',\n",
       "      u'CharacterOffsetEnd': u'54',\n",
       "      u'Lemma': u'more',\n",
       "      u'NamedEntityTag': u'O',\n",
       "      u'PartOfSpeech': u'JJR'}],\n",
       "    [u'than',\n",
       "     {u'CharacterOffsetBegin': u'55',\n",
       "      u'CharacterOffsetEnd': u'59',\n",
       "      u'Lemma': u'than',\n",
       "      u'NamedEntityTag': u'O',\n",
       "      u'PartOfSpeech': u'IN'}],\n",
       "    [u'half',\n",
       "     {u'CharacterOffsetBegin': u'60',\n",
       "      u'CharacterOffsetEnd': u'64',\n",
       "      u'Lemma': u'half',\n",
       "      u'NamedEntityTag': u'O',\n",
       "      u'PartOfSpeech': u'DT'}],\n",
       "    [u'selling',\n",
       "     {u'CharacterOffsetBegin': u'65',\n",
       "      u'CharacterOffsetEnd': u'72',\n",
       "      u'Lemma': u'selling',\n",
       "      u'NamedEntityTag': u'O',\n",
       "      u'PartOfSpeech': u'NN'}],\n",
       "    [u'in',\n",
       "     {u'CharacterOffsetBegin': u'73',\n",
       "      u'CharacterOffsetEnd': u'75',\n",
       "      u'Lemma': u'in',\n",
       "      u'NamedEntityTag': u'O',\n",
       "      u'PartOfSpeech': u'IN'}],\n",
       "    [u'holiday',\n",
       "     {u'CharacterOffsetBegin': u'76',\n",
       "      u'CharacterOffsetEnd': u'83',\n",
       "      u'Lemma': u'holiday',\n",
       "      u'NamedEntityTag': u'O',\n",
       "      u'PartOfSpeech': u'NN'}],\n",
       "    [u'season',\n",
       "     {u'CharacterOffsetBegin': u'84',\n",
       "      u'CharacterOffsetEnd': u'90',\n",
       "      u'Lemma': u'season',\n",
       "      u'NamedEntityTag': u'O',\n",
       "      u'PartOfSpeech': u'NN'}]]}]}"
      ]
     },
     "execution_count": 9,
     "metadata": {},
     "output_type": "execute_result"
    }
   ],
   "source": [
    "stanparse_data.get(X.iloc[0].articleId)"
   ]
  },
  {
   "cell_type": "code",
   "execution_count": 4,
   "metadata": {
    "collapsed": false
   },
   "outputs": [
    {
     "name": "stdout",
     "output_type": "stream",
     "text": [
      "Constructing word2vec model\n"
     ]
    }
   ],
   "source": [
    "model = get_w2v_model()"
   ]
  },
  {
   "cell_type": "code",
   "execution_count": null,
   "metadata": {
    "collapsed": true
   },
   "outputs": [],
   "source": []
  },
  {
   "cell_type": "code",
   "execution_count": 13,
   "metadata": {
    "collapsed": true
   },
   "outputs": [],
   "source": [
    "s = \"Mary had a little lamb: its fleece ws white as snow\""
   ]
  },
  {
   "cell_type": "code",
   "execution_count": 5,
   "metadata": {
    "collapsed": true
   },
   "outputs": [],
   "source": [
    "v = convert_text_to_vec(model, s)"
   ]
  },
  {
   "cell_type": "code",
   "execution_count": 6,
   "metadata": {
    "collapsed": false
   },
   "outputs": [
    {
     "data": {
      "text/plain": [
       "(300,)"
      ]
     },
     "execution_count": 6,
     "metadata": {},
     "output_type": "execute_result"
    }
   ],
   "source": [
    "v.shape"
   ]
  },
  {
   "cell_type": "code",
   "execution_count": 9,
   "metadata": {
    "collapsed": false
   },
   "outputs": [
    {
     "data": {
      "text/plain": [
       "array([-0.00316997,  0.13683066, -0.12455961,  0.26880503,  0.06473097,\n",
       "       -0.04879516,  0.08522814, -0.252076  , -0.09855935,  0.33731946], dtype=float32)"
      ]
     },
     "execution_count": 9,
     "metadata": {},
     "output_type": "execute_result"
    }
   ],
   "source": [
    "v[:10]"
   ]
  },
  {
   "cell_type": "code",
   "execution_count": 14,
   "metadata": {
    "collapsed": false
   },
   "outputs": [
    {
     "data": {
      "text/plain": [
       "['mary',\n",
       " 'had',\n",
       " 'a',\n",
       " 'little',\n",
       " 'lamb',\n",
       " ':',\n",
       " u'it',\n",
       " 'fleece',\n",
       " u'w',\n",
       " 'white',\n",
       " u'a',\n",
       " 'snow']"
      ]
     },
     "execution_count": 14,
     "metadata": {},
     "output_type": "execute_result"
    }
   ],
   "source": [
    "get_tokenized_lemmas(s)"
   ]
  },
  {
   "cell_type": "code",
   "execution_count": null,
   "metadata": {
    "collapsed": true
   },
   "outputs": [],
   "source": []
  }
 ],
 "metadata": {
  "kernelspec": {
   "display_name": "Python 2",
   "language": "python",
   "name": "python2"
  },
  "language_info": {
   "codemirror_mode": {
    "name": "ipython",
    "version": 2
   },
   "file_extension": ".py",
   "mimetype": "text/x-python",
   "name": "python",
   "nbconvert_exporter": "python",
   "pygments_lexer": "ipython2",
   "version": "2.7.10"
  }
 },
 "nbformat": 4,
 "nbformat_minor": 0
}
