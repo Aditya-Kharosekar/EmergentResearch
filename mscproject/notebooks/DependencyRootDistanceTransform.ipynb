{
 "cells": [
  {
   "cell_type": "code",
   "execution_count": 1,
   "metadata": {
    "collapsed": false
   },
   "outputs": [
    {
     "name": "stdout",
     "output_type": "stream",
     "text": [
      "/Users/williamferreira/Dropbox/mscproject/src\n"
     ]
    }
   ],
   "source": [
    "cd ../src"
   ]
  },
  {
   "cell_type": "code",
   "execution_count": 2,
   "metadata": {
    "collapsed": true
   },
   "outputs": [],
   "source": [
    "from model.utils import get_stanparse_data, get_dataset, get_stanford_idx"
   ]
  },
  {
   "cell_type": "code",
   "execution_count": 4,
   "metadata": {
    "collapsed": false
   },
   "outputs": [],
   "source": [
    "df_clean_train = get_dataset('url-versions-2015-06-14-clean-train.csv')"
   ]
  },
  {
   "cell_type": "code",
   "execution_count": 6,
   "metadata": {
    "collapsed": false
   },
   "outputs": [],
   "source": [
    "example = df_clean_train.ix[0, :]"
   ]
  },
  {
   "cell_type": "code",
   "execution_count": 7,
   "metadata": {
    "collapsed": false
   },
   "outputs": [
    {
     "data": {
      "text/plain": [
       "claimHeadline             Apple will sell 19 million Apple Watches in 2015\n",
       "articleHeadline          BMO forecasts 19M Apple Watch sales in 2015, w...\n",
       "articleHeadlineStance                                            observing\n",
       "articleId                             116a3920-c41c-11e4-883c-a7fa7a3c5066\n",
       "claimId                               8faeb4b0-c41b-11e4-88c9-eb158a06b9a5\n",
       "Name: 0, dtype: object"
      ]
     },
     "execution_count": 7,
     "metadata": {},
     "output_type": "execute_result"
    }
   ],
   "source": [
    "example"
   ]
  },
  {
   "cell_type": "code",
   "execution_count": 9,
   "metadata": {
    "collapsed": false
   },
   "outputs": [],
   "source": [
    "dep_parse_data = get_stanparse_data()"
   ]
  },
  {
   "cell_type": "code",
   "execution_count": 12,
   "metadata": {
    "collapsed": false
   },
   "outputs": [
    {
     "name": "stdout",
     "output_type": "stream",
     "text": [
      "BMO forecasts 19M Apple Watch sales in 2015, with more than half selling in holiday season\n"
     ]
    }
   ],
   "source": [
    "print example.articleHeadline"
   ]
  },
  {
   "cell_type": "code",
   "execution_count": 20,
   "metadata": {
    "collapsed": false
   },
   "outputs": [],
   "source": [
    "example_parse = dep_parse_data[example.articleId]"
   ]
  },
  {
   "cell_type": "code",
   "execution_count": 15,
   "metadata": {
    "collapsed": true
   },
   "outputs": [],
   "source": []
  },
  {
   "cell_type": "code",
   "execution_count": 22,
   "metadata": {
    "collapsed": true
   },
   "outputs": [],
   "source": [
    "def build_dep_graph(deps):\n",
    "    dep_graph = {}\n",
    "    dep_graph_labels = {}\n",
    "    \n",
    "    for d in deps:\n",
    "        rel, head, dep = d\n",
    "        _, head_idx = get_stanford_idx(head)\n",
    "        _, dep_idx = get_stanford_idx(dep)\n",
    "        dep_graph.setdefault(head_idx, set()).add(dep_idx)\n",
    "        dep_graph_labels[(head_idx, dep_idx)] = rel\n",
    "    return dep_graph, dep_graph_labels"
   ]
  },
  {
   "cell_type": "code",
   "execution_count": 23,
   "metadata": {
    "collapsed": false
   },
   "outputs": [],
   "source": [
    "grph, grph_labels = build_dep_graph(example_parse['sentences'][0]['dependencies'])"
   ]
  },
  {
   "cell_type": "code",
   "execution_count": 24,
   "metadata": {
    "collapsed": false
   },
   "outputs": [
    {
     "data": {
      "text/plain": [
       "{0: {2},\n",
       " 2: {1, 6},\n",
       " 6: {3, 4, 5, 8, 14},\n",
       " 12: {11},\n",
       " 13: {12},\n",
       " 14: {13, 17},\n",
       " 17: {16}}"
      ]
     },
     "execution_count": 24,
     "metadata": {},
     "output_type": "execute_result"
    }
   ],
   "source": [
    "grph"
   ]
  },
  {
   "cell_type": "code",
   "execution_count": 25,
   "metadata": {
    "collapsed": false
   },
   "outputs": [
    {
     "data": {
      "text/plain": [
       "[[u'root', u'ROOT-0', u'forecasts-2'],\n",
       " [u'nn', u'forecasts-2', u'BMO-1'],\n",
       " [u'nn', u'sales-6', u'19M-3'],\n",
       " [u'nn', u'sales-6', u'Apple-4'],\n",
       " [u'nn', u'sales-6', u'Watch-5'],\n",
       " [u'dep', u'forecasts-2', u'sales-6'],\n",
       " [u'prep_in', u'sales-6', u'2015-8'],\n",
       " [u'mwe', u'than-12', u'more-11'],\n",
       " [u'quantmod', u'half-13', u'than-12'],\n",
       " [u'num', u'selling-14', u'half-13'],\n",
       " [u'prep_with', u'sales-6', u'selling-14'],\n",
       " [u'nn', u'season-17', u'holiday-16'],\n",
       " [u'prep_in', u'selling-14', u'season-17']]"
      ]
     },
     "execution_count": 25,
     "metadata": {},
     "output_type": "execute_result"
    }
   ],
   "source": [
    "example_parse['sentences'][0]['dependencies']"
   ]
  },
  {
   "cell_type": "code",
   "execution_count": 26,
   "metadata": {
    "collapsed": false
   },
   "outputs": [
    {
     "data": {
      "text/plain": [
       "{(0, 2): u'root',\n",
       " (2, 1): u'nn',\n",
       " (2, 6): u'dep',\n",
       " (6, 3): u'nn',\n",
       " (6, 4): u'nn',\n",
       " (6, 5): u'nn',\n",
       " (6, 8): u'prep_in',\n",
       " (6, 14): u'prep_with',\n",
       " (12, 11): u'mwe',\n",
       " (13, 12): u'quantmod',\n",
       " (14, 13): u'num',\n",
       " (14, 17): u'prep_in',\n",
       " (17, 16): u'nn'}"
      ]
     },
     "execution_count": 26,
     "metadata": {},
     "output_type": "execute_result"
    }
   ],
   "source": [
    "grph_labels"
   ]
  },
  {
   "cell_type": "code",
   "execution_count": 27,
   "metadata": {
    "collapsed": true
   },
   "outputs": [],
   "source": [
    "def calc_depths(grph, n=0, d=0, depths=None):\n",
    "    if depths is None:\n",
    "        depths = {n: d}\n",
    "    sx = grph.get(n)\n",
    "    if sx:\n",
    "        for s in sx:\n",
    "            depths[s] = d+1\n",
    "            calc_depths(grph, s, d+1, depths)\n",
    "    return depths\n",
    "    \n",
    "    "
   ]
  },
  {
   "cell_type": "code",
   "execution_count": 28,
   "metadata": {
    "collapsed": false
   },
   "outputs": [
    {
     "data": {
      "text/plain": [
       "{0: 0,\n",
       " 1: 2,\n",
       " 2: 1,\n",
       " 3: 3,\n",
       " 4: 3,\n",
       " 5: 3,\n",
       " 6: 2,\n",
       " 8: 3,\n",
       " 11: 6,\n",
       " 12: 5,\n",
       " 13: 4,\n",
       " 14: 3,\n",
       " 16: 5,\n",
       " 17: 4}"
      ]
     },
     "execution_count": 28,
     "metadata": {},
     "output_type": "execute_result"
    }
   ],
   "source": [
    "calc_depths(grph)"
   ]
  },
  {
   "cell_type": "code",
   "execution_count": 5,
   "metadata": {
    "collapsed": false
   },
   "outputs": [
    {
     "name": "stdout",
     "output_type": "stream",
     "text": [
      "/Users/williamferreira/Dropbox/mscproject/src\n"
     ]
    }
   ],
   "source": [
    "cd ../src"
   ]
  },
  {
   "cell_type": "code",
   "execution_count": 6,
   "metadata": {
    "collapsed": true
   },
   "outputs": [],
   "source": [
    "from model.utils import get_stanparse_depths"
   ]
  },
  {
   "cell_type": "code",
   "execution_count": 7,
   "metadata": {
    "collapsed": true
   },
   "outputs": [],
   "source": [
    "depths = get_stanparse_depths()"
   ]
  },
  {
   "cell_type": "code",
   "execution_count": 10,
   "metadata": {
    "collapsed": true
   },
   "outputs": [],
   "source": [
    "d = depths['116a3920-c41c-11e4-883c-a7fa7a3c5066']"
   ]
  },
  {
   "cell_type": "code",
   "execution_count": 11,
   "metadata": {
    "collapsed": false
   },
   "outputs": [
    {
     "data": {
      "text/plain": [
       "{0: ({0: {2},\n",
       "   2: {1, 6},\n",
       "   6: {3, 4, 5, 8, 14},\n",
       "   12: {11},\n",
       "   13: {12},\n",
       "   14: {13, 17},\n",
       "   17: {16}},\n",
       "  {(0, 2): u'root',\n",
       "   (2, 1): u'nn',\n",
       "   (2, 6): u'dep',\n",
       "   (6, 3): u'nn',\n",
       "   (6, 4): u'nn',\n",
       "   (6, 5): u'nn',\n",
       "   (6, 8): u'prep_in',\n",
       "   (6, 14): u'prep_with',\n",
       "   (12, 11): u'mwe',\n",
       "   (13, 12): u'quantmod',\n",
       "   (14, 13): u'num',\n",
       "   (14, 17): u'prep_in',\n",
       "   (17, 16): u'nn'},\n",
       "  {0: 0,\n",
       "   1: 2,\n",
       "   2: 1,\n",
       "   3: 3,\n",
       "   4: 3,\n",
       "   5: 3,\n",
       "   6: 2,\n",
       "   8: 3,\n",
       "   11: 6,\n",
       "   12: 5,\n",
       "   13: 4,\n",
       "   14: 3,\n",
       "   16: 5,\n",
       "   17: 4})}"
      ]
     },
     "execution_count": 11,
     "metadata": {},
     "output_type": "execute_result"
    }
   ],
   "source": [
    "d"
   ]
  },
  {
   "cell_type": "code",
   "execution_count": 3,
   "metadata": {
    "collapsed": true
   },
   "outputs": [],
   "source": [
    "sp_data = get_stanparse_data()"
   ]
  },
  {
   "cell_type": "code",
   "execution_count": 20,
   "metadata": {
    "collapsed": false
   },
   "outputs": [
    {
     "data": {
      "text/plain": [
       "1"
      ]
     },
     "execution_count": 20,
     "metadata": {},
     "output_type": "execute_result"
    }
   ],
   "source": [
    "len(sp_data.values()[0]['sentences'])"
   ]
  },
  {
   "cell_type": "code",
   "execution_count": 15,
   "metadata": {
    "collapsed": false
   },
   "outputs": [],
   "source": [
    "more_than_one_sentence = [v for v in sp_data.values() if len(v['sentences']) > 1]"
   ]
  },
  {
   "cell_type": "code",
   "execution_count": 17,
   "metadata": {
    "collapsed": false
   },
   "outputs": [
    {
     "data": {
      "text/plain": [
       "{u'sentences': [{u'dependencies': [[u'root', u'ROOT-0', u'Preventable-4'],\n",
       "    [u'nn', u'Preventable-4', u'Joan-1'],\n",
       "    [u'nn', u'Preventable-4', u'Rivers-2'],\n",
       "    [u'nn', u'Preventable-4', u'Death-3']],\n",
       "   u'parsetree': u'(ROOT (NP (NNP Joan) (NNP Rivers) (NNP Death) (NNP Preventable) (. ?)))',\n",
       "   u'text': u'Joan Rivers Death Preventable?',\n",
       "   u'words': [[u'Joan',\n",
       "     {u'CharacterOffsetBegin': u'0',\n",
       "      u'CharacterOffsetEnd': u'4',\n",
       "      u'Lemma': u'Joan',\n",
       "      u'NamedEntityTag': u'PERSON',\n",
       "      u'PartOfSpeech': u'NNP'}],\n",
       "    [u'Rivers',\n",
       "     {u'CharacterOffsetBegin': u'5',\n",
       "      u'CharacterOffsetEnd': u'11',\n",
       "      u'Lemma': u'Rivers',\n",
       "      u'NamedEntityTag': u'PERSON',\n",
       "      u'PartOfSpeech': u'NNP'}],\n",
       "    [u'Death',\n",
       "     {u'CharacterOffsetBegin': u'12',\n",
       "      u'CharacterOffsetEnd': u'17',\n",
       "      u'Lemma': u'Death',\n",
       "      u'NamedEntityTag': u'O',\n",
       "      u'PartOfSpeech': u'NNP'}],\n",
       "    [u'Preventable',\n",
       "     {u'CharacterOffsetBegin': u'18',\n",
       "      u'CharacterOffsetEnd': u'29',\n",
       "      u'Lemma': u'Preventable',\n",
       "      u'NamedEntityTag': u'O',\n",
       "      u'PartOfSpeech': u'NNP'}],\n",
       "    [u'?',\n",
       "     {u'CharacterOffsetBegin': u'29',\n",
       "      u'CharacterOffsetEnd': u'30',\n",
       "      u'Lemma': u'?',\n",
       "      u'NamedEntityTag': u'O',\n",
       "      u'PartOfSpeech': u'.'}]]},\n",
       "  {u'dependencies': [[u'root', u'ROOT-0', u'Rivers-2'],\n",
       "    [u'nn', u'Rivers-2', u'Melissa-1'],\n",
       "    [u'dep', u'Rivers-2', u'Taking-3'],\n",
       "    [u'amod', u'News-7', u'Legal-4'],\n",
       "    [u'nn', u'News-7', u'Action-5'],\n",
       "    [u'dep', u'Taking-3', u'News-7'],\n",
       "    [u'dep', u'News-7', u'Of-8'],\n",
       "    [u'poss', u'Surfaces-12', u'Doctor-9'],\n",
       "    [u'nn', u'Surfaces-12', u'Selfie-11'],\n",
       "    [u'pobj', u'Of-8', u'Surfaces-12']],\n",
       "   u'parsetree': u\"(ROOT (FRAG (NP (NNP Melissa) (NNP Rivers)) (S (VP (VBG Taking) (S (NP (JJ Legal) (NNP Action) (, ,) (NNP News)) (PP (IN Of) (NP (NP (NNP Doctor) (POS 's)) (NNP Selfie) (NNPS Surfaces))))))))\",\n",
       "   u'text': u\"Melissa Rivers Taking Legal Action, News Of Doctor's Selfie Surfaces\",\n",
       "   u'words': [[u'Melissa',\n",
       "     {u'CharacterOffsetBegin': u'31',\n",
       "      u'CharacterOffsetEnd': u'38',\n",
       "      u'Lemma': u'Melissa',\n",
       "      u'NamedEntityTag': u'PERSON',\n",
       "      u'PartOfSpeech': u'NNP'}],\n",
       "    [u'Rivers',\n",
       "     {u'CharacterOffsetBegin': u'39',\n",
       "      u'CharacterOffsetEnd': u'45',\n",
       "      u'Lemma': u'Rivers',\n",
       "      u'NamedEntityTag': u'PERSON',\n",
       "      u'PartOfSpeech': u'NNP'}],\n",
       "    [u'Taking',\n",
       "     {u'CharacterOffsetBegin': u'46',\n",
       "      u'CharacterOffsetEnd': u'52',\n",
       "      u'Lemma': u'take',\n",
       "      u'NamedEntityTag': u'O',\n",
       "      u'PartOfSpeech': u'VBG'}],\n",
       "    [u'Legal',\n",
       "     {u'CharacterOffsetBegin': u'53',\n",
       "      u'CharacterOffsetEnd': u'58',\n",
       "      u'Lemma': u'legal',\n",
       "      u'NamedEntityTag': u'O',\n",
       "      u'PartOfSpeech': u'JJ'}],\n",
       "    [u'Action',\n",
       "     {u'CharacterOffsetBegin': u'59',\n",
       "      u'CharacterOffsetEnd': u'65',\n",
       "      u'Lemma': u'Action',\n",
       "      u'NamedEntityTag': u'O',\n",
       "      u'PartOfSpeech': u'NNP'}],\n",
       "    [u',',\n",
       "     {u'CharacterOffsetBegin': u'65',\n",
       "      u'CharacterOffsetEnd': u'66',\n",
       "      u'Lemma': u',',\n",
       "      u'NamedEntityTag': u'O',\n",
       "      u'PartOfSpeech': u','}],\n",
       "    [u'News',\n",
       "     {u'CharacterOffsetBegin': u'67',\n",
       "      u'CharacterOffsetEnd': u'71',\n",
       "      u'Lemma': u'News',\n",
       "      u'NamedEntityTag': u'O',\n",
       "      u'PartOfSpeech': u'NNP'}],\n",
       "    [u'Of',\n",
       "     {u'CharacterOffsetBegin': u'72',\n",
       "      u'CharacterOffsetEnd': u'74',\n",
       "      u'Lemma': u'of',\n",
       "      u'NamedEntityTag': u'O',\n",
       "      u'PartOfSpeech': u'IN'}],\n",
       "    [u'Doctor',\n",
       "     {u'CharacterOffsetBegin': u'75',\n",
       "      u'CharacterOffsetEnd': u'81',\n",
       "      u'Lemma': u'Doctor',\n",
       "      u'NamedEntityTag': u'O',\n",
       "      u'PartOfSpeech': u'NNP'}],\n",
       "    [u\"'s\",\n",
       "     {u'CharacterOffsetBegin': u'81',\n",
       "      u'CharacterOffsetEnd': u'83',\n",
       "      u'Lemma': u\"'s\",\n",
       "      u'NamedEntityTag': u'O',\n",
       "      u'PartOfSpeech': u'POS'}],\n",
       "    [u'Selfie',\n",
       "     {u'CharacterOffsetBegin': u'84',\n",
       "      u'CharacterOffsetEnd': u'90',\n",
       "      u'Lemma': u'Selfie',\n",
       "      u'NamedEntityTag': u'O',\n",
       "      u'PartOfSpeech': u'NNP'}],\n",
       "    [u'Surfaces',\n",
       "     {u'CharacterOffsetBegin': u'91',\n",
       "      u'CharacterOffsetEnd': u'99',\n",
       "      u'Lemma': u'Surfaces',\n",
       "      u'NamedEntityTag': u'O',\n",
       "      u'PartOfSpeech': u'NNPS'}]]}]}"
      ]
     },
     "execution_count": 17,
     "metadata": {},
     "output_type": "execute_result"
    }
   ],
   "source": [
    "more_than_one_sentence[0]"
   ]
  },
  {
   "cell_type": "code",
   "execution_count": null,
   "metadata": {
    "collapsed": true
   },
   "outputs": [],
   "source": []
  }
 ],
 "metadata": {
  "kernelspec": {
   "display_name": "Python 2",
   "language": "python",
   "name": "python2"
  },
  "language_info": {
   "codemirror_mode": {
    "name": "ipython",
    "version": 2
   },
   "file_extension": ".py",
   "mimetype": "text/x-python",
   "name": "python",
   "nbconvert_exporter": "python",
   "pygments_lexer": "ipython2",
   "version": "2.7.10"
  }
 },
 "nbformat": 4,
 "nbformat_minor": 0
}
