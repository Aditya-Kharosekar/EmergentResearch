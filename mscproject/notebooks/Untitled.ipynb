{
 "cells": [
  {
   "cell_type": "code",
   "execution_count": 1,
   "metadata": {
    "collapsed": false
   },
   "outputs": [
    {
     "name": "stdout",
     "output_type": "stream",
     "text": [
      "/Users/williamferreira/Dropbox/mscproject/src\n"
     ]
    }
   ],
   "source": [
    "cd ../src"
   ]
  },
  {
   "cell_type": "code",
   "execution_count": 2,
   "metadata": {
    "collapsed": true
   },
   "outputs": [],
   "source": [
    "from model.utils import get_dataset"
   ]
  },
  {
   "cell_type": "code",
   "execution_count": 3,
   "metadata": {
    "collapsed": true
   },
   "outputs": [],
   "source": [
    "df_data = get_dataset()"
   ]
  },
  {
   "cell_type": "code",
   "execution_count": 6,
   "metadata": {
    "collapsed": true
   },
   "outputs": [],
   "source": [
    "df_data_not = df_data[df_data.articleHeadline.str.contains('not')]"
   ]
  },
  {
   "cell_type": "code",
   "execution_count": 10,
   "metadata": {
    "collapsed": false
   },
   "outputs": [
    {
     "data": {
      "text/plain": [
       "against      63.945578\n",
       "for          26.530612\n",
       "observing     9.523810\n",
       "dtype: float64"
      ]
     },
     "execution_count": 10,
     "metadata": {},
     "output_type": "execute_result"
    }
   ],
   "source": [
    "df_data_not.articleHeadlineStance.value_counts() / df_data_not.articleHeadlineStance.value_counts().sum() * 100"
   ]
  },
  {
   "cell_type": "code",
   "execution_count": 15,
   "metadata": {
    "collapsed": false
   },
   "outputs": [
    {
     "data": {
      "text/plain": [
       "(395, 5)"
      ]
     },
     "execution_count": 15,
     "metadata": {},
     "output_type": "execute_result"
    }
   ],
   "source": [
    "df_data_against = df_data[df_data.articleHeadlineStance == 'against']\n",
    "df_data_against.shape"
   ]
  },
  {
   "cell_type": "code",
   "execution_count": 14,
   "metadata": {
    "collapsed": false
   },
   "outputs": [
    {
     "data": {
      "text/plain": [
       "(94, 5)"
      ]
     },
     "execution_count": 14,
     "metadata": {},
     "output_type": "execute_result"
    }
   ],
   "source": [
    "df_data_against[df_data_against.articleHeadline.str.contains('not')].shape"
   ]
  },
  {
   "cell_type": "code",
   "execution_count": 13,
   "metadata": {
    "collapsed": false
   },
   "outputs": [],
   "source": [
    "df_data_fa = df_data.drop(df_data[df_data.articleHeadlineStance == 'observing'].index)"
   ]
  },
  {
   "cell_type": "code",
   "execution_count": 14,
   "metadata": {
    "collapsed": false
   },
   "outputs": [
    {
     "data": {
      "text/html": [
       "<div>\n",
       "<table border=\"1\" class=\"dataframe\">\n",
       "  <thead>\n",
       "    <tr style=\"text-align: right;\">\n",
       "      <th></th>\n",
       "      <th>claimHeadline</th>\n",
       "      <th>articleHeadline</th>\n",
       "      <th>articleHeadlineStance</th>\n",
       "      <th>articleId</th>\n",
       "      <th>claimId</th>\n",
       "    </tr>\n",
       "  </thead>\n",
       "  <tbody>\n",
       "    <tr>\n",
       "      <th>1</th>\n",
       "      <td>Two Australian men kept a McDonald's Quarter P...</td>\n",
       "      <td>World's oldest burger</td>\n",
       "      <td>for</td>\n",
       "      <td>8bb10fd0-b6aa-11e4-8507-b58af63d1078</td>\n",
       "      <td>d54aaf40-b6a8-11e4-8507-b58af63d1078</td>\n",
       "    </tr>\n",
       "    <tr>\n",
       "      <th>2</th>\n",
       "      <td>Two Australian men kept a McDonald's Quarter P...</td>\n",
       "      <td>Two blokes dared to eat 20-year-old burger for...</td>\n",
       "      <td>for</td>\n",
       "      <td>00b6b660-b6a9-11e4-8507-b58af63d1078</td>\n",
       "      <td>d54aaf40-b6a8-11e4-8507-b58af63d1078</td>\n",
       "    </tr>\n",
       "    <tr>\n",
       "      <th>3</th>\n",
       "      <td>Two Australian men kept a McDonald's Quarter P...</td>\n",
       "      <td>Would you take a bite out of the world's oldes...</td>\n",
       "      <td>for</td>\n",
       "      <td>fc92d640-b6a8-11e4-8507-b58af63d1078</td>\n",
       "      <td>d54aaf40-b6a8-11e4-8507-b58af63d1078</td>\n",
       "    </tr>\n",
       "    <tr>\n",
       "      <th>4</th>\n",
       "      <td>Two Australian men kept a McDonald's Quarter P...</td>\n",
       "      <td>20 year old burger? McDonald's burger purchase...</td>\n",
       "      <td>for</td>\n",
       "      <td>08c84b70-b6a9-11e4-8507-b58af63d1078</td>\n",
       "      <td>d54aaf40-b6a8-11e4-8507-b58af63d1078</td>\n",
       "    </tr>\n",
       "    <tr>\n",
       "      <th>5</th>\n",
       "      <td>Two Australian men kept a McDonald's Quarter P...</td>\n",
       "      <td>20-year-old burger: McDonald's Quarter Pounder...</td>\n",
       "      <td>for</td>\n",
       "      <td>ef4142b0-b6a8-11e4-8507-b58af63d1078</td>\n",
       "      <td>d54aaf40-b6a8-11e4-8507-b58af63d1078</td>\n",
       "    </tr>\n",
       "  </tbody>\n",
       "</table>\n",
       "</div>"
      ],
      "text/plain": [
       "                                       claimHeadline  \\\n",
       "1  Two Australian men kept a McDonald's Quarter P...   \n",
       "2  Two Australian men kept a McDonald's Quarter P...   \n",
       "3  Two Australian men kept a McDonald's Quarter P...   \n",
       "4  Two Australian men kept a McDonald's Quarter P...   \n",
       "5  Two Australian men kept a McDonald's Quarter P...   \n",
       "\n",
       "                                     articleHeadline articleHeadlineStance  \\\n",
       "1                              World's oldest burger                   for   \n",
       "2  Two blokes dared to eat 20-year-old burger for...                   for   \n",
       "3  Would you take a bite out of the world's oldes...                   for   \n",
       "4  20 year old burger? McDonald's burger purchase...                   for   \n",
       "5  20-year-old burger: McDonald's Quarter Pounder...                   for   \n",
       "\n",
       "                              articleId                               claimId  \n",
       "1  8bb10fd0-b6aa-11e4-8507-b58af63d1078  d54aaf40-b6a8-11e4-8507-b58af63d1078  \n",
       "2  00b6b660-b6a9-11e4-8507-b58af63d1078  d54aaf40-b6a8-11e4-8507-b58af63d1078  \n",
       "3  fc92d640-b6a8-11e4-8507-b58af63d1078  d54aaf40-b6a8-11e4-8507-b58af63d1078  \n",
       "4  08c84b70-b6a9-11e4-8507-b58af63d1078  d54aaf40-b6a8-11e4-8507-b58af63d1078  \n",
       "5  ef4142b0-b6a8-11e4-8507-b58af63d1078  d54aaf40-b6a8-11e4-8507-b58af63d1078  "
      ]
     },
     "execution_count": 14,
     "metadata": {},
     "output_type": "execute_result"
    }
   ],
   "source": [
    "df_data_fa.head()"
   ]
  },
  {
   "cell_type": "code",
   "execution_count": 15,
   "metadata": {
    "collapsed": true
   },
   "outputs": [],
   "source": [
    "s = 'Q,BoW-Hed,BoW-Ref,I,BoW,Sim-Algn-W2V,Sim-Algn-PPDB,Root-Dist,Neg-Algn,SVO'"
   ]
  },
  {
   "cell_type": "code",
   "execution_count": 16,
   "metadata": {
    "collapsed": false
   },
   "outputs": [
    {
     "data": {
      "text/plain": [
       "['Q',\n",
       " 'BoW-Hed',\n",
       " 'BoW-Ref',\n",
       " 'I',\n",
       " 'BoW',\n",
       " 'Sim-Algn-W2V',\n",
       " 'Sim-Algn-PPDB',\n",
       " 'Root-Dist',\n",
       " 'Neg-Algn',\n",
       " 'SVO']"
      ]
     },
     "execution_count": 16,
     "metadata": {},
     "output_type": "execute_result"
    }
   ],
   "source": [
    "s.split(',')"
   ]
  },
  {
   "cell_type": "code",
   "execution_count": null,
   "metadata": {
    "collapsed": true
   },
   "outputs": [],
   "source": []
  }
 ],
 "metadata": {
  "kernelspec": {
   "display_name": "Python 2",
   "language": "python",
   "name": "python2"
  },
  "language_info": {
   "codemirror_mode": {
    "name": "ipython",
    "version": 2
   },
   "file_extension": ".py",
   "mimetype": "text/x-python",
   "name": "python",
   "nbconvert_exporter": "python",
   "pygments_lexer": "ipython2",
   "version": "2.7.10"
  }
 },
 "nbformat": 4,
 "nbformat_minor": 0
}
