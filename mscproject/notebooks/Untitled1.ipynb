{
 "cells": [
  {
   "cell_type": "code",
   "execution_count": 1,
   "metadata": {
    "collapsed": false
   },
   "outputs": [
    {
     "name": "stdout",
     "output_type": "stream",
     "text": [
      "/Users/williamferreira/Dropbox/mscproject/src\n"
     ]
    }
   ],
   "source": [
    "cd ../src"
   ]
  },
  {
   "cell_type": "code",
   "execution_count": 2,
   "metadata": {
    "collapsed": true
   },
   "outputs": [],
   "source": [
    "from model.utils import get_tokenized_lemmas"
   ]
  },
  {
   "cell_type": "code",
   "execution_count": 3,
   "metadata": {
    "collapsed": false
   },
   "outputs": [
    {
     "data": {
      "text/plain": [
       "['she', 'did', \"n't\", 'see', 'the', 'elephant']"
      ]
     },
     "execution_count": 3,
     "metadata": {},
     "output_type": "execute_result"
    }
   ],
   "source": [
    "get_tokenized_lemmas(\"She didn't see the elephant\")"
   ]
  },
  {
   "cell_type": "code",
   "execution_count": 4,
   "metadata": {
    "collapsed": true
   },
   "outputs": [],
   "source": [
    "from model.stanford import nlp"
   ]
  },
  {
   "cell_type": "code",
   "execution_count": 7,
   "metadata": {
    "collapsed": false
   },
   "outputs": [
    {
     "data": {
      "text/plain": [
       "{u'sentences': [{u'dependencies': [[u'root', u'ROOT-0', u'see-4'],\n",
       "    [u'nsubj', u'see-4', u'She-1'],\n",
       "    [u'aux', u'see-4', u'did-2'],\n",
       "    [u'neg', u'see-4', u\"n't-3\"],\n",
       "    [u'det', u'elephant-6', u'the-5'],\n",
       "    [u'dobj', u'see-4', u'elephant-6']],\n",
       "   u'parsetree': u\"(ROOT (S (NP (PRP She)) (VP (VBD did) (RB n't) (VP (VB see) (NP (DT the) (NN elephant))))))\",\n",
       "   u'text': u\"She didn't see the elephant\",\n",
       "   u'words': [[u'She',\n",
       "     {u'CharacterOffsetBegin': u'0',\n",
       "      u'CharacterOffsetEnd': u'3',\n",
       "      u'Lemma': u'she',\n",
       "      u'NamedEntityTag': u'O',\n",
       "      u'PartOfSpeech': u'PRP'}],\n",
       "    [u'did',\n",
       "     {u'CharacterOffsetBegin': u'4',\n",
       "      u'CharacterOffsetEnd': u'7',\n",
       "      u'Lemma': u'do',\n",
       "      u'NamedEntityTag': u'O',\n",
       "      u'PartOfSpeech': u'VBD'}],\n",
       "    [u\"n't\",\n",
       "     {u'CharacterOffsetBegin': u'7',\n",
       "      u'CharacterOffsetEnd': u'10',\n",
       "      u'Lemma': u'not',\n",
       "      u'NamedEntityTag': u'O',\n",
       "      u'PartOfSpeech': u'RB'}],\n",
       "    [u'see',\n",
       "     {u'CharacterOffsetBegin': u'11',\n",
       "      u'CharacterOffsetEnd': u'14',\n",
       "      u'Lemma': u'see',\n",
       "      u'NamedEntityTag': u'O',\n",
       "      u'PartOfSpeech': u'VB'}],\n",
       "    [u'the',\n",
       "     {u'CharacterOffsetBegin': u'15',\n",
       "      u'CharacterOffsetEnd': u'18',\n",
       "      u'Lemma': u'the',\n",
       "      u'NamedEntityTag': u'O',\n",
       "      u'PartOfSpeech': u'DT'}],\n",
       "    [u'elephant',\n",
       "     {u'CharacterOffsetBegin': u'19',\n",
       "      u'CharacterOffsetEnd': u'27',\n",
       "      u'Lemma': u'elephant',\n",
       "      u'NamedEntityTag': u'O',\n",
       "      u'PartOfSpeech': u'NN'}]]}]}"
      ]
     },
     "execution_count": 7,
     "metadata": {},
     "output_type": "execute_result"
    }
   ],
   "source": [
    "nlp.parse(\"She didn't see the elephant\")"
   ]
  },
  {
   "cell_type": "code",
   "execution_count": 8,
   "metadata": {
    "collapsed": true
   },
   "outputs": [],
   "source": [
    "from nltk.stem.porter import PorterStemmer"
   ]
  },
  {
   "cell_type": "code",
   "execution_count": 9,
   "metadata": {
    "collapsed": true
   },
   "outputs": [],
   "source": [
    "stemmer = PorterStemmer()"
   ]
  },
  {
   "cell_type": "code",
   "execution_count": 23,
   "metadata": {
    "collapsed": false
   },
   "outputs": [
    {
     "data": {
      "text/plain": [
       "u'reportedli'"
      ]
     },
     "execution_count": 23,
     "metadata": {},
     "output_type": "execute_result"
    }
   ],
   "source": [
    "stemmer.stem('reportedly')"
   ]
  },
  {
   "cell_type": "code",
   "execution_count": 27,
   "metadata": {
    "collapsed": true
   },
   "outputs": [],
   "source": [
    "from sklearn.feature_extraction.text import CountVectorizer"
   ]
  },
  {
   "cell_type": "code",
   "execution_count": 30,
   "metadata": {
    "collapsed": true
   },
   "outputs": [],
   "source": [
    "cv = CountVectorizer(vocabulary=['a', 'b', 'c', 'd'])"
   ]
  },
  {
   "cell_type": "code",
   "execution_count": 31,
   "metadata": {
    "collapsed": false
   },
   "outputs": [
    {
     "data": {
      "text/plain": [
       "['a', 'b', 'c', 'd']"
      ]
     },
     "execution_count": 31,
     "metadata": {},
     "output_type": "execute_result"
    }
   ],
   "source": [
    "cv.vocabulary"
   ]
  },
  {
   "cell_type": "code",
   "execution_count": 33,
   "metadata": {
    "collapsed": true
   },
   "outputs": [],
   "source": [
    "s = set([1, 2, 3])"
   ]
  },
  {
   "cell_type": "code",
   "execution_count": 34,
   "metadata": {
    "collapsed": false
   },
   "outputs": [
    {
     "data": {
      "text/plain": [
       "{1, 2, 3}"
      ]
     },
     "execution_count": 34,
     "metadata": {},
     "output_type": "execute_result"
    }
   ],
   "source": [
    "s"
   ]
  },
  {
   "cell_type": "code",
   "execution_count": 38,
   "metadata": {
    "collapsed": false
   },
   "outputs": [],
   "source": [
    "s.update([3, 4, 5])"
   ]
  },
  {
   "cell_type": "code",
   "execution_count": 39,
   "metadata": {
    "collapsed": false
   },
   "outputs": [
    {
     "data": {
      "text/plain": [
       "{1, 2, 3, 4, 5}"
      ]
     },
     "execution_count": 39,
     "metadata": {},
     "output_type": "execute_result"
    }
   ],
   "source": [
    "s"
   ]
  },
  {
   "cell_type": "code",
   "execution_count": 40,
   "metadata": {
    "collapsed": true
   },
   "outputs": [],
   "source": [
    "cv = CountVectorizer()"
   ]
  },
  {
   "cell_type": "code",
   "execution_count": 42,
   "metadata": {
    "collapsed": false
   },
   "outputs": [
    {
     "data": {
      "text/plain": [
       "<1x1 sparse matrix of type '<type 'numpy.int64'>'\n",
       "\twith 1 stored elements in Compressed Sparse Row format>"
      ]
     },
     "execution_count": 42,
     "metadata": {},
     "output_type": "execute_result"
    }
   ],
   "source": [
    "cv.fit_transform(['Hello?'])"
   ]
  },
  {
   "cell_type": "code",
   "execution_count": 43,
   "metadata": {
    "collapsed": false
   },
   "outputs": [
    {
     "data": {
      "text/plain": [
       "[u'hello']"
      ]
     },
     "execution_count": 43,
     "metadata": {},
     "output_type": "execute_result"
    }
   ],
   "source": [
    "cv.get_feature_names()"
   ]
  },
  {
   "cell_type": "code",
   "execution_count": 12,
   "metadata": {
    "collapsed": false
   },
   "outputs": [
    {
     "data": {
      "text/plain": [
       "{1}"
      ]
     },
     "execution_count": 12,
     "metadata": {},
     "output_type": "execute_result"
    }
   ],
   "source": [
    "s = set([1,2,3])\n",
    "s.difference_update([2, 3])\n",
    "s"
   ]
  },
  {
   "cell_type": "code",
   "execution_count": 2,
   "metadata": {
    "collapsed": true
   },
   "outputs": [],
   "source": [
    "import numpy as np"
   ]
  },
  {
   "cell_type": "code",
   "execution_count": 12,
   "metadata": {
    "collapsed": false
   },
   "outputs": [],
   "source": [
    "from model.utils import get_dataset, get_tokenized_lemmas\n",
    "from model.baseline.transforms import _refuting_words, _hedging_words"
   ]
  },
  {
   "cell_type": "code",
   "execution_count": 13,
   "metadata": {
    "collapsed": true
   },
   "outputs": [],
   "source": [
    "df_test = get_dataset('url-versions-2015-06-14-clean-test.csv')\n",
    "df_train = get_dataset('url-versions-2015-06-14-clean-train.csv')"
   ]
  },
  {
   "cell_type": "code",
   "execution_count": 17,
   "metadata": {
    "collapsed": true
   },
   "outputs": [],
   "source": [
    "hr_words = set(_refuting_words)\n",
    "hr_words.update(_hedging_words)"
   ]
  },
  {
   "cell_type": "code",
   "execution_count": 19,
   "metadata": {
    "collapsed": false
   },
   "outputs": [],
   "source": [
    "all_test_words = set()\n",
    "for _, row in df_test.iterrows():\n",
    "    toks = get_tokenized_lemmas(row.articleHeadline)\n",
    "    all_test_words.update(toks)"
   ]
  },
  {
   "cell_type": "code",
   "execution_count": 20,
   "metadata": {
    "collapsed": true
   },
   "outputs": [],
   "source": [
    "all_train_words = set()\n",
    "for _, row in df_train.iterrows():\n",
    "    toks = get_tokenized_lemmas(row.articleHeadline)\n",
    "    all_train_words.update(toks)"
   ]
  },
  {
   "cell_type": "code",
   "execution_count": 23,
   "metadata": {
    "collapsed": false
   },
   "outputs": [
    {
     "data": {
      "text/plain": [
       "{'refute', 'supposedly'}"
      ]
     },
     "execution_count": 23,
     "metadata": {},
     "output_type": "execute_result"
    }
   ],
   "source": [
    "(all_test_words.intersection(hr_words)).difference(all_train_words.intersection(hr_words))"
   ]
  },
  {
   "cell_type": "code",
   "execution_count": 28,
   "metadata": {
    "collapsed": false
   },
   "outputs": [
    {
     "data": {
      "text/plain": [
       "array([ -1.00000000e+00,  -9.00000000e-01,  -8.00000000e-01,\n",
       "        -7.00000000e-01,  -6.00000000e-01,  -5.00000000e-01,\n",
       "        -4.00000000e-01,  -3.00000000e-01,  -2.00000000e-01,\n",
       "        -1.00000000e-01,  -2.22044605e-16,   1.00000000e-01,\n",
       "         2.00000000e-01,   3.00000000e-01,   4.00000000e-01,\n",
       "         5.00000000e-01,   6.00000000e-01,   7.00000000e-01,\n",
       "         8.00000000e-01,   9.00000000e-01,   1.00000000e+00])"
      ]
     },
     "execution_count": 28,
     "metadata": {},
     "output_type": "execute_result"
    }
   ],
   "source": [
    "bins = np.arange(-1.0, 1.1, 0.1)\n",
    "bins"
   ]
  },
  {
   "cell_type": "code",
   "execution_count": 31,
   "metadata": {
    "collapsed": false
   },
   "outputs": [
    {
     "data": {
      "text/plain": [
       "array([21])"
      ]
     },
     "execution_count": 31,
     "metadata": {},
     "output_type": "execute_result"
    }
   ],
   "source": [
    "np.digitize([1.0], bins)"
   ]
  },
  {
   "cell_type": "code",
   "execution_count": 33,
   "metadata": {
    "collapsed": false
   },
   "outputs": [
    {
     "data": {
      "text/plain": [
       "21"
      ]
     },
     "execution_count": 33,
     "metadata": {},
     "output_type": "execute_result"
    }
   ],
   "source": [
    "bins.shape[0]"
   ]
  },
  {
   "cell_type": "code",
   "execution_count": 34,
   "metadata": {
    "collapsed": true
   },
   "outputs": [],
   "source": [
    "from model.utils import get_ppdb_data"
   ]
  },
  {
   "cell_type": "code",
   "execution_count": 35,
   "metadata": {
    "collapsed": true
   },
   "outputs": [],
   "source": [
    "ppdb_data = get_ppdb_data()"
   ]
  },
  {
   "cell_type": "code",
   "execution_count": 36,
   "metadata": {
    "collapsed": false
   },
   "outputs": [
    {
     "data": {
      "text/plain": [
       "[('cities', 6.42631, 'ReverseEntailment'),\n",
       " ('town', 3.16952, 'OtherRelated'),\n",
       " ('towns', 3.16952, 'OtherRelated'),\n",
       " ('municipality', 3.11759, 'ForwardEntailment'),\n",
       " ('municipalities', 3.11759, 'ForwardEntailment'),\n",
       " ('metropolis', 2.67227, 'OtherRelated'),\n",
       " ('cit\\xc3\\xa9', 2.39422, 'Independent'),\n",
       " ('district', 2.31227, 'ForwardEntailment'),\n",
       " ('metropolitan', 2.22038, 'Independent'),\n",
       " ('municipal', 2.19666, 'Independent'),\n",
       " ('capital', 2.09307, 'OtherRelated'),\n",
       " ('ciudad', 2.08186, 'Independent'),\n",
       " ('urban', 2.08134, 'Independent'),\n",
       " ('ville', 2.07875, 'Independent'),\n",
       " ('precinct', 2.07006, 'Independent'),\n",
       " ('location', 2.02861, 'Independent'),\n",
       " ('jerusalem', 1.90066, 'OtherRelated'),\n",
       " ('township', 1.80446, 'OtherRelated'),\n",
       " ('cited', 1.79416, 'Independent'),\n",
       " ('shanghai', 1.79292, 'ReverseEntailment'),\n",
       " ('madinat', 1.77269, 'Independent'),\n",
       " ('downtown', 1.76181, 'OtherRelated'),\n",
       " ('medina', 1.73073, 'Independent'),\n",
       " ('community', 1.65624, 'Independent'),\n",
       " ('shing', 1.64008, 'Independent'),\n",
       " ('commune', 1.6383, 'Independent'),\n",
       " ('stadt', 1.59853, 'Independent'),\n",
       " ('market', 1.59132, 'Independent'),\n",
       " ('siti', 1.56136, 'Independent'),\n",
       " ('municipalit\\xc3\\xa9', 1.54583, 'Independent'),\n",
       " ('quebec', 1.53646, 'Independent'),\n",
       " ('asuncion', 1.52249, 'Independent'),\n",
       " ('vancouver', 1.51784, 'ReverseEntailment'),\n",
       " ('quoted', 1.51237, 'Independent'),\n",
       " ('strasbourg', 1.48286, 'Independent'),\n",
       " ('castle', 1.46923, 'Independent'),\n",
       " ('edmonton', 1.46345, 'Independent'),\n",
       " ('centre-ville', 1.45094, 'Independent'),\n",
       " ('toronto', 1.4393, 'ReverseEntailment'),\n",
       " ('beijing', 1.42868, 'ReverseEntailment'),\n",
       " ('shinbone', 1.41131, 'Independent'),\n",
       " ('located', 1.40888, 'Independent'),\n",
       " ('mayor', 1.40237, 'OtherRelated'),\n",
       " ('d.f.', 1.37837, 'Independent'),\n",
       " ('miasta', 1.3749, 'Independent'),\n",
       " ('miasto', 1.36191, 'Independent'),\n",
       " ('civic', 1.3616, 'Independent'),\n",
       " ('mesto', 1.35799, 'Independent'),\n",
       " ('grozny', 1.35615, 'Independent'),\n",
       " ('municipio', 1.34764, 'Independent'),\n",
       " ('windsor', 1.34419, 'Independent'),\n",
       " ('debtor', 1.34238, 'Independent'),\n",
       " ('qu\\xc3\\xa9bec', 1.34186, 'Independent'),\n",
       " ('metro', 1.33976, 'Independent'),\n",
       " ('madina', 1.29992, 'Independent'),\n",
       " ('village', 1.29831, 'Independent'),\n",
       " ('gemeente', 1.29572, 'Independent'),\n",
       " ('cite', 1.29499, 'Independent'),\n",
       " ('soleil', 1.29184, 'Independent'),\n",
       " ('villa', 1.26027, 'Independent'),\n",
       " ('kuwait', 1.25724, 'Independent'),\n",
       " ('situated', 1.23957, 'Independent'),\n",
       " ('municipale', 1.21198, 'Independent'),\n",
       " ('york', 1.20273, 'OtherRelated'),\n",
       " ('viiie', 1.18715, 'Independent'),\n",
       " ('urbtix', 1.17253, 'Independent'),\n",
       " ('al-sharif', 1.16288, 'Independent'),\n",
       " ('urbain', 1.15804, 'Independent'),\n",
       " ('quds', 1.12576, 'Independent'),\n",
       " ('cheng', 1.12074, 'Independent'),\n",
       " ('place', 1.11104, 'Independent'),\n",
       " ('hebron', 1.10418, 'OtherRelated'),\n",
       " ('lachin', 1.10221, 'Independent'),\n",
       " ('podgorica', 1.08226, 'Independent'),\n",
       " ('bec', 1.07394, 'Independent'),\n",
       " ('urbana', 1.06169, 'Independent'),\n",
       " ('oci', 1.02963, 'Independent'),\n",
       " ('urbaine', 1.02241, 'Independent'),\n",
       " ('centre', 1.02054, 'Independent'),\n",
       " ('ar', 1.02002, 'Independent'),\n",
       " ('board', 1.00677, 'Independent'),\n",
       " ('al-quds', 0.99233, 'Independent'),\n",
       " ('viiith', 0.97903, 'Independent'),\n",
       " ('communal', 0.96604, 'Independent'),\n",
       " ('local', 0.94366, 'Independent'),\n",
       " ('citigroup', 0.91119, 'Independent'),\n",
       " ('b\\xc3\\xb6rse', 0.91062, 'Independent'),\n",
       " ('thunder', 0.88521, 'Independent'),\n",
       " ('mairie', 0.88032, 'Independent'),\n",
       " ('civilian', 0.87131, 'Independent'),\n",
       " ('chinatown', 0.84363, 'Independent'),\n",
       " ('xi', 0.82483, 'Independent'),\n",
       " ('puc', 0.81417, 'Independent'),\n",
       " ('dawson', 0.79805, 'Independent'),\n",
       " ('nyc', 0.71459, 'Independent'),\n",
       " ('al', 0.66253, 'Independent'),\n",
       " ('casco', 0.62523, 'Independent'),\n",
       " ('tal', 0.53621, 'Independent'),\n",
       " ('bouake', 0.47582, 'Independent'),\n",
       " ('timbuktu', 0.45442, 'Independent'),\n",
       " ('tianjin', 0.45133, 'Independent'),\n",
       " ('ram', 0.38749, 'Independent'),\n",
       " ('citi', 0.37182, 'Independent'),\n",
       " ('tpb', 0.30724, 'Independent'),\n",
       " ('seti', 0.2362, 'Independent'),\n",
       " ('linn', 0.15277, 'Independent'),\n",
       " ('tuz', 0.00564, 'Independent'),\n",
       " ('lavall\\xc3\\xa9e', -0.00588, 'Independent'),\n",
       " ('seongnam', -0.03582, 'Independent'),\n",
       " ('coronado', -0.06261, 'Independent'),\n",
       " ('aichi', -0.08821, 'Independent'),\n",
       " ('velika', -0.20208, 'Independent'),\n",
       " ('c-75', -0.29372, 'Independent'),\n",
       " ('neighbourhoods', -0.32856, 'Independent'),\n",
       " ('town', 3.71287, 'OtherRelated'),\n",
       " ('municipality', 3.6708, 'ForwardEntailment'),\n",
       " ('metropolis', 3.45957, 'OtherRelated'),\n",
       " ('district', 2.9169, 'ForwardEntailment'),\n",
       " ('location', 2.73832, 'Independent'),\n",
       " ('shanghai', 2.68428, 'ReverseEntailment'),\n",
       " ('jerusalem', 2.67466, 'OtherRelated'),\n",
       " ('capital', 2.5767, 'OtherRelated'),\n",
       " ('tianjin', 2.5332, 'Independent'),\n",
       " ('municipal', 2.52324, 'Independent'),\n",
       " ('hometown', 2.47872, 'OtherRelated'),\n",
       " ('beijing', 2.46326, 'ReverseEntailment'),\n",
       " ('cityscape', 2.45445, 'ReverseEntailment'),\n",
       " ('precinct', 2.42973, 'Independent'),\n",
       " ('community', 2.40512, 'Independent'),\n",
       " ('locality', 2.38864, 'Independent'),\n",
       " ('ville', 2.38063, 'Independent'),\n",
       " ('guangzhou', 2.37073, 'Independent'),\n",
       " ('downtown', 2.3528, 'OtherRelated'),\n",
       " ('township', 2.34954, 'OtherRelated'),\n",
       " ('chongqing', 2.33607, 'ReverseEntailment'),\n",
       " ('village', 2.32568, 'Independent'),\n",
       " ('sarajevo', 2.31965, 'OtherRelated'),\n",
       " ('kirkuk', 2.2711, 'Independent'),\n",
       " ('commune', 2.25276, 'Independent'),\n",
       " ('market', 2.22437, 'Independent'),\n",
       " ('urban', 2.22282, 'Independent'),\n",
       " ('agglomeration', 2.15522, 'Independent'),\n",
       " ('nablus', 2.14983, 'ReverseEntailment'),\n",
       " ('mosul', 2.14942, 'Independent'),\n",
       " ('townsite', 2.12647, 'Independent'),\n",
       " ('neighborhood', 2.10257, 'Independent'),\n",
       " ('kabul', 2.10095, 'ReverseEntailment'),\n",
       " ('grozny', 2.09067, 'Independent'),\n",
       " ('shenyang', 2.0525, 'Independent'),\n",
       " ('debtor', 2.04944, 'Independent'),\n",
       " ('shenzhen', 2.04761, 'Independent'),\n",
       " ('cosmopolitan', 2.04571, 'Independent'),\n",
       " ('conurbation', 2.03862, 'Independent'),\n",
       " ('quebec', 2.02939, 'Independent'),\n",
       " ('place', 2.02605, 'Independent'),\n",
       " ('center', 2.02481, 'Independent'),\n",
       " ('york', 1.96519, 'OtherRelated'),\n",
       " ('basra', 1.9641, 'ReverseEntailment'),\n",
       " ('qu\\xc3\\xa9bec', 1.89958, 'Independent'),\n",
       " ('metro', 1.8992, 'Independent'),\n",
       " ('centre', 1.89468, 'Independent'),\n",
       " ('manhattan', 1.89446, 'Independent'),\n",
       " ('mayor', 1.88773, 'OtherRelated'),\n",
       " ('fallujah', 1.82972, 'Independent'),\n",
       " ('shing', 1.82871, 'Independent'),\n",
       " ('civilian', 1.79461, 'Independent'),\n",
       " ('hebron', 1.78549, 'OtherRelated'),\n",
       " ('castle', 1.78129, 'Independent'),\n",
       " ('urbaine', 1.74691, 'Independent'),\n",
       " ('urbanization', 1.73969, 'Independent'),\n",
       " ('urbana', 1.71572, 'Independent'),\n",
       " ('polis', 1.68971, 'Independent'),\n",
       " ('najaf', 1.65978, 'OtherRelated'),\n",
       " ('midtown', 1.65727, 'Independent'),\n",
       " ('mall', 1.59552, 'Independent'),\n",
       " ('study', 1.58742, 'Independent'),\n",
       " ('board', 1.46992, 'Independent'),\n",
       " ('lounge', 1.24642, 'Independent'),\n",
       " ('kuwait', 0.63665, 'Independent'),\n",
       " ('al-sharif', 0.40612, 'Independent'),\n",
       " ('thunder', 0.26405, 'Independent'),\n",
       " ('cities', 5.92953, 'Equivalence'),\n",
       " ('town', 3.5655, 'Equivalence'),\n",
       " ('cited', 3.50647, 'Independent'),\n",
       " ('municipality', 3.38313, 'ReverseEntailment'),\n",
       " ('municipalities', 3.38313, 'ReverseEntailment'),\n",
       " ('quoted', 3.16548, 'Independent'),\n",
       " ('towns', 3.05605, 'Equivalence'),\n",
       " ('municipal', 2.93873, 'OtherRelated'),\n",
       " ('ciudad', 2.90955, 'Equivalence'),\n",
       " ('ville', 2.80782, 'Equivalence'),\n",
       " ('urban', 2.80736, 'Equivalence'),\n",
       " ('town', 2.64063, 'ForwardEntailment'),\n",
       " ('municipal', 2.45589, 'ReverseEntailment'),\n",
       " ('rat', 2.2191, 'Independent'),\n",
       " ('downtown', 2.19301, 'Independent'),\n",
       " ('market', 2.09816, 'Independent'),\n",
       " ('ville', 1.99111, 'Independent'),\n",
       " ('council', 1.84251, 'Independent'),\n",
       " ('the', 1.73927, 'Independent'),\n",
       " ('town', 2.90871, 'Independent'),\n",
       " ('ciudad', 2.65037, 'Equivalence'),\n",
       " ('ville', 2.11923, 'Independent'),\n",
       " ('cities', 6.48381, 'ReverseEntailment'),\n",
       " ('town', 4.06528, 'Equivalence'),\n",
       " ('towns', 4.06528, 'Equivalence'),\n",
       " ('locations', 3.87818, 'ReverseEntailment'),\n",
       " ('cited', 3.53999, 'Independent'),\n",
       " ('municipality', 3.30244, 'ReverseEntailment'),\n",
       " ('municipalities', 3.30244, 'ReverseEntailment'),\n",
       " ('jerusalem', 3.29003, 'Independent'),\n",
       " ('mentioned', 3.27995, 'Independent'),\n",
       " ('quoted', 3.14088, 'Independent'),\n",
       " ('metropolis', 3.03402, 'ReverseEntailment'),\n",
       " ('wanted', 3.00524, 'Independent'),\n",
       " ('ville', 2.68734, 'Independent'),\n",
       " ('town', 2.59215, 'ReverseEntailment'),\n",
       " ('urban', 2.55496, 'ReverseEntailment'),\n",
       " ('capital', 2.47836, 'ForwardEntailment'),\n",
       " ('municipal', 2.36471, 'ReverseEntailment'),\n",
       " ('commune', 2.1074, 'ReverseEntailment'),\n",
       " ('urbain', 2.10117, 'Independent'),\n",
       " ('d.f.', 2.01408, 'Independent'),\n",
       " ('market', 2.00946, 'Independent'),\n",
       " ('d.f.', 1.99844, 'Independent'),\n",
       " ('ville', 1.99078, 'Independent'),\n",
       " ('local', 1.9145, 'Independent'),\n",
       " ('york', 1.84458, 'ReverseEntailment')]"
      ]
     },
     "execution_count": 36,
     "metadata": {},
     "output_type": "execute_result"
    }
   ],
   "source": [
    "ppdb_data['city']"
   ]
  },
  {
   "cell_type": "code",
   "execution_count": 37,
   "metadata": {
    "collapsed": true
   },
   "outputs": [],
   "source": [
    "_entailment_map = {\n",
    "        'ReverseEntailment': 0,\n",
    "        'ForwardEntailment': 1,\n",
    "        'Equivalence': 2,\n",
    "        'OtherRelated': 2,\n",
    "    }"
   ]
  },
  {
   "cell_type": "code",
   "execution_count": 39,
   "metadata": {
    "collapsed": false
   },
   "outputs": [
    {
     "data": {
      "text/plain": [
       "3"
      ]
     },
     "execution_count": 39,
     "metadata": {},
     "output_type": "execute_result"
    }
   ],
   "source": [
    "len(set(_entailment_map.values()))"
   ]
  },
  {
   "cell_type": "code",
   "execution_count": 40,
   "metadata": {
    "collapsed": true
   },
   "outputs": [],
   "source": [
    "arr = np.array([3, 1, 3, 2, 6])"
   ]
  },
  {
   "cell_type": "code",
   "execution_count": 42,
   "metadata": {
    "collapsed": false
   },
   "outputs": [
    {
     "data": {
      "text/plain": [
       "array([4, 2, 0, 3, 1])"
      ]
     },
     "execution_count": 42,
     "metadata": {},
     "output_type": "execute_result"
    }
   ],
   "source": [
    "np.argsort(arr)[::-1]"
   ]
  },
  {
   "cell_type": "code",
   "execution_count": 43,
   "metadata": {
    "collapsed": true
   },
   "outputs": [],
   "source": [
    "from model.utils import get_hungarian_alignment_score_data"
   ]
  },
  {
   "cell_type": "code",
   "execution_count": 44,
   "metadata": {
    "collapsed": true
   },
   "outputs": [],
   "source": [
    "ha_data = get_hungarian_alignment_score_data()"
   ]
  },
  {
   "cell_type": "code",
   "execution_count": 47,
   "metadata": {
    "collapsed": false
   },
   "outputs": [
    {
     "data": {
      "text/plain": [
       "([(0, 0),\n",
       "  (1, 1),\n",
       "  (2, 15),\n",
       "  (3, 2),\n",
       "  (4, 4),\n",
       "  (5, 7),\n",
       "  (6, 8),\n",
       "  (7, 6),\n",
       "  (8, 9),\n",
       "  (9, 10),\n",
       "  (10, 3),\n",
       "  (11, 5),\n",
       "  (12, 14),\n",
       "  (14, 11),\n",
       "  (16, 13),\n",
       "  (17, 16),\n",
       "  (18, 12)],\n",
       " -0.20131411764705853)"
      ]
     },
     "execution_count": 47,
     "metadata": {},
     "output_type": "execute_result"
    }
   ],
   "source": [
    "ha_data[('751c5e10-c379-11e4-9435-a96703525a9e', '95b980b0-c380-11e4-9435-a96703525a9e')]"
   ]
  },
  {
   "cell_type": "code",
   "execution_count": null,
   "metadata": {
    "collapsed": true
   },
   "outputs": [],
   "source": []
  }
 ],
 "metadata": {
  "kernelspec": {
   "display_name": "Python 2",
   "language": "python",
   "name": "python2"
  },
  "language_info": {
   "codemirror_mode": {
    "name": "ipython",
    "version": 2
   },
   "file_extension": ".py",
   "mimetype": "text/x-python",
   "name": "python",
   "nbconvert_exporter": "python",
   "pygments_lexer": "ipython2",
   "version": "2.7.10"
  }
 },
 "nbformat": 4,
 "nbformat_minor": 0
}
