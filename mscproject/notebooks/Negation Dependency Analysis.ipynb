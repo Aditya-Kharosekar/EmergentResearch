{
 "cells": [
  {
   "cell_type": "code",
   "execution_count": 2,
   "metadata": {
    "collapsed": false
   },
   "outputs": [
    {
     "name": "stdout",
     "output_type": "stream",
     "text": [
      "/Users/williamferreira/PycharmProjects/mscproject/src\n"
     ]
    }
   ],
   "source": [
    "cd ../src"
   ]
  },
  {
   "cell_type": "code",
   "execution_count": 3,
   "metadata": {
    "collapsed": true
   },
   "outputs": [],
   "source": [
    "cId, aId = '4893f040-a5c6-11e4-aa4f-ff16e52e0d56', '53faf1e0-a5c6-11e4-aa4f-ff16e52e0d56' "
   ]
  },
  {
   "cell_type": "code",
   "execution_count": 4,
   "metadata": {
    "collapsed": true
   },
   "outputs": [],
   "source": [
    "from model.utils import get_aligned_data, get_dataset, get_tokenized_lemmas"
   ]
  },
  {
   "cell_type": "code",
   "execution_count": 5,
   "metadata": {
    "collapsed": true
   },
   "outputs": [],
   "source": [
    "aligned_data = get_aligned_data()"
   ]
  },
  {
   "cell_type": "code",
   "execution_count": 6,
   "metadata": {
    "collapsed": false
   },
   "outputs": [
    {
     "data": {
      "text/plain": [
       "[(7, 6), (8, 7), (13, 13), (14, 14), (3, 3), (4, 4), (16, 2), (5, 5)]"
      ]
     },
     "execution_count": 6,
     "metadata": {},
     "output_type": "execute_result"
    }
   ],
   "source": [
    "aligned_data[(cId, aId)]"
   ]
  },
  {
   "cell_type": "code",
   "execution_count": 7,
   "metadata": {
    "collapsed": true
   },
   "outputs": [],
   "source": [
    "df = get_dataset()"
   ]
  },
  {
   "cell_type": "code",
   "execution_count": 8,
   "metadata": {
    "collapsed": false
   },
   "outputs": [
    {
     "data": {
      "text/plain": [
       "(2595, 5)"
      ]
     },
     "execution_count": 8,
     "metadata": {},
     "output_type": "execute_result"
    }
   ],
   "source": [
    "df.shape"
   ]
  },
  {
   "cell_type": "code",
   "execution_count": 9,
   "metadata": {
    "collapsed": false
   },
   "outputs": [],
   "source": [
    "penis = df[df.articleId == aId]"
   ]
  },
  {
   "cell_type": "code",
   "execution_count": 10,
   "metadata": {
    "collapsed": false
   },
   "outputs": [],
   "source": [
    "claim = get_tokenized_lemmas(penis.claimHeadline[569])"
   ]
  },
  {
   "cell_type": "code",
   "execution_count": 11,
   "metadata": {
    "collapsed": true
   },
   "outputs": [],
   "source": [
    "article = get_tokenized_lemmas(penis.articleHeadline[569])"
   ]
  },
  {
   "cell_type": "code",
   "execution_count": 12,
   "metadata": {
    "collapsed": false
   },
   "outputs": [
    {
     "data": {
      "text/plain": [
       "['claim',\n",
       " 'a',\n",
       " 'chinese',\n",
       " 'man',\n",
       " 'chopped',\n",
       " 'off',\n",
       " 'his',\n",
       " 'own',\n",
       " 'penis',\n",
       " 'due',\n",
       " 'to',\n",
       " 'his',\n",
       " 'frustration',\n",
       " 'with',\n",
       " 'not',\n",
       " 'finding',\n",
       " 'love']"
      ]
     },
     "execution_count": 12,
     "metadata": {},
     "output_type": "execute_result"
    }
   ],
   "source": [
    "claim"
   ]
  },
  {
   "cell_type": "code",
   "execution_count": 13,
   "metadata": {
    "collapsed": false
   },
   "outputs": [
    {
     "data": {
      "text/plain": [
       "[('own', 'own'),\n",
       " ('penis', 'penis'),\n",
       " ('with', 'with'),\n",
       " ('not', 'not'),\n",
       " ('man', 'man'),\n",
       " ('chopped', 'chops'),\n",
       " ('love', 'love'),\n",
       " ('off', 'off')]"
      ]
     },
     "execution_count": 13,
     "metadata": {},
     "output_type": "execute_result"
    }
   ],
   "source": [
    "[(claim[i], article[j]) for (i,j) in aligned_data[(cId, aId)]]"
   ]
  },
  {
   "cell_type": "code",
   "execution_count": 14,
   "metadata": {
    "collapsed": false
   },
   "outputs": [
    {
     "name": "stdout",
     "output_type": "stream",
     "text": [
      "['claim', 'a', 'chinese', 'man', 'chopped', 'off', 'his', 'own', 'penis', 'due', 'to', 'his', 'frustration', 'with', 'not', 'finding', 'love']\n"
     ]
    }
   ],
   "source": [
    "print claim"
   ]
  },
  {
   "cell_type": "code",
   "execution_count": 15,
   "metadata": {
    "collapsed": false
   },
   "outputs": [
    {
     "name": "stdout",
     "output_type": "stream",
     "text": [
      "['unlucky', 'in', 'love', 'man', 'chops', 'off', 'own', 'penis', 'because', 'he', u'wa', 'fed', 'up', 'with', 'not', 'having', 'a', 'girlfriend']\n"
     ]
    }
   ],
   "source": [
    "print article"
   ]
  },
  {
   "cell_type": "code",
   "execution_count": 16,
   "metadata": {
    "collapsed": true
   },
   "outputs": [],
   "source": [
    "from model.utils import get_w2v_model, cosine_sim"
   ]
  },
  {
   "cell_type": "code",
   "execution_count": 17,
   "metadata": {
    "collapsed": false
   },
   "outputs": [
    {
     "name": "stdout",
     "output_type": "stream",
     "text": [
      "Constructing word2vec model\n"
     ]
    }
   ],
   "source": [
    "w2vec_model = get_w2v_model()"
   ]
  },
  {
   "cell_type": "code",
   "execution_count": 18,
   "metadata": {
    "collapsed": false
   },
   "outputs": [
    {
     "data": {
      "text/plain": [
       "0.41518798"
      ]
     },
     "execution_count": 18,
     "metadata": {},
     "output_type": "execute_result"
    }
   ],
   "source": [
    "cosine_sim(w2vec_model['having'], w2vec_model['finding'])"
   ]
  },
  {
   "cell_type": "code",
   "execution_count": 19,
   "metadata": {
    "collapsed": true
   },
   "outputs": [],
   "source": [
    "from model.utils import get_stanparse_data"
   ]
  },
  {
   "cell_type": "code",
   "execution_count": 20,
   "metadata": {
    "collapsed": true
   },
   "outputs": [],
   "source": [
    "stanparse_data = get_stanparse_data()"
   ]
  },
  {
   "cell_type": "code",
   "execution_count": 21,
   "metadata": {
    "collapsed": false
   },
   "outputs": [
    {
     "data": {
      "text/plain": [
       "[[u'root', u'ROOT-0', u'Claim-1'],\n",
       " [u'det', u'man-4', u'a-2'],\n",
       " [u'amod', u'man-4', u'Chinese-3'],\n",
       " [u'nsubj', u'chopped-5', u'man-4'],\n",
       " [u'dep', u'Claim-1', u'chopped-5'],\n",
       " [u'prt', u'chopped-5', u'off-6'],\n",
       " [u'poss', u'penis-9', u'his-7'],\n",
       " [u'amod', u'penis-9', u'own-8'],\n",
       " [u'dobj', u'chopped-5', u'penis-9'],\n",
       " [u'poss', u'frustration-13', u'his-12'],\n",
       " [u'prep_due_to', u'penis-9', u'frustration-13'],\n",
       " [u'neg', u'finding-16', u'not-15'],\n",
       " [u'prepc_with', u'chopped-5', u'finding-16'],\n",
       " [u'dobj', u'finding-16', u'love-17']]"
      ]
     },
     "execution_count": 21,
     "metadata": {},
     "output_type": "execute_result"
    }
   ],
   "source": [
    "stanparse_data[cId]['sentences'][0]['dependencies']"
   ]
  },
  {
   "cell_type": "code",
   "execution_count": 22,
   "metadata": {
    "collapsed": false
   },
   "outputs": [
    {
     "data": {
      "text/plain": [
       "[{u'dependencies': [[u'root', u'ROOT-0', u'OFF-6'],\n",
       "   [u'nsubj', u'OFF-6', u'Unlucky-1'],\n",
       "   [u'nn', u'CHOPS-5', u'love-3'],\n",
       "   [u'nn', u'CHOPS-5', u'man-4'],\n",
       "   [u'prep_in', u'Unlucky-1', u'CHOPS-5'],\n",
       "   [u'amod', u'penis-8', u'own-7'],\n",
       "   [u'dobj', u'OFF-6', u'penis-8'],\n",
       "   [u'mark', u'fed-12', u'because-9'],\n",
       "   [u'nsubjpass', u'fed-12', u'he-10'],\n",
       "   [u'auxpass', u'fed-12', u'was-11'],\n",
       "   [u'advcl', u'OFF-6', u'fed-12'],\n",
       "   [u'prt', u'fed-12', u'up-13'],\n",
       "   [u'neg', u'having-16', u'not-15'],\n",
       "   [u'prepc_with', u'fed-12', u'having-16'],\n",
       "   [u'det', u'girlfriend-18', u'a-17'],\n",
       "   [u'dobj', u'having-16', u'girlfriend-18']],\n",
       "  u'parsetree': u'(ROOT (S (NP (NP (NNP Unlucky)) (PP (IN in) (NP (NN love) (NN man) (NNS CHOPS)))) (VP (VBP OFF) (NP (JJ own) (NN penis)) (SBAR (IN because) (S (NP (PRP he)) (VP (VBD was) (VP (VBN fed) (PRT (RP up)) (PP (IN with) (S (VP (RB not) (VBG having) (NP (DT a) (NN girlfriend))))))))))))',\n",
       "  u'text': u'Unlucky in love man CHOPS OFF own penis because he was fed up with not having a girlfriend',\n",
       "  u'words': [[u'Unlucky',\n",
       "    {u'CharacterOffsetBegin': u'0',\n",
       "     u'CharacterOffsetEnd': u'7',\n",
       "     u'Lemma': u'Unlucky',\n",
       "     u'NamedEntityTag': u'O',\n",
       "     u'PartOfSpeech': u'NNP'}],\n",
       "   [u'in',\n",
       "    {u'CharacterOffsetBegin': u'8',\n",
       "     u'CharacterOffsetEnd': u'10',\n",
       "     u'Lemma': u'in',\n",
       "     u'NamedEntityTag': u'O',\n",
       "     u'PartOfSpeech': u'IN'}],\n",
       "   [u'love',\n",
       "    {u'CharacterOffsetBegin': u'11',\n",
       "     u'CharacterOffsetEnd': u'15',\n",
       "     u'Lemma': u'love',\n",
       "     u'NamedEntityTag': u'O',\n",
       "     u'PartOfSpeech': u'NN'}],\n",
       "   [u'man',\n",
       "    {u'CharacterOffsetBegin': u'16',\n",
       "     u'CharacterOffsetEnd': u'19',\n",
       "     u'Lemma': u'man',\n",
       "     u'NamedEntityTag': u'O',\n",
       "     u'PartOfSpeech': u'NN'}],\n",
       "   [u'CHOPS',\n",
       "    {u'CharacterOffsetBegin': u'20',\n",
       "     u'CharacterOffsetEnd': u'25',\n",
       "     u'Lemma': u'chop',\n",
       "     u'NamedEntityTag': u'O',\n",
       "     u'PartOfSpeech': u'NNS'}],\n",
       "   [u'OFF',\n",
       "    {u'CharacterOffsetBegin': u'26',\n",
       "     u'CharacterOffsetEnd': u'29',\n",
       "     u'Lemma': u'off',\n",
       "     u'NamedEntityTag': u'O',\n",
       "     u'PartOfSpeech': u'VBP'}],\n",
       "   [u'own',\n",
       "    {u'CharacterOffsetBegin': u'30',\n",
       "     u'CharacterOffsetEnd': u'33',\n",
       "     u'Lemma': u'own',\n",
       "     u'NamedEntityTag': u'O',\n",
       "     u'PartOfSpeech': u'JJ'}],\n",
       "   [u'penis',\n",
       "    {u'CharacterOffsetBegin': u'34',\n",
       "     u'CharacterOffsetEnd': u'39',\n",
       "     u'Lemma': u'penis',\n",
       "     u'NamedEntityTag': u'O',\n",
       "     u'PartOfSpeech': u'NN'}],\n",
       "   [u'because',\n",
       "    {u'CharacterOffsetBegin': u'40',\n",
       "     u'CharacterOffsetEnd': u'47',\n",
       "     u'Lemma': u'because',\n",
       "     u'NamedEntityTag': u'O',\n",
       "     u'PartOfSpeech': u'IN'}],\n",
       "   [u'he',\n",
       "    {u'CharacterOffsetBegin': u'48',\n",
       "     u'CharacterOffsetEnd': u'50',\n",
       "     u'Lemma': u'he',\n",
       "     u'NamedEntityTag': u'O',\n",
       "     u'PartOfSpeech': u'PRP'}],\n",
       "   [u'was',\n",
       "    {u'CharacterOffsetBegin': u'51',\n",
       "     u'CharacterOffsetEnd': u'54',\n",
       "     u'Lemma': u'be',\n",
       "     u'NamedEntityTag': u'O',\n",
       "     u'PartOfSpeech': u'VBD'}],\n",
       "   [u'fed',\n",
       "    {u'CharacterOffsetBegin': u'55',\n",
       "     u'CharacterOffsetEnd': u'58',\n",
       "     u'Lemma': u'feed',\n",
       "     u'NamedEntityTag': u'O',\n",
       "     u'PartOfSpeech': u'VBN'}],\n",
       "   [u'up',\n",
       "    {u'CharacterOffsetBegin': u'59',\n",
       "     u'CharacterOffsetEnd': u'61',\n",
       "     u'Lemma': u'up',\n",
       "     u'NamedEntityTag': u'O',\n",
       "     u'PartOfSpeech': u'RP'}],\n",
       "   [u'with',\n",
       "    {u'CharacterOffsetBegin': u'62',\n",
       "     u'CharacterOffsetEnd': u'66',\n",
       "     u'Lemma': u'with',\n",
       "     u'NamedEntityTag': u'O',\n",
       "     u'PartOfSpeech': u'IN'}],\n",
       "   [u'not',\n",
       "    {u'CharacterOffsetBegin': u'67',\n",
       "     u'CharacterOffsetEnd': u'70',\n",
       "     u'Lemma': u'not',\n",
       "     u'NamedEntityTag': u'O',\n",
       "     u'PartOfSpeech': u'RB'}],\n",
       "   [u'having',\n",
       "    {u'CharacterOffsetBegin': u'71',\n",
       "     u'CharacterOffsetEnd': u'77',\n",
       "     u'Lemma': u'have',\n",
       "     u'NamedEntityTag': u'O',\n",
       "     u'PartOfSpeech': u'VBG'}],\n",
       "   [u'a',\n",
       "    {u'CharacterOffsetBegin': u'78',\n",
       "     u'CharacterOffsetEnd': u'79',\n",
       "     u'Lemma': u'a',\n",
       "     u'NamedEntityTag': u'O',\n",
       "     u'PartOfSpeech': u'DT'}],\n",
       "   [u'girlfriend',\n",
       "    {u'CharacterOffsetBegin': u'80',\n",
       "     u'CharacterOffsetEnd': u'90',\n",
       "     u'Lemma': u'girlfriend',\n",
       "     u'NamedEntityTag': u'O',\n",
       "     u'PartOfSpeech': u'NN'}]]}]"
      ]
     },
     "execution_count": 22,
     "metadata": {},
     "output_type": "execute_result"
    }
   ],
   "source": [
    "stanparse_data[aId]['sentences']#[0]['dependencies']"
   ]
  },
  {
   "cell_type": "code",
   "execution_count": 23,
   "metadata": {
    "collapsed": false
   },
   "outputs": [
    {
     "ename": "NameError",
     "evalue": "name 'cosine' is not defined",
     "output_type": "error",
     "traceback": [
      "\u001b[0;31m---------------------------------------------------------------------------\u001b[0m",
      "\u001b[0;31mNameError\u001b[0m                                 Traceback (most recent call last)",
      "\u001b[0;32m<ipython-input-23-7b441ce26501>\u001b[0m in \u001b[0;36m<module>\u001b[0;34m()\u001b[0m\n\u001b[0;32m----> 1\u001b[0;31m \u001b[0mcosine\u001b[0m\u001b[0;34m(\u001b[0m\u001b[0mw2vec_model\u001b[0m\u001b[0;34m[\u001b[0m\u001b[0;34m'safe'\u001b[0m\u001b[0;34m]\u001b[0m\u001b[0;34m,\u001b[0m \u001b[0mw2vec_model\u001b[0m\u001b[0;34m[\u001b[0m\u001b[0;34m'stolen'\u001b[0m\u001b[0;34m]\u001b[0m\u001b[0;34m)\u001b[0m\u001b[0;34m\u001b[0m\u001b[0m\n\u001b[0m",
      "\u001b[0;31mNameError\u001b[0m: name 'cosine' is not defined"
     ]
    }
   ],
   "source": [
    "cosine(w2vec_model['safe'], w2vec_model['stolen'])"
   ]
  },
  {
   "cell_type": "code",
   "execution_count": null,
   "metadata": {
    "collapsed": false
   },
   "outputs": [],
   "source": [
    "[cosine(w2vec_model[s], w2vec_model['use']) for s in ('apple', 'is', 'buying')]"
   ]
  },
  {
   "cell_type": "code",
   "execution_count": 26,
   "metadata": {
    "collapsed": false
   },
   "outputs": [
    {
     "data": {
      "text/plain": [
       "[[u'root', u'ROOT-0', u'REMAINS-8'],\n",
       " [u'nn', u'STOLEN-3', u'BATMOBILE-1'],\n",
       " [u'nn', u'STOLEN-3', u'NOT-2'],\n",
       " [u'nsubj', u'REMAINS-8', u'STOLEN-3'],\n",
       " [u'nn', u'PRIZE-7', u'MTV-5'],\n",
       " [u'nn', u'PRIZE-7', u'CONTEST-6'],\n",
       " [u'appos', u'STOLEN-3', u'PRIZE-7'],\n",
       " [u'acomp', u'REMAINS-8', u'UNCLAIMED-9']]"
      ]
     },
     "execution_count": 26,
     "metadata": {},
     "output_type": "execute_result"
    }
   ],
   "source": [
    "stanparse_data['6d937d80-3c20-11e4-bc0b-3f922b93930d']['sentences'][0]['dependencies']"
   ]
  },
  {
   "cell_type": "code",
   "execution_count": 27,
   "metadata": {
    "collapsed": false
   },
   "outputs": [
    {
     "data": {
      "text/plain": [
       "[[u'root', u'ROOT-0', u'stolen-4'],\n",
       " [u'det', u'Batmobile-2', u'The-1'],\n",
       " [u'nsubjpass', u'stolen-4', u'Batmobile-2'],\n",
       " [u'auxpass', u'stolen-4', u'was-3']]"
      ]
     },
     "execution_count": 27,
     "metadata": {},
     "output_type": "execute_result"
    }
   ],
   "source": [
    "stanparse_data['ee3af700-3ab9-11e4-bc0b-3f922b93930d']['sentences'][0]['dependencies']"
   ]
  },
  {
   "cell_type": "code",
   "execution_count": 66,
   "metadata": {
    "collapsed": false
   },
   "outputs": [
    {
     "data": {
      "text/plain": [
       "['not', 'having', 'a', 'girlfriend']"
      ]
     },
     "execution_count": 66,
     "metadata": {},
     "output_type": "execute_result"
    }
   ],
   "source": [
    "get_tokenized_lemmas('not having a girlfriend')"
   ]
  },
  {
   "cell_type": "code",
   "execution_count": 67,
   "metadata": {
    "collapsed": true
   },
   "outputs": [],
   "source": [
    "s = 'because of not having a girlfriend'"
   ]
  },
  {
   "cell_type": "code",
   "execution_count": 69,
   "metadata": {
    "collapsed": false
   },
   "outputs": [
    {
     "data": {
      "text/plain": [
       "11"
      ]
     },
     "execution_count": 69,
     "metadata": {},
     "output_type": "execute_result"
    }
   ],
   "source": [
    "s.find('not')"
   ]
  },
  {
   "cell_type": "code",
   "execution_count": 70,
   "metadata": {
    "collapsed": true
   },
   "outputs": [],
   "source": [
    "toks = get_tokenized_lemmas(s) "
   ]
  },
  {
   "cell_type": "code",
   "execution_count": 74,
   "metadata": {
    "collapsed": false
   },
   "outputs": [
    {
     "data": {
      "text/plain": [
       "[(2, 'not')]"
      ]
     },
     "execution_count": 74,
     "metadata": {},
     "output_type": "execute_result"
    }
   ],
   "source": [
    "filter(lambda (i, t): t == 'not', enumerate(toks))"
   ]
  },
  {
   "cell_type": "code",
   "execution_count": 72,
   "metadata": {
    "collapsed": true
   },
   "outputs": [],
   "source": [
    "filter?"
   ]
  },
  {
   "cell_type": "code",
   "execution_count": 73,
   "metadata": {
    "collapsed": false
   },
   "outputs": [
    {
     "data": {
      "text/plain": [
       "<function filter>"
      ]
     },
     "execution_count": 73,
     "metadata": {},
     "output_type": "execute_result"
    }
   ],
   "source": [
    "filter"
   ]
  },
  {
   "cell_type": "code",
   "execution_count": 78,
   "metadata": {
    "collapsed": false
   },
   "outputs": [
    {
     "data": {
      "text/plain": [
       "'hoax'"
      ]
     },
     "execution_count": 78,
     "metadata": {},
     "output_type": "execute_result"
    }
   ],
   "source": [
    "'HOAX'.lower()"
   ]
  },
  {
   "cell_type": "code",
   "execution_count": 79,
   "metadata": {
    "collapsed": false
   },
   "outputs": [
    {
     "data": {
      "text/plain": [
       "'because of not having a girlfriend'"
      ]
     },
     "execution_count": 79,
     "metadata": {},
     "output_type": "execute_result"
    }
   ],
   "source": [
    "s"
   ]
  },
  {
   "cell_type": "code",
   "execution_count": 82,
   "metadata": {
    "collapsed": false
   },
   "outputs": [],
   "source": [
    "s.find?"
   ]
  },
  {
   "cell_type": "code",
   "execution_count": 84,
   "metadata": {
    "collapsed": false
   },
   "outputs": [
    {
     "data": {
      "text/plain": [
       "22"
      ]
     },
     "execution_count": 84,
     "metadata": {},
     "output_type": "execute_result"
    }
   ],
   "source": [
    "s.rfind('a')"
   ]
  },
  {
   "cell_type": "code",
   "execution_count": 85,
   "metadata": {
    "collapsed": true
   },
   "outputs": [],
   "source": [
    "def strip_idx(x):\n",
    "            return x[:x.rfind('-')]"
   ]
  },
  {
   "cell_type": "code",
   "execution_count": 86,
   "metadata": {
    "collapsed": false
   },
   "outputs": [
    {
     "data": {
      "text/plain": [
       "'hoax'"
      ]
     },
     "execution_count": 86,
     "metadata": {},
     "output_type": "execute_result"
    }
   ],
   "source": [
    "strip_idx('hoax-23')"
   ]
  },
  {
   "cell_type": "code",
   "execution_count": null,
   "metadata": {
    "collapsed": true
   },
   "outputs": [],
   "source": []
  }
 ],
 "metadata": {
  "kernelspec": {
   "display_name": "Python 2",
   "language": "python",
   "name": "python2"
  },
  "language_info": {
   "codemirror_mode": {
    "name": "ipython",
    "version": 2
   },
   "file_extension": ".py",
   "mimetype": "text/x-python",
   "name": "python",
   "nbconvert_exporter": "python",
   "pygments_lexer": "ipython2",
   "version": "2.7.10"
  }
 },
 "nbformat": 4,
 "nbformat_minor": 0
}
