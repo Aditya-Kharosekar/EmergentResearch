{
 "cells": [
  {
   "cell_type": "code",
   "execution_count": 1,
   "metadata": {
    "collapsed": true
   },
   "outputs": [],
   "source": [
    "%matplotlib inline"
   ]
  },
  {
   "cell_type": "code",
   "execution_count": 2,
   "metadata": {
    "collapsed": false
   },
   "outputs": [
    {
     "name": "stdout",
     "output_type": "stream",
     "text": [
      "/Users/williamferreira/Dropbox/mscproject/src\n"
     ]
    }
   ],
   "source": [
    "cd ../src"
   ]
  },
  {
   "cell_type": "code",
   "execution_count": 66,
   "metadata": {
    "collapsed": false
   },
   "outputs": [],
   "source": [
    "from model.utils import get_dataset, get_tokenized_lemmas, get_stanparse_depths\n",
    "from model.baseline.transforms import _hedging_seed_words, _refuting_seed_words"
   ]
  },
  {
   "cell_type": "code",
   "execution_count": 4,
   "metadata": {
    "collapsed": true
   },
   "outputs": [],
   "source": [
    "df = get_dataset()"
   ]
  },
  {
   "cell_type": "code",
   "execution_count": 14,
   "metadata": {
    "collapsed": false
   },
   "outputs": [],
   "source": [
    "df_qm = df[df.articleHeadline.str.contains('\\?')]"
   ]
  },
  {
   "cell_type": "code",
   "execution_count": 15,
   "metadata": {
    "collapsed": false
   },
   "outputs": [],
   "source": [
    "qm_stats = df_qm.articleHeadlineStance.value_counts() / df_qm.articleHeadlineStance.value_counts().sum() * 100"
   ]
  },
  {
   "cell_type": "code",
   "execution_count": 61,
   "metadata": {
    "collapsed": false
   },
   "outputs": [
    {
     "data": {
      "text/plain": [
       "<matplotlib.text.Text at 0x1167e3f50>"
      ]
     },
     "execution_count": 61,
     "metadata": {},
     "output_type": "execute_result"
    },
    {
     "data": {
      "image/png": "[encoded data removed]",
      "text/plain": [
       "<matplotlib.figure.Figure at 0x116d20cd0>"
      ]
     },
     "metadata": {},
     "output_type": "display_data"
    }
   ],
   "source": [
    "ax = qm_stats.iloc[np.argsort(qm_stats.index)].plot(kind='bar', sort_columns=True)\n",
    "ax.set_ylabel(\"Percentage\")"
   ]
  },
  {
   "cell_type": "code",
   "execution_count": 19,
   "metadata": {
    "collapsed": true
   },
   "outputs": [],
   "source": [
    "df_hw = df.copy()"
   ]
  },
  {
   "cell_type": "code",
   "execution_count": 20,
   "metadata": {
    "collapsed": true
   },
   "outputs": [],
   "source": [
    "df_hw['has_hw'] = 0"
   ]
  },
  {
   "cell_type": "code",
   "execution_count": 27,
   "metadata": {
    "collapsed": false
   },
   "outputs": [],
   "source": [
    "for i, r in df_hw.iterrows():\n",
    "    if len(set(get_tokenized_lemmas(r.articleHeadline)).intersection(_hedging_seed_words)) > 0:\n",
    "        df_hw.ix[i, ['has_hw']] = 1"
   ]
  },
  {
   "cell_type": "code",
   "execution_count": 31,
   "metadata": {
    "collapsed": false
   },
   "outputs": [],
   "source": [
    "df_has_hw = df_hw[df_hw.has_hw == 1]"
   ]
  },
  {
   "cell_type": "code",
   "execution_count": 32,
   "metadata": {
    "collapsed": true
   },
   "outputs": [],
   "source": [
    "has_hw_stats = df_has_hw.articleHeadlineStance.value_counts() / df_has_hw.articleHeadlineStance.value_counts().sum() * 100"
   ]
  },
  {
   "cell_type": "code",
   "execution_count": 62,
   "metadata": {
    "collapsed": false
   },
   "outputs": [
    {
     "data": {
      "text/plain": [
       "<matplotlib.text.Text at 0x116e7c810>"
      ]
     },
     "execution_count": 62,
     "metadata": {},
     "output_type": "execute_result"
    },
    {
     "data": {
      "image/png": "[encoded data removed]",
      "text/plain": [
       "<matplotlib.figure.Figure at 0x116eff590>"
      ]
     },
     "metadata": {},
     "output_type": "display_data"
    }
   ],
   "source": [
    "ax = has_hw_stats.iloc[np.argsort(has_hw_stats.index)].plot(kind='bar', sort_columns=True)\n",
    "ax.set_ylabel(\"Percentage\")"
   ]
  },
  {
   "cell_type": "code",
   "execution_count": 39,
   "metadata": {
    "collapsed": true
   },
   "outputs": [],
   "source": [
    "df_rw = df.copy()"
   ]
  },
  {
   "cell_type": "code",
   "execution_count": 40,
   "metadata": {
    "collapsed": true
   },
   "outputs": [],
   "source": [
    "df_rw['has_rw'] = 0"
   ]
  },
  {
   "cell_type": "code",
   "execution_count": 41,
   "metadata": {
    "collapsed": true
   },
   "outputs": [],
   "source": [
    "for i, r in df_hw.iterrows():\n",
    "    if len(set(get_tokenized_lemmas(r.articleHeadline)).intersection(_refuting_seed_words)) > 0:\n",
    "        df_rw.ix[i, ['has_rw']] = 1"
   ]
  },
  {
   "cell_type": "code",
   "execution_count": 42,
   "metadata": {
    "collapsed": false
   },
   "outputs": [],
   "source": [
    "df_has_rw = df_rw[df_rw.has_rw == 1]"
   ]
  },
  {
   "cell_type": "code",
   "execution_count": 43,
   "metadata": {
    "collapsed": true
   },
   "outputs": [],
   "source": [
    "has_rw_stats = df_has_rw.articleHeadlineStance.value_counts() / df_has_rw.articleHeadlineStance.value_counts().sum() * 100"
   ]
  },
  {
   "cell_type": "code",
   "execution_count": 63,
   "metadata": {
    "collapsed": false
   },
   "outputs": [
    {
     "data": {
      "text/plain": [
       "<matplotlib.text.Text at 0x116f78910>"
      ]
     },
     "execution_count": 63,
     "metadata": {},
     "output_type": "execute_result"
    },
    {
     "data": {
      "image/png": "[encoded data removed]",
      "text/plain": [
       "<matplotlib.figure.Figure at 0x117030550>"
      ]
     },
     "metadata": {},
     "output_type": "display_data"
    }
   ],
   "source": [
    "ax = has_rw_stats.iloc[np.argsort(has_rw_stats.index)].plot(kind='bar', sort_columns=False)\n",
    "ax.set_ylabel(\"Percentage\")"
   ]
  },
  {
   "cell_type": "code",
   "execution_count": 50,
   "metadata": {
    "collapsed": false
   },
   "outputs": [
    {
     "data": {
      "text/plain": [
       "against      80.747126\n",
       "observing    10.919540\n",
       "for           8.333333\n",
       "dtype: float64"
      ]
     },
     "execution_count": 50,
     "metadata": {},
     "output_type": "execute_result"
    }
   ],
   "source": [
    "has_rw_stats"
   ]
  },
  {
   "cell_type": "code",
   "execution_count": 52,
   "metadata": {
    "collapsed": false
   },
   "outputs": [
    {
     "data": {
      "text/plain": [
       "against      80.747126\n",
       "for           8.333333\n",
       "observing    10.919540\n",
       "dtype: float64"
      ]
     },
     "execution_count": 52,
     "metadata": {},
     "output_type": "execute_result"
    }
   ],
   "source": [
    "has_rw_stats.iloc[[0, 2, 1]]"
   ]
  },
  {
   "cell_type": "code",
   "execution_count": 53,
   "metadata": {
    "collapsed": true
   },
   "outputs": [],
   "source": [
    "import numpy as np"
   ]
  },
  {
   "cell_type": "code",
   "execution_count": 58,
   "metadata": {
    "collapsed": false
   },
   "outputs": [],
   "source": [
    "ind = np.argsort(has_rw_stats.index)"
   ]
  },
  {
   "cell_type": "code",
   "execution_count": 59,
   "metadata": {
    "collapsed": false
   },
   "outputs": [
    {
     "data": {
      "text/plain": [
       "array([0, 2, 1])"
      ]
     },
     "execution_count": 59,
     "metadata": {},
     "output_type": "execute_result"
    }
   ],
   "source": [
    "ind"
   ]
  },
  {
   "cell_type": "code",
   "execution_count": 67,
   "metadata": {
    "collapsed": false
   },
   "outputs": [],
   "source": [
    "stanparse_depths = get_stanparse_depths()"
   ]
  },
  {
   "cell_type": "code",
   "execution_count": 69,
   "metadata": {
    "collapsed": false
   },
   "outputs": [
    {
     "data": {
      "text/plain": [
       "{0: ({0: {4}, 3: {1, 2}, 4: {3, 8}, 8: {5, 6, 7, 11}, 11: {10}},\n",
       "  {(0, 4): u'root',\n",
       "   (3, 1): u'amod',\n",
       "   (3, 2): u'nn',\n",
       "   (4, 3): u'nsubj',\n",
       "   (4, 8): u'xcomp',\n",
       "   (8, 5): u'aux',\n",
       "   (8, 6): u'cop',\n",
       "   (8, 7): u'det',\n",
       "   (8, 11): u'prep_in',\n",
       "   (11, 10): u'nn'},\n",
       "  {0: 0, 1: 3, 2: 3, 3: 2, 4: 1, 5: 3, 6: 3, 7: 3, 8: 2, 10: 4, 11: 3})}"
      ]
     },
     "execution_count": 69,
     "metadata": {},
     "output_type": "execute_result"
    }
   ],
   "source": [
    "stanparse_depths.values()[0]"
   ]
  },
  {
   "cell_type": "code",
   "execution_count": 70,
   "metadata": {
    "collapsed": true
   },
   "outputs": [],
   "source": [
    "from model.utils import get_ppdb_data"
   ]
  },
  {
   "cell_type": "code",
   "execution_count": 71,
   "metadata": {
    "collapsed": true
   },
   "outputs": [],
   "source": [
    "ppdb_data = get_ppdb_data()"
   ]
  },
  {
   "cell_type": "code",
   "execution_count": 75,
   "metadata": {
    "collapsed": true
   },
   "outputs": [],
   "source": [
    "from model.utils import get_hungarian_alignment_score_data"
   ]
  },
  {
   "cell_type": "code",
   "execution_count": 76,
   "metadata": {
    "collapsed": true
   },
   "outputs": [],
   "source": [
    "hungarian = get_hungarian_alignment_score_data()"
   ]
  },
  {
   "cell_type": "code",
   "execution_count": 96,
   "metadata": {
    "collapsed": false
   },
   "outputs": [],
   "source": [
    "c_id, a_id = hungarian.keys()[20]"
   ]
  },
  {
   "cell_type": "code",
   "execution_count": 97,
   "metadata": {
    "collapsed": false
   },
   "outputs": [
    {
     "data": {
      "text/plain": [
       "([(1, 4), (2, 5), (3, 6), (4, 7), (5, 8), (7, 3), (11, 0), (12, 1), (13, 2)],\n",
       " 7.5314033333333334)"
      ]
     },
     "execution_count": 97,
     "metadata": {},
     "output_type": "execute_result"
    }
   ],
   "source": [
    "hungarian[(c_id, a_id)]"
   ]
  },
  {
   "cell_type": "code",
   "execution_count": 83,
   "metadata": {
    "collapsed": true
   },
   "outputs": [],
   "source": [
    "from model.utils import get_stanparse_data"
   ]
  },
  {
   "cell_type": "code",
   "execution_count": 84,
   "metadata": {
    "collapsed": true
   },
   "outputs": [],
   "source": [
    "stan_data = get_stanparse_data()"
   ]
  },
  {
   "cell_type": "code",
   "execution_count": null,
   "metadata": {
    "collapsed": true
   },
   "outputs": [],
   "source": [
    "Brian Williams: No, Our Meteorologist Was Not Peeing on Live TV"
   ]
  },
  {
   "cell_type": "code",
   "execution_count": null,
   "metadata": {
    "collapsed": true
   },
   "outputs": [],
   "source": [
    "NBC meteorologist Mike Seidel was caught relieving himself on camera"
   ]
  },
  {
   "cell_type": "code",
   "execution_count": null,
   "metadata": {
    "collapsed": true
   },
   "outputs": [],
   "source": []
  },
  {
   "cell_type": "code",
   "execution_count": 100,
   "metadata": {
    "collapsed": false
   },
   "outputs": [
    {
     "data": {
      "text/plain": [
       "{u'sentences': [{u'dependencies': [[u'root', u'ROOT-0', u'vacuum-2'],\n",
       "    [u'nn', u'vacuum-2', u'Robot-1'],\n",
       "    [u'amod', u'attacks-4', u'cleaner-3'],\n",
       "    [u'dep', u'vacuum-2', u'attacks-4'],\n",
       "    [u'nn', u'housewife-7', u'South-5'],\n",
       "    [u'nn', u'housewife-7', u'Korea-6'],\n",
       "    [u'poss', u'hair-9', u'housewife-7'],\n",
       "    [u'dep', u'attacks-4', u'hair-9']],\n",
       "   u'parsetree': u\"(ROOT (NP (NP (NN Robot) (NN vacuum)) (NP (NP (JJR cleaner) (NNS attacks)) (NP (NP (NNP South) (NNP Korea) (NN housewife) (POS 's)) (NN hair)))))\",\n",
       "   u'text': u\"Robot vacuum cleaner attacks South Korea housewife's hair\",\n",
       "   u'words': [[u'Robot',\n",
       "     {u'CharacterOffsetBegin': u'0',\n",
       "      u'CharacterOffsetEnd': u'5',\n",
       "      u'Lemma': u'robot',\n",
       "      u'NamedEntityTag': u'O',\n",
       "      u'PartOfSpeech': u'NN'}],\n",
       "    [u'vacuum',\n",
       "     {u'CharacterOffsetBegin': u'6',\n",
       "      u'CharacterOffsetEnd': u'12',\n",
       "      u'Lemma': u'vacuum',\n",
       "      u'NamedEntityTag': u'O',\n",
       "      u'PartOfSpeech': u'NN'}],\n",
       "    [u'cleaner',\n",
       "     {u'CharacterOffsetBegin': u'13',\n",
       "      u'CharacterOffsetEnd': u'20',\n",
       "      u'Lemma': u'cleaner',\n",
       "      u'NamedEntityTag': u'O',\n",
       "      u'PartOfSpeech': u'JJR'}],\n",
       "    [u'attacks',\n",
       "     {u'CharacterOffsetBegin': u'21',\n",
       "      u'CharacterOffsetEnd': u'28',\n",
       "      u'Lemma': u'attack',\n",
       "      u'NamedEntityTag': u'O',\n",
       "      u'PartOfSpeech': u'NNS'}],\n",
       "    [u'South',\n",
       "     {u'CharacterOffsetBegin': u'29',\n",
       "      u'CharacterOffsetEnd': u'34',\n",
       "      u'Lemma': u'South',\n",
       "      u'NamedEntityTag': u'LOCATION',\n",
       "      u'PartOfSpeech': u'NNP'}],\n",
       "    [u'Korea',\n",
       "     {u'CharacterOffsetBegin': u'35',\n",
       "      u'CharacterOffsetEnd': u'40',\n",
       "      u'Lemma': u'Korea',\n",
       "      u'NamedEntityTag': u'LOCATION',\n",
       "      u'PartOfSpeech': u'NNP'}],\n",
       "    [u'housewife',\n",
       "     {u'CharacterOffsetBegin': u'41',\n",
       "      u'CharacterOffsetEnd': u'50',\n",
       "      u'Lemma': u'housewife',\n",
       "      u'NamedEntityTag': u'O',\n",
       "      u'PartOfSpeech': u'NN'}],\n",
       "    [u\"'s\",\n",
       "     {u'CharacterOffsetBegin': u'50',\n",
       "      u'CharacterOffsetEnd': u'52',\n",
       "      u'Lemma': u\"'s\",\n",
       "      u'NamedEntityTag': u'O',\n",
       "      u'PartOfSpeech': u'POS'}],\n",
       "    [u'hair',\n",
       "     {u'CharacterOffsetBegin': u'53',\n",
       "      u'CharacterOffsetEnd': u'57',\n",
       "      u'Lemma': u'hair',\n",
       "      u'NamedEntityTag': u'O',\n",
       "      u'PartOfSpeech': u'NN'}]]}]}"
      ]
     },
     "execution_count": 100,
     "metadata": {},
     "output_type": "execute_result"
    }
   ],
   "source": [
    "stan_data[a_id]"
   ]
  },
  {
   "cell_type": "code",
   "execution_count": null,
   "metadata": {
    "collapsed": true
   },
   "outputs": [],
   "source": []
  }
 ],
 "metadata": {
  "kernelspec": {
   "display_name": "Python 2",
   "language": "python",
   "name": "python2"
  },
  "language_info": {
   "codemirror_mode": {
    "name": "ipython",
    "version": 2
   },
   "file_extension": ".py",
   "mimetype": "text/x-python",
   "name": "python",
   "nbconvert_exporter": "python",
   "pygments_lexer": "ipython2",
   "version": "2.7.10"
  }
 },
 "nbformat": 4,
 "nbformat_minor": 0
}
