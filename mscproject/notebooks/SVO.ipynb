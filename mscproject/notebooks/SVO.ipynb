{
 "cells": [
  {
   "cell_type": "code",
   "execution_count": 1,
   "metadata": {
    "collapsed": false
   },
   "outputs": [
    {
     "name": "stdout",
     "output_type": "stream",
     "text": [
      "/Users/williamferreira/Dropbox/mscproject/src\n"
     ]
    }
   ],
   "source": [
    "cd ../src"
   ]
  },
  {
   "cell_type": "code",
   "execution_count": 3,
   "metadata": {
    "collapsed": false
   },
   "outputs": [],
   "source": [
    "from model.ext.transforms import SVOTransform\n",
    "from model.utils import get_dataset"
   ]
  },
  {
   "cell_type": "code",
   "execution_count": 4,
   "metadata": {
    "collapsed": true
   },
   "outputs": [],
   "source": [
    "df = get_dataset()\n",
    "df = df[df.articleId == 'b9d1e340-771b-11e4-94c6-4131d5b705e4']"
   ]
  },
  {
   "cell_type": "code",
   "execution_count": 5,
   "metadata": {
    "collapsed": false
   },
   "outputs": [
    {
     "data": {
      "text/plain": [
       "array([[ 0.,  0.,  0.,  0.,  0.,  0.,  0.,  0.,  0.]])"
      ]
     },
     "execution_count": 5,
     "metadata": {},
     "output_type": "execute_result"
    }
   ],
   "source": [
    "svt = SVOTransform()\n",
    "svt.transform(df)"
   ]
  },
  {
   "cell_type": "code",
   "execution_count": 6,
   "metadata": {
    "collapsed": false
   },
   "outputs": [
    {
     "data": {
      "text/html": [
       "<div>\n",
       "<table border=\"1\" class=\"dataframe\">\n",
       "  <thead>\n",
       "    <tr style=\"text-align: right;\">\n",
       "      <th></th>\n",
       "      <th>claimHeadline</th>\n",
       "      <th>articleHeadline</th>\n",
       "      <th>articleHeadlineStance</th>\n",
       "      <th>articleId</th>\n",
       "      <th>claimId</th>\n",
       "    </tr>\n",
       "  </thead>\n",
       "  <tbody>\n",
       "    <tr>\n",
       "      <th>111</th>\n",
       "      <td>President Obama ordered the Federal Reserve to...</td>\n",
       "      <td>Obama Orders Fed To Adopt Euro Currency</td>\n",
       "      <td>for</td>\n",
       "      <td>b9d1e340-771b-11e4-94c6-4131d5b705e4</td>\n",
       "      <td>ab9f8ca0-771b-11e4-94c6-4131d5b705e4</td>\n",
       "    </tr>\n",
       "  </tbody>\n",
       "</table>\n",
       "</div>"
      ],
      "text/plain": [
       "                                         claimHeadline  \\\n",
       "111  President Obama ordered the Federal Reserve to...   \n",
       "\n",
       "                             articleHeadline articleHeadlineStance  \\\n",
       "111  Obama Orders Fed To Adopt Euro Currency                   for   \n",
       "\n",
       "                                articleId  \\\n",
       "111  b9d1e340-771b-11e4-94c6-4131d5b705e4   \n",
       "\n",
       "                                  claimId  \n",
       "111  ab9f8ca0-771b-11e4-94c6-4131d5b705e4  "
      ]
     },
     "execution_count": 6,
     "metadata": {},
     "output_type": "execute_result"
    }
   ],
   "source": [
    "df"
   ]
  },
  {
   "cell_type": "code",
   "execution_count": 7,
   "metadata": {
    "collapsed": true
   },
   "outputs": [],
   "source": [
    "from model.utils import get_svo_triples"
   ]
  },
  {
   "cell_type": "code",
   "execution_count": 8,
   "metadata": {
    "collapsed": false
   },
   "outputs": [
    {
     "data": {
      "text/plain": [
       "[(0, {u'dobj': (5, 7), u'nsubj': (5, 3)})]"
      ]
     },
     "execution_count": 8,
     "metadata": {},
     "output_type": "execute_result"
    }
   ],
   "source": [
    "get_svo_triples('b9d1e340-771b-11e4-94c6-4131d5b705e4')"
   ]
  },
  {
   "cell_type": "code",
   "execution_count": 9,
   "metadata": {
    "collapsed": false
   },
   "outputs": [
    {
     "data": {
      "text/plain": [
       "[(0, {u'dobj': (3, 6), u'nsubj': (3, 2)})]"
      ]
     },
     "execution_count": 9,
     "metadata": {},
     "output_type": "execute_result"
    }
   ],
   "source": [
    "get_svo_triples('ab9f8ca0-771b-11e4-94c6-4131d5b705e4')"
   ]
  },
  {
   "cell_type": "code",
   "execution_count": 10,
   "metadata": {
    "collapsed": false
   },
   "outputs": [
    {
     "data": {
      "text/plain": [
       "'President Obama ordered the Federal Reserve to adopt the Euro'"
      ]
     },
     "execution_count": 10,
     "metadata": {},
     "output_type": "execute_result"
    }
   ],
   "source": [
    "df.ix[111,:].claimHeadline"
   ]
  },
  {
   "cell_type": "code",
   "execution_count": 11,
   "metadata": {
    "collapsed": false
   },
   "outputs": [
    {
     "data": {
      "text/plain": [
       "'Obama Orders Fed To Adopt Euro Currency'"
      ]
     },
     "execution_count": 11,
     "metadata": {},
     "output_type": "execute_result"
    }
   ],
   "source": [
    "df.ix[111,:].articleHeadline"
   ]
  },
  {
   "cell_type": "code",
   "execution_count": 12,
   "metadata": {
    "collapsed": true
   },
   "outputs": [],
   "source": [
    "from model.utils import get_stanparse_data"
   ]
  },
  {
   "cell_type": "code",
   "execution_count": 13,
   "metadata": {
    "collapsed": true
   },
   "outputs": [],
   "source": [
    "stanparse_data = get_stanparse_data()"
   ]
  },
  {
   "cell_type": "code",
   "execution_count": 16,
   "metadata": {
    "collapsed": false
   },
   "outputs": [
    {
     "data": {
      "text/plain": [
       "{u'sentences': [{u'dependencies': [[u'root', u'ROOT-0', u'Orders-2'],\n",
       "    [u'nn', u'Orders-2', u'Obama-1'],\n",
       "    [u'nsubj', u'Adopt-5', u'Fed-3'],\n",
       "    [u'aux', u'Adopt-5', u'To-4'],\n",
       "    [u'vmod', u'Orders-2', u'Adopt-5'],\n",
       "    [u'nn', u'Currency-7', u'Euro-6'],\n",
       "    [u'dobj', u'Adopt-5', u'Currency-7']],\n",
       "   u'parsetree': u'(ROOT (FRAG (NP (NP (NNP Obama) (NNS Orders)) (SBAR (S (NP (NNP Fed)) (VP (TO To) (VP (VB Adopt) (NP (NNP Euro) (NNP Currency)))))))))',\n",
       "   u'text': u'Obama Orders Fed To Adopt Euro Currency',\n",
       "   u'words': [[u'Obama',\n",
       "     {u'CharacterOffsetBegin': u'0',\n",
       "      u'CharacterOffsetEnd': u'5',\n",
       "      u'Lemma': u'Obama',\n",
       "      u'NamedEntityTag': u'ORGANIZATION',\n",
       "      u'PartOfSpeech': u'NNP'}],\n",
       "    [u'Orders',\n",
       "     {u'CharacterOffsetBegin': u'6',\n",
       "      u'CharacterOffsetEnd': u'12',\n",
       "      u'Lemma': u'order',\n",
       "      u'NamedEntityTag': u'ORGANIZATION',\n",
       "      u'PartOfSpeech': u'NNS'}],\n",
       "    [u'Fed',\n",
       "     {u'CharacterOffsetBegin': u'13',\n",
       "      u'CharacterOffsetEnd': u'16',\n",
       "      u'Lemma': u'Fed',\n",
       "      u'NamedEntityTag': u'ORGANIZATION',\n",
       "      u'PartOfSpeech': u'NNP'}],\n",
       "    [u'To',\n",
       "     {u'CharacterOffsetBegin': u'17',\n",
       "      u'CharacterOffsetEnd': u'19',\n",
       "      u'Lemma': u'to',\n",
       "      u'NamedEntityTag': u'O',\n",
       "      u'PartOfSpeech': u'TO'}],\n",
       "    [u'Adopt',\n",
       "     {u'CharacterOffsetBegin': u'20',\n",
       "      u'CharacterOffsetEnd': u'25',\n",
       "      u'Lemma': u'adopt',\n",
       "      u'NamedEntityTag': u'O',\n",
       "      u'PartOfSpeech': u'VB'}],\n",
       "    [u'Euro',\n",
       "     {u'CharacterOffsetBegin': u'26',\n",
       "      u'CharacterOffsetEnd': u'30',\n",
       "      u'Lemma': u'Euro',\n",
       "      u'NamedEntityTag': u'O',\n",
       "      u'PartOfSpeech': u'NNP'}],\n",
       "    [u'Currency',\n",
       "     {u'CharacterOffsetBegin': u'31',\n",
       "      u'CharacterOffsetEnd': u'39',\n",
       "      u'Lemma': u'Currency',\n",
       "      u'NamedEntityTag': u'O',\n",
       "      u'PartOfSpeech': u'NNP'}]]}]}"
      ]
     },
     "execution_count": 16,
     "metadata": {},
     "output_type": "execute_result"
    }
   ],
   "source": [
    "stanparse_data['b9d1e340-771b-11e4-94c6-4131d5b705e4']"
   ]
  },
  {
   "cell_type": "code",
   "execution_count": 17,
   "metadata": {
    "collapsed": true
   },
   "outputs": [],
   "source": [
    "df_full = get_dataset()"
   ]
  },
  {
   "cell_type": "code",
   "execution_count": 18,
   "metadata": {
    "collapsed": false
   },
   "outputs": [
    {
     "name": "stderr",
     "output_type": "stream",
     "text": [
      "model/ext/transforms.py:113: UnicodeWarning: Unicode equal comparison failed to convert both arguments to Unicode - interpreting them as being unequal\n",
      "  if e in SVOTransform._entailment_map.keys() and x == w]\n"
     ]
    }
   ],
   "source": [
    "m = svt.transform(df_full)"
   ]
  },
  {
   "cell_type": "code",
   "execution_count": 19,
   "metadata": {
    "collapsed": false
   },
   "outputs": [
    {
     "data": {
      "text/plain": [
       "(2595, 9)"
      ]
     },
     "execution_count": 19,
     "metadata": {},
     "output_type": "execute_result"
    }
   ],
   "source": [
    "m.shape"
   ]
  },
  {
   "cell_type": "code",
   "execution_count": 25,
   "metadata": {
    "collapsed": false
   },
   "outputs": [],
   "source": [
    "nz = zip(*m.nonzero())"
   ]
  },
  {
   "cell_type": "code",
   "execution_count": 27,
   "metadata": {
    "collapsed": false
   },
   "outputs": [
    {
     "data": {
      "text/plain": [
       "array([ 0.,  0.,  0.,  0.,  1.,  0.,  0.,  0.,  0.])"
      ]
     },
     "execution_count": 27,
     "metadata": {},
     "output_type": "execute_result"
    }
   ],
   "source": [
    "m[3,:]"
   ]
  },
  {
   "cell_type": "code",
   "execution_count": 44,
   "metadata": {
    "collapsed": false
   },
   "outputs": [
    {
     "data": {
      "text/plain": [
       "claimHeadline            Two Australian men kept a McDonald's Quarter P...\n",
       "articleHeadline          Would you take a bite out of the world's oldes...\n",
       "articleHeadlineStance                                                  for\n",
       "articleId                             fc92d640-b6a8-11e4-8507-b58af63d1078\n",
       "claimId                               d54aaf40-b6a8-11e4-8507-b58af63d1078\n",
       "Name: 3, dtype: object"
      ]
     },
     "execution_count": 44,
     "metadata": {},
     "output_type": "execute_result"
    }
   ],
   "source": [
    "df_full.ix[3, :]"
   ]
  },
  {
   "cell_type": "code",
   "execution_count": null,
   "metadata": {
    "collapsed": true
   },
   "outputs": [],
   "source": []
  }
 ],
 "metadata": {
  "kernelspec": {
   "display_name": "Python 2",
   "language": "python",
   "name": "python2"
  },
  "language_info": {
   "codemirror_mode": {
    "name": "ipython",
    "version": 2
   },
   "file_extension": ".py",
   "mimetype": "text/x-python",
   "name": "python",
   "nbconvert_exporter": "python",
   "pygments_lexer": "ipython2",
   "version": "2.7.10"
  }
 },
 "nbformat": 4,
 "nbformat_minor": 0
}
