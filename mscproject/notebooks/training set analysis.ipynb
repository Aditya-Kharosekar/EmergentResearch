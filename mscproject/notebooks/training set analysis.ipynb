{
 "cells": [
  {
   "cell_type": "code",
   "execution_count": 1,
   "metadata": {
    "collapsed": false
   },
   "outputs": [
    {
     "name": "stdout",
     "output_type": "stream",
     "text": [
      "/Users/williamferreira/Dropbox/mscproject/src\n"
     ]
    }
   ],
   "source": [
    "cd ../src"
   ]
  },
  {
   "cell_type": "code",
   "execution_count": 2,
   "metadata": {
    "collapsed": false
   },
   "outputs": [],
   "source": [
    "import numpy as np\n",
    "import pandas as pd\n",
    "\n",
    "from model.utils import get_dataset, split_data"
   ]
  },
  {
   "cell_type": "code",
   "execution_count": 3,
   "metadata": {
    "collapsed": false
   },
   "outputs": [],
   "source": [
    "training_data = get_dataset('url-versions-2015-06-14-clean-train.csv')\n",
    "X, y = split_data(training_data)"
   ]
  },
  {
   "cell_type": "code",
   "execution_count": 4,
   "metadata": {
    "collapsed": false
   },
   "outputs": [],
   "source": [
    "from model.classifiers.lr_predictors import LogitPredictor"
   ]
  },
  {
   "cell_type": "code",
   "execution_count": 5,
   "metadata": {
    "collapsed": false
   },
   "outputs": [],
   "source": [
    "from model.baseline.transforms import (\n",
    "    RefutingWordsTransform,\n",
    "    QuestionMarkTransform,\n",
    "    HedgingWordsTransform,\n",
    "    InteractionTransform,\n",
    "    NegationOfRefutingWordsTransform,\n",
    "    BoWTransform\n",
    ")\n",
    "\n",
    "from model.ext.transforms import (\n",
    "    AlignedPPDBSemanticTransform,\n",
    "    NegationAlignmentTransform,\n",
    "    Word2VecSimilaritySemanticTransform,\n",
    "    DependencyRootDepthTransform,\n",
    "    SVOTransform,\n",
    ")"
   ]
  },
  {
   "cell_type": "code",
   "execution_count": 8,
   "metadata": {
    "collapsed": false
   },
   "outputs": [],
   "source": [
    "predictor = LogitPredictor([QuestionMarkTransform,\n",
    "                            BoWTransform,\n",
    "                            Word2VecSimilaritySemanticTransform,\n",
    "                            AlignedPPDBSemanticTransform,\n",
    "                            NegationAlignmentTransform,\n",
    "                            DependencyRootDepthTransform,\n",
    "                            SVOTransform])"
   ]
  },
  {
   "cell_type": "code",
   "execution_count": 9,
   "metadata": {
    "collapsed": false
   },
   "outputs": [
    {
     "name": "stderr",
     "output_type": "stream",
     "text": [
      "model/ext/transforms.py:188: UnicodeWarning: Unicode equal comparison failed to convert both arguments to Unicode - interpreting them as being unequal\n",
      "  if e in SVOTransform._entailment_map.keys() and x == w]\n"
     ]
    },
    {
     "data": {
      "text/plain": [
       "LogitPredictor(transforms=[<class 'model.baseline.transforms.QuestionMarkTransform'>, <class 'model.baseline.transforms.BoWTransform'>, <class 'model.ext.transforms.Word2VecSimilaritySemanticTransform'>, <class 'model.ext.transforms.AlignedPPDBSemanticTransform'>, <class 'model.ext.transforms.NegationAlignmentTransform'>, <class 'model.ext.transforms.DependencyRootDepthTransform'>, <class 'model.ext.transforms.SVOTransform'>])"
      ]
     },
     "execution_count": 9,
     "metadata": {},
     "output_type": "execute_result"
    }
   ],
   "source": [
    "predictor.fit(X, y)"
   ]
  },
  {
   "cell_type": "code",
   "execution_count": 10,
   "metadata": {
    "collapsed": true
   },
   "outputs": [],
   "source": [
    "test_data = get_dataset('url-versions-2015-06-14-clean-test.csv')\n",
    "X, y = split_data(test_data)"
   ]
  },
  {
   "cell_type": "code",
   "execution_count": 11,
   "metadata": {
    "collapsed": true
   },
   "outputs": [],
   "source": [
    "example = X[X.articleId == '18eea9c0-47e3-11e4-9960-a165dd517bbb']"
   ]
  },
  {
   "cell_type": "code",
   "execution_count": 12,
   "metadata": {
    "collapsed": false
   },
   "outputs": [
    {
     "data": {
      "text/plain": [
       "array([[ 0.68750213,  0.30108751,  0.01141035]])"
      ]
     },
     "execution_count": 12,
     "metadata": {},
     "output_type": "execute_result"
    }
   ],
   "source": [
    "predictor.predict_proba(example)"
   ]
  },
  {
   "cell_type": "code",
   "execution_count": 12,
   "metadata": {
    "collapsed": false
   },
   "outputs": [],
   "source": [
    "y_hat = predictor.predict(X)"
   ]
  },
  {
   "cell_type": "code",
   "execution_count": 13,
   "metadata": {
    "collapsed": false
   },
   "outputs": [],
   "source": [
    "Z = X.copy()\n",
    "Z['y'] = y\n",
    "Z['y_hat'] = y_hat"
   ]
  },
  {
   "cell_type": "code",
   "execution_count": 13,
   "metadata": {
    "collapsed": true
   },
   "outputs": [],
   "source": [
    "clean_test_errors = Z[(Z.y != Z.y_hat)][['claimHeadline', 'articleHeadline', 'y', 'y_hat', 'articleId', 'claimId']]"
   ]
  },
  {
   "cell_type": "code",
   "execution_count": 15,
   "metadata": {
    "collapsed": false
   },
   "outputs": [
    {
     "data": {
      "text/plain": [
       "(20, 6)"
      ]
     },
     "execution_count": 15,
     "metadata": {},
     "output_type": "execute_result"
    }
   ],
   "source": [
    "clean_test_errors[clean_test_errors.y_hat == 'against'].shape"
   ]
  },
  {
   "cell_type": "code",
   "execution_count": 14,
   "metadata": {
    "collapsed": false
   },
   "outputs": [
    {
     "data": {
      "text/html": [
       "<div>\n",
       "<table border=\"1\" class=\"dataframe\">\n",
       "  <thead>\n",
       "    <tr style=\"text-align: right;\">\n",
       "      <th></th>\n",
       "      <th>claimHeadline</th>\n",
       "      <th>articleHeadline</th>\n",
       "      <th>y</th>\n",
       "      <th>y_hat</th>\n",
       "      <th>articleId</th>\n",
       "      <th>claimId</th>\n",
       "    </tr>\n",
       "  </thead>\n",
       "  <tbody>\n",
       "    <tr>\n",
       "      <th>2438</th>\n",
       "      <td>Tiger Woods is serving a suspension from the P...</td>\n",
       "      <td>Tiger Woods PED, PGA Tour Suspension Allegatio...</td>\n",
       "      <td>against</td>\n",
       "      <td>for</td>\n",
       "      <td>60669e60-c106-11e4-8747-5b024dd6dd6c</td>\n",
       "      <td>10a1faa0-c0fc-11e4-8747-5b024dd6dd6c</td>\n",
       "    </tr>\n",
       "  </tbody>\n",
       "</table>\n",
       "</div>"
      ],
      "text/plain": [
       "                                          claimHeadline  \\\n",
       "2438  Tiger Woods is serving a suspension from the P...   \n",
       "\n",
       "                                        articleHeadline        y y_hat  \\\n",
       "2438  Tiger Woods PED, PGA Tour Suspension Allegatio...  against   for   \n",
       "\n",
       "                                 articleId  \\\n",
       "2438  60669e60-c106-11e4-8747-5b024dd6dd6c   \n",
       "\n",
       "                                   claimId  \n",
       "2438  10a1faa0-c0fc-11e4-8747-5b024dd6dd6c  "
      ]
     },
     "execution_count": 14,
     "metadata": {},
     "output_type": "execute_result"
    }
   ],
   "source": [
    "clean_test_errors[clean_test_errors.articleId == '60669e60-c106-11e4-8747-5b024dd6dd6c']"
   ]
  },
  {
   "cell_type": "code",
   "execution_count": 14,
   "metadata": {
    "collapsed": false
   },
   "outputs": [],
   "source": [
    "Z[Z.y == Z.y_hat][['claimHeadline', 'articleHeadline', 'y', 'y_hat', 'articleId', 'claimId']].to_csv('../output/url-versions-2015-06-14-clean-test-correct.csv')\n",
    "Z[Z.y != Z.y_hat][['claimHeadline', 'articleHeadline', 'y', 'y_hat', 'articleId', 'claimId']].to_csv('../output/url-versions-2015-06-14-clean-test-errors.csv')"
   ]
  },
  {
   "cell_type": "code",
   "execution_count": 12,
   "metadata": {
    "collapsed": false
   },
   "outputs": [],
   "source": [
    "from sklearn.metrics import precision_score, recall_score, f1_score, accuracy_score"
   ]
  },
  {
   "cell_type": "code",
   "execution_count": 13,
   "metadata": {
    "collapsed": false
   },
   "outputs": [
    {
     "data": {
      "text/plain": [
       "0.70997123681687435"
      ]
     },
     "execution_count": 13,
     "metadata": {},
     "output_type": "execute_result"
    }
   ],
   "source": [
    "accuracy_score(y, y_hat)"
   ]
  },
  {
   "cell_type": "code",
   "execution_count": 17,
   "metadata": {
    "collapsed": false
   },
   "outputs": [
    {
     "data": {
      "text/plain": [
       "for          1019\n",
       "observing     808\n",
       "against       343\n",
       "dtype: int64"
      ]
     },
     "execution_count": 17,
     "metadata": {},
     "output_type": "execute_result"
    }
   ],
   "source": [
    "pd.Series(y).value_counts()"
   ]
  },
  {
   "cell_type": "code",
   "execution_count": 18,
   "metadata": {
    "collapsed": false
   },
   "outputs": [
    {
     "data": {
      "text/plain": [
       "(2170,)"
      ]
     },
     "execution_count": 18,
     "metadata": {},
     "output_type": "execute_result"
    }
   ],
   "source": [
    "y.shape"
   ]
  },
  {
   "cell_type": "code",
   "execution_count": 19,
   "metadata": {
    "collapsed": false
   },
   "outputs": [
    {
     "data": {
      "text/plain": [
       "for          0.469585\n",
       "observing    0.372350\n",
       "against      0.158065\n",
       "dtype: float64"
      ]
     },
     "execution_count": 19,
     "metadata": {},
     "output_type": "execute_result"
    }
   ],
   "source": [
    "pd.Series(y).value_counts() / pd.Series(y).value_counts().sum()"
   ]
  },
  {
   "cell_type": "code",
   "execution_count": null,
   "metadata": {
    "collapsed": false
   },
   "outputs": [],
   "source": []
  }
 ],
 "metadata": {
  "kernelspec": {
   "display_name": "Python 2",
   "language": "python",
   "name": "python2"
  },
  "language_info": {
   "codemirror_mode": {
    "name": "ipython",
    "version": 2
   },
   "file_extension": ".py",
   "mimetype": "text/x-python",
   "name": "python",
   "nbconvert_exporter": "python",
   "pygments_lexer": "ipython2",
   "version": "2.7.10"
  }
 },
 "nbformat": 4,
 "nbformat_minor": 0
}
