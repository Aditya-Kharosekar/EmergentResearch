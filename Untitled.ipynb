{
 "cells": [
  {
   "cell_type": "code",
   "execution_count": 1,
   "metadata": {
    "collapsed": false
   },
   "outputs": [
    {
     "name": "stderr",
     "output_type": "stream",
     "text": [
      "C:\\Users\\Aditya Kharosekar\\Anaconda3\\lib\\site-packages\\gensim\\utils.py:855: UserWarning: detected Windows; aliasing chunkize to chunkize_serial\n",
      "  warnings.warn(\"detected Windows; aliasing chunkize to chunkize_serial\")\n"
     ]
    }
   ],
   "source": [
    "import warnings\n",
    "warnings.filterwarnings(\"ignore\", category=DeprecationWarning)\n",
    "import pandas as pd\n",
    "import numpy as np\n",
    "import nltk\n",
    "import string\n",
    "import re\n",
    "import math\n",
    "import gensim\n",
    "from gensim.models.keyedvectors import KeyedVectors\n",
    "from sklearn.metrics.pairwise import cosine_similarity"
   ]
  },
  {
   "cell_type": "markdown",
   "metadata": {},
   "source": [
    "## Step 1 - Import pre-trained Google Word2Vec model"
   ]
  },
  {
   "cell_type": "code",
   "execution_count": 2,
   "metadata": {
    "collapsed": true
   },
   "outputs": [],
   "source": [
    "google_model = gensim.models.KeyedVectors.load_word2vec_format('../../Downloads/GoogleNews-vectors-negative300.bin', binary = True)"
   ]
  },
  {
   "cell_type": "code",
   "execution_count": 3,
   "metadata": {
    "collapsed": false
   },
   "outputs": [
    {
     "data": {
      "text/plain": [
       "array([-0.07226562,  0.1171875 ,  0.16113281,  0.25976562, -0.14257812,\n",
       "       -0.08837891,  0.16992188, -0.00640869, -0.15917969,  0.03112793,\n",
       "       -0.11083984, -0.34179688, -0.1484375 ,  0.16796875, -0.07080078,\n",
       "        0.26171875,  0.07617188,  0.19628906, -0.00476074,  0.21972656,\n",
       "       -0.4140625 , -0.28320312,  0.11035156,  0.05517578, -0.1484375 ,\n",
       "       -0.08984375,  0.05737305,  0.09716797, -0.19921875, -0.25      ,\n",
       "        0.07617188,  0.05664062,  0.11279297, -0.11376953,  0.06982422,\n",
       "       -0.48828125, -0.25585938,  0.18457031,  0.18457031, -0.32226562,\n",
       "       -0.11865234, -0.03735352,  0.66015625,  0.3828125 ,  0.07910156,\n",
       "        0.3046875 , -0.09716797,  0.14160156, -0.06591797,  0.23632812,\n",
       "       -0.09277344,  0.01220703,  0.15527344,  0.25390625, -0.42773438,\n",
       "        0.11425781, -0.15039062, -0.45117188,  0.36328125, -0.09277344,\n",
       "       -0.22460938, -0.0559082 ,  0.1875    , -0.07275391,  0.18847656,\n",
       "       -0.36132812,  0.12207031, -0.07080078,  0.19335938,  0.19140625,\n",
       "        0.01855469,  0.29882812,  0.24414062,  0.27734375, -0.59765625,\n",
       "       -0.06591797, -0.03662109, -0.07275391, -0.18457031,  0.12451172,\n",
       "        0.25      ,  0.2578125 ,  0.09130859, -0.33789062,  0.20117188,\n",
       "        0.18164062,  0.06445312,  0.12988281, -0.10546875, -0.08886719,\n",
       "       -0.04199219,  0.03564453,  0.07421875, -0.21484375,  0.07958984,\n",
       "        0.37304688,  0.11328125,  0.38476562,  0.44726562,  0.06542969,\n",
       "       -0.07714844,  0.125     ,  0.01342773,  0.01501465, -0.19628906,\n",
       "        0.1796875 , -0.2734375 ,  0.0039978 ,  0.12353516,  0.39648438,\n",
       "       -0.16699219, -0.20214844,  0.3828125 , -0.04541016, -0.20117188,\n",
       "        0.49804688, -0.06396484, -0.34179688,  0.05444336, -0.16796875,\n",
       "        0.01208496, -0.20507812, -0.28320312,  0.13085938,  0.09277344,\n",
       "       -0.04736328, -0.15527344,  0.08056641, -0.0055542 ,  0.19335938,\n",
       "       -0.30078125,  0.02355957,  0.20410156,  0.05444336, -0.12890625,\n",
       "       -0.06030273, -0.03198242, -0.01928711,  0.28320312, -0.23925781,\n",
       "        0.29101562, -0.49414062,  0.07763672,  0.10400391,  0.01239014,\n",
       "       -0.09960938, -0.453125  ,  0.10839844,  0.18261719, -0.12597656,\n",
       "        0.30273438, -0.35546875, -0.08300781, -0.16113281, -0.0300293 ,\n",
       "       -0.296875  ,  0.2109375 ,  0.16308594, -0.09716797, -0.17675781,\n",
       "        0.14746094,  0.01068115, -0.05566406,  0.20703125, -0.07421875,\n",
       "       -0.34375   ,  0.13867188,  0.359375  ,  0.10058594, -0.12304688,\n",
       "       -0.24609375, -0.125     , -0.23046875,  0.16308594, -0.14453125,\n",
       "        0.328125  ,  0.09130859, -0.2109375 ,  0.32617188,  0.00714111,\n",
       "       -0.17382812,  0.03637695, -0.1484375 , -0.18554688,  0.17285156,\n",
       "        0.11181641, -0.12304688, -0.08251953,  0.11035156,  0.03735352,\n",
       "        0.11132812, -0.0625    ,  0.23828125,  0.18457031, -0.15429688,\n",
       "        0.07226562,  0.14941406, -0.21875   ,  0.16210938,  0.13574219,\n",
       "       -0.01928711,  0.0546875 , -0.12207031, -0.23242188,  0.01574707,\n",
       "       -0.17871094,  0.00088882, -0.30859375, -0.328125  ,  0.2421875 ,\n",
       "        0.03466797,  0.06054688, -0.10498047,  0.04492188, -0.28515625,\n",
       "        0.17871094,  0.02856445,  0.17871094, -0.09814453,  0.09277344,\n",
       "       -0.15332031, -0.27929688,  0.22851562, -0.26367188,  0.05908203,\n",
       "       -0.16503906,  0.08691406,  0.07958984,  0.14257812, -0.17480469,\n",
       "        0.2109375 , -0.53515625, -0.20410156, -0.08251953, -0.0625    ,\n",
       "        0.11621094,  0.06347656, -0.12695312,  0.14160156,  0.01867676,\n",
       "       -0.01611328,  0.12988281,  0.0222168 , -0.09375   , -0.55078125,\n",
       "       -0.23535156, -0.19433594,  0.18945312, -0.22363281,  0.02746582,\n",
       "       -0.01013184, -0.11523438,  0.17675781, -0.09521484,  0.07568359,\n",
       "       -0.28515625,  0.11474609, -0.03015137,  0.20703125, -0.22460938,\n",
       "        0.04394531, -0.12451172,  0.14257812, -0.16796875, -0.03027344,\n",
       "       -0.11376953,  0.19921875, -0.07128906,  0.18261719, -0.13769531,\n",
       "       -0.30859375, -0.10791016,  0.18457031,  0.25      ,  0.13085938,\n",
       "        0.00549316, -0.35742188, -0.13183594, -0.10986328,  0.40039062,\n",
       "       -0.36523438,  0.06445312, -0.11230469,  0.08447266,  0.26757812,\n",
       "       -0.10302734,  0.04418945, -0.00946045, -0.20996094, -0.09375   ,\n",
       "        0.14453125,  0.20019531, -0.125     ,  0.19628906,  0.02722168,\n",
       "       -0.17382812, -0.12109375, -0.33398438,  0.12353516,  0.15527344], dtype=float32)"
      ]
     },
     "execution_count": 3,
     "metadata": {},
     "output_type": "execute_result"
    }
   ],
   "source": [
    "google_model['nasa']"
   ]
  },
  {
   "cell_type": "code",
   "execution_count": 4,
   "metadata": {
    "collapsed": true
   },
   "outputs": [],
   "source": [
    "#This is the list of words for which the google model has a vector\n",
    "google_vocab = google_model.vocab.keys()"
   ]
  },
  {
   "cell_type": "markdown",
   "metadata": {},
   "source": [
    "## Step 2 - Find Word Embeddings"
   ]
  },
  {
   "cell_type": "code",
   "execution_count": 5,
   "metadata": {
    "collapsed": false
   },
   "outputs": [
    {
     "data": {
      "text/html": [
       "<div>\n",
       "<table border=\"1\" class=\"dataframe\">\n",
       "  <thead>\n",
       "    <tr style=\"text-align: right;\">\n",
       "      <th></th>\n",
       "      <th>claim</th>\n",
       "      <th>articleHeadline</th>\n",
       "      <th>predictedStance</th>\n",
       "    </tr>\n",
       "  </thead>\n",
       "  <tbody>\n",
       "    <tr>\n",
       "      <th>0</th>\n",
       "      <td>Meijer is offering 100 off Back to School coup...</td>\n",
       "      <td>100 Meijer Coupon - Snopes.com</td>\n",
       "      <td>against</td>\n",
       "    </tr>\n",
       "    <tr>\n",
       "      <th>1</th>\n",
       "      <td>Meijer is offering 100 off Back to School coup...</td>\n",
       "      <td>Fake Meijer 100 back-to-school coupon goes vir...</td>\n",
       "      <td>against</td>\n",
       "    </tr>\n",
       "    <tr>\n",
       "      <th>2</th>\n",
       "      <td>Meijer is offering 100 off Back to School coup...</td>\n",
       "      <td>100 Meijer Coupon - Hoax - Trendolizer</td>\n",
       "      <td>against</td>\n",
       "    </tr>\n",
       "    <tr>\n",
       "      <th>3</th>\n",
       "      <td>Meijer is offering 100 off Back to School coup...</td>\n",
       "      <td>100 OFF Meijer Coupon Deals April 2017 HotDeal...</td>\n",
       "      <td>against</td>\n",
       "    </tr>\n",
       "    <tr>\n",
       "      <th>4</th>\n",
       "      <td>Meijer is offering 100 off Back to School coup...</td>\n",
       "      <td>10 off 100 in Visa Gift Cards at Meijer - Freq...</td>\n",
       "      <td>against</td>\n",
       "    </tr>\n",
       "  </tbody>\n",
       "</table>\n",
       "</div>"
      ],
      "text/plain": [
       "                                               claim  \\\n",
       "0  Meijer is offering 100 off Back to School coup...   \n",
       "1  Meijer is offering 100 off Back to School coup...   \n",
       "2  Meijer is offering 100 off Back to School coup...   \n",
       "3  Meijer is offering 100 off Back to School coup...   \n",
       "4  Meijer is offering 100 off Back to School coup...   \n",
       "\n",
       "                                     articleHeadline predictedStance  \n",
       "0                     100 Meijer Coupon - Snopes.com         against  \n",
       "1  Fake Meijer 100 back-to-school coupon goes vir...         against  \n",
       "2             100 Meijer Coupon - Hoax - Trendolizer         against  \n",
       "3  100 OFF Meijer Coupon Deals April 2017 HotDeal...         against  \n",
       "4  10 off 100 in Visa Gift Cards at Meijer - Freq...         against  "
      ]
     },
     "execution_count": 5,
     "metadata": {},
     "output_type": "execute_result"
    }
   ],
   "source": [
    "my_claims = pd.read_csv('Snopes_articles_with_predicted_stance.csv', index_col = 0)\n",
    "my_claims.head()"
   ]
  },
  {
   "cell_type": "code",
   "execution_count": null,
   "metadata": {
    "collapsed": true
   },
   "outputs": [],
   "source": []
  }
 ],
 "metadata": {
  "kernelspec": {
   "display_name": "Python [default]",
   "language": "python",
   "name": "python3"
  },
  "language_info": {
   "codemirror_mode": {
    "name": "ipython",
    "version": 3
   },
   "file_extension": ".py",
   "mimetype": "text/x-python",
   "name": "python",
   "nbconvert_exporter": "python",
   "pygments_lexer": "ipython3",
   "version": "3.5.2"
  }
 },
 "nbformat": 4,
 "nbformat_minor": 1
}
