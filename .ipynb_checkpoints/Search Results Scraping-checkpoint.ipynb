{
 "cells": [
  {
   "cell_type": "code",
   "execution_count": 1,
   "metadata": {
    "collapsed": true
   },
   "outputs": [],
   "source": [
    "from bs4 import BeautifulSoup\n",
    "import requests\n",
    "import glob\n",
    "import json\n",
    "import pandas as pd"
   ]
  },
  {
   "cell_type": "markdown",
   "metadata": {},
   "source": [
    "## Getting text of all claims"
   ]
  },
  {
   "cell_type": "code",
   "execution_count": 2,
   "metadata": {
    "collapsed": false
   },
   "outputs": [],
   "source": [
    "claims = []\n",
    "claims_file = glob.glob('Snopes\\*.json')\n",
    "for l in claims_file:\n",
    "    item = json.loads(open(l).read())\n",
    "    claims.append(item['Claim'])"
   ]
  },
  {
   "cell_type": "markdown",
   "metadata": {},
   "source": [
    "## Now getting the first 10 google results of each claim and storing them in a csv"
   ]
  },
  {
   "cell_type": "markdown",
   "metadata": {},
   "source": [
    "I am going to make a CSV with the following columns - claimId, claimHeadline, claimTruthiness, articleId, articleVersion, articleHeadline, articleHeadlineStance. I am choosing these columns because in data_extraction.py, the original author chose these columns.\n",
    "\n",
    "claimId will be 1, 2, ....,\n",
    "claimHeadline - I'll take these from the snopes data,\n",
    "claimTruthiness - unknown,\n",
    "articleId - 1, 2, ....,\n",
    "articleVersion - 1 for everything,\n",
    "articleHeadline - I'll take this from google,\n",
    "articleHeadlineStance - Unsure at this moment what to do with this"
   ]
  },
  {
   "cell_type": "code",
   "execution_count": 2,
   "metadata": {
    "collapsed": true
   },
   "outputs": [],
   "source": [
    "def google_search(query):\n",
    "    query = query.replace(' ', '+')\n",
    "    query = 'https://www.google.com/search?q=' + query\n",
    "    r = requests.get(query)\n",
    "    soup = BeautifulSoup(r.text, \"html.parser\")\n",
    "\n",
    "    links = []\n",
    "    for item in soup.find_all('h3', attrs={'class' : 'r'}):\n",
    "        links.append(item.a.text)\n",
    "    return links"
   ]
  },
  {
   "cell_type": "code",
   "execution_count": 3,
   "metadata": {
    "collapsed": false
   },
   "outputs": [
    {
     "data": {
      "text/plain": [
       "[u'Doubt of Gas - Snopes.com',\n",
       " u'Social network claim victimizes SuperAmerica | NewsCut ...',\n",
       " u\"SuperAmerica Says Alleged Military Bias Was 'Misunderstanding On ...\",\n",
       " u'shunned serviceman \\u2013 Snopes.com']"
      ]
     },
     "execution_count": 3,
     "metadata": {},
     "output_type": "execute_result"
    }
   ],
   "source": [
    "google_search('A female Air Force National Guard member was denied service at a Bloomington Minnesota, SuperAmerica station because her military uniform offended foreign cab drivers.'\n",
    ")"
   ]
  },
  {
   "cell_type": "code",
   "execution_count": null,
   "metadata": {
    "collapsed": false
   },
   "outputs": [],
   "source": [
    "rows_list = []\n",
    "articles_per_claim = 5\n",
    "claimIndex = 1\n",
    "\n",
    "for claim in claims:\n",
    "    results = google_search(claim)\n",
    "    for i in range(len(results)):\n",
    "        rows_list.append({\n",
    "            'claimId': claimIndex,\n",
    "            'claimHeadline':claim,\n",
    "            'claimTruthiness':'unknown',\n",
    "            'articleId': i,\n",
    "            'articleVersion':1,\n",
    "            'articleHeadline':results[i],\n",
    "            'articleHeadlineStance': 'for'    #as a placeholder.Will change this once I figure out what to do with this column\n",
    "        })\n",
    "    claimIndex+=1\n",
    "    if (claimIndex%50==0):\n",
    "        print(\"Finished claim number \", claimIndex)\n",
    "    \n",
    "f = pd.DataFrame(rows_list)\n",
    "f.to_csv(\"My_claims_csv.csv\", index = None, columns = ['claimId', 'claimTruthiness', 'claimHeadline', 'articleId', \n",
    "                                                       'articleVersion', 'articleHeadline', 'articleHeadlineStance'])"
   ]
  },
  {
   "cell_type": "markdown",
   "metadata": {},
   "source": [
    "Now, I just have to figure out what to do with the articleHeadlineStance column"
   ]
  },
  {
   "cell_type": "code",
   "execution_count": 5,
   "metadata": {
    "collapsed": false
   },
   "outputs": [],
   "source": [
    "my_claims = pd.read_csv(\"mscproject\\data\\emergent\\My_claims_csv.csv\")"
   ]
  },
  {
   "cell_type": "code",
   "execution_count": 8,
   "metadata": {
    "collapsed": false
   },
   "outputs": [
    {
     "ename": "UnicodeDecodeError",
     "evalue": "'utf8' codec can't decode byte 0x96 in position 56: invalid start byte",
     "output_type": "error",
     "traceback": [
      "\u001b[0;31m---------------------------------------------------------------------------\u001b[0m",
      "\u001b[0;31mUnicodeDecodeError\u001b[0m                        Traceback (most recent call last)",
      "\u001b[0;32m<ipython-input-8-f595ca896276>\u001b[0m in \u001b[0;36m<module>\u001b[0;34m()\u001b[0m\n\u001b[1;32m      2\u001b[0m \u001b[0marticles\u001b[0m \u001b[1;33m=\u001b[0m \u001b[0mmy_claims\u001b[0m\u001b[1;33m[\u001b[0m\u001b[1;34m'articleHeadline'\u001b[0m\u001b[1;33m]\u001b[0m\u001b[1;33m\u001b[0m\u001b[0m\n\u001b[1;32m      3\u001b[0m \u001b[1;32mfor\u001b[0m \u001b[0marticle\u001b[0m \u001b[1;32min\u001b[0m \u001b[0marticles\u001b[0m\u001b[1;33m:\u001b[0m\u001b[1;33m\u001b[0m\u001b[0m\n\u001b[0;32m----> 4\u001b[0;31m     \u001b[0mnew_claims\u001b[0m\u001b[1;33m.\u001b[0m\u001b[0mappend\u001b[0m\u001b[1;33m(\u001b[0m\u001b[0marticle\u001b[0m\u001b[1;33m.\u001b[0m\u001b[0mdecode\u001b[0m\u001b[1;33m(\u001b[0m\u001b[1;34m'utf8'\u001b[0m\u001b[1;33m)\u001b[0m\u001b[1;33m)\u001b[0m\u001b[1;33m\u001b[0m\u001b[0m\n\u001b[0m",
      "\u001b[0;32mC:\\Users\\Aditya Kharosekar\\Anaconda3\\envs\\mscproject\\lib\\encodings\\utf_8.pyc\u001b[0m in \u001b[0;36mdecode\u001b[0;34m(input, errors)\u001b[0m\n\u001b[1;32m     14\u001b[0m \u001b[1;33m\u001b[0m\u001b[0m\n\u001b[1;32m     15\u001b[0m \u001b[1;32mdef\u001b[0m \u001b[0mdecode\u001b[0m\u001b[1;33m(\u001b[0m\u001b[0minput\u001b[0m\u001b[1;33m,\u001b[0m \u001b[0merrors\u001b[0m\u001b[1;33m=\u001b[0m\u001b[1;34m'strict'\u001b[0m\u001b[1;33m)\u001b[0m\u001b[1;33m:\u001b[0m\u001b[1;33m\u001b[0m\u001b[0m\n\u001b[0;32m---> 16\u001b[0;31m     \u001b[1;32mreturn\u001b[0m \u001b[0mcodecs\u001b[0m\u001b[1;33m.\u001b[0m\u001b[0mutf_8_decode\u001b[0m\u001b[1;33m(\u001b[0m\u001b[0minput\u001b[0m\u001b[1;33m,\u001b[0m \u001b[0merrors\u001b[0m\u001b[1;33m,\u001b[0m \u001b[0mTrue\u001b[0m\u001b[1;33m)\u001b[0m\u001b[1;33m\u001b[0m\u001b[0m\n\u001b[0m\u001b[1;32m     17\u001b[0m \u001b[1;33m\u001b[0m\u001b[0m\n\u001b[1;32m     18\u001b[0m \u001b[1;32mclass\u001b[0m \u001b[0mIncrementalEncoder\u001b[0m\u001b[1;33m(\u001b[0m\u001b[0mcodecs\u001b[0m\u001b[1;33m.\u001b[0m\u001b[0mIncrementalEncoder\u001b[0m\u001b[1;33m)\u001b[0m\u001b[1;33m:\u001b[0m\u001b[1;33m\u001b[0m\u001b[0m\n",
      "\u001b[0;31mUnicodeDecodeError\u001b[0m: 'utf8' codec can't decode byte 0x96 in position 56: invalid start byte"
     ]
    }
   ],
   "source": [
    "new_claims = []\n",
    "articles = my_claims['articleHeadline']\n",
    "for article in articles:\n",
    "    new_claims.append(article.decode('utf8'))"
   ]
  },
  {
   "cell_type": "code",
   "execution_count": null,
   "metadata": {
    "collapsed": true
   },
   "outputs": [],
   "source": []
  }
 ],
 "metadata": {
  "anaconda-cloud": {},
  "kernelspec": {
   "display_name": "Python [conda env:python2]",
   "language": "python",
   "name": "conda-env-python2-py"
  },
  "language_info": {
   "codemirror_mode": {
    "name": "ipython",
    "version": 2
   },
   "file_extension": ".py",
   "mimetype": "text/x-python",
   "name": "python",
   "nbconvert_exporter": "python",
   "pygments_lexer": "ipython2",
   "version": "2.7.13"
  }
 },
 "nbformat": 4,
 "nbformat_minor": 1
}
